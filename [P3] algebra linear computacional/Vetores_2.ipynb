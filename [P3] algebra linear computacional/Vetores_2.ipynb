{
 "cells": [
  {
   "cell_type": "markdown",
   "metadata": {},
   "source": [
    "# Vetores"
   ]
  },
  {
   "cell_type": "markdown",
   "metadata": {},
   "source": [
    "# Complexidade de cálculos vetoriais\n",
    "**Operadores de ponto flutuante**. Sabemos que\n",
    "\n",
    "$$(a+b)(a-b) = a^2-b^2 \\qquad \\forall \\, a, b\\in \\mathbb{R}.$$\n",
    "\n",
    "Quando um computador calcula o lado esquerdo e o lado direito, para $a$ e $b$, não necessariamente são iguais, devido a erros de arredondamento de ponto flutuante muito pequenos. Mas eles devem ser quase iguais."
   ]
  },
  {
   "cell_type": "code",
   "execution_count": 1,
   "metadata": {
    "scrolled": true
   },
   "outputs": [
    {
     "data": {
      "text/plain": [
       "0.43487977794520144"
      ]
     },
     "execution_count": 1,
     "metadata": {},
     "output_type": "execute_result"
    }
   ],
   "source": [
    "a = rand();\n",
    "b = rand();\n",
    "esquerda = (a+b) * (a-b)"
   ]
  },
  {
   "cell_type": "code",
   "execution_count": 2,
   "metadata": {},
   "outputs": [
    {
     "data": {
      "text/plain": [
       "0.4348797779452014"
      ]
     },
     "execution_count": 2,
     "metadata": {},
     "output_type": "execute_result"
    }
   ],
   "source": [
    "direita = a^2 - b^2"
   ]
  },
  {
   "cell_type": "code",
   "execution_count": 42,
   "metadata": {},
   "outputs": [
    {
     "data": {
      "text/plain": [
       "false"
      ]
     },
     "execution_count": 42,
     "metadata": {},
     "output_type": "execute_result"
    }
   ],
   "source": [
    "esquerda == direita # não são iguais, mas muito próximos."
   ]
  },
  {
   "cell_type": "markdown",
   "metadata": {},
   "source": [
    "**Complexidade**. Podemos cronometrar um comando em Julia adicionando ```@time```. O cronômetro não é muito preciso para tempos muito pequenos, medidos em microssegundos $(10^{-6} {\\rm segundos})$. Além disso, você deve executar este comando mais de uma vez; pois pode ser muito mais rápido nas seguintes execuções."
   ]
  },
  {
   "cell_type": "code",
   "execution_count": 64,
   "metadata": {},
   "outputs": [
    {
     "name": "stdout",
     "output_type": "stream",
     "text": [
      "  0.000187 seconds (2 allocations: 32 bytes)\n"
     ]
    },
    {
     "data": {
      "text/plain": [
       "-238.03662461889752"
      ]
     },
     "execution_count": 64,
     "metadata": {},
     "output_type": "execute_result"
    }
   ],
   "source": [
    "a = randn(10^5); \n",
    "b = randn(10^5);\n",
    "@time a'*b"
   ]
  },
  {
   "cell_type": "code",
   "execution_count": 5,
   "metadata": {},
   "outputs": [
    {
     "name": "stdout",
     "output_type": "stream",
     "text": [
      "  0.000336 seconds (2 allocations: 32 bytes)\n"
     ]
    },
    {
     "data": {
      "text/plain": [
       "171.32307974320707"
      ]
     },
     "execution_count": 5,
     "metadata": {},
     "output_type": "execute_result"
    }
   ],
   "source": [
    "@time a'*b"
   ]
  },
  {
   "cell_type": "code",
   "execution_count": 6,
   "metadata": {},
   "outputs": [
    {
     "name": "stdout",
     "output_type": "stream",
     "text": [
      "  0.000833 seconds (2 allocations: 32 bytes)\n"
     ]
    },
    {
     "data": {
      "text/plain": [
       "-704.8128259647635"
      ]
     },
     "execution_count": 6,
     "metadata": {},
     "output_type": "execute_result"
    }
   ],
   "source": [
    "c = randn(10^6); \n",
    "d = randn(10^6);\n",
    "@time c'*d"
   ]
  },
  {
   "cell_type": "code",
   "execution_count": 7,
   "metadata": {},
   "outputs": [
    {
     "name": "stdout",
     "output_type": "stream",
     "text": [
      "  0.000673 seconds (2 allocations: 32 bytes)\n"
     ]
    },
    {
     "data": {
      "text/plain": [
       "-704.8128259647635"
      ]
     },
     "execution_count": 7,
     "metadata": {},
     "output_type": "execute_result"
    }
   ],
   "source": [
    "@time c'*d"
   ]
  },
  {
   "cell_type": "markdown",
   "metadata": {},
   "source": [
    "**Vetores esparsos**. As funções para criar e manipular vetores esparsos estão contidas no pacote SparseArrays do Julia, então você precisa instalar este pacote antes de poder usá-los."
   ]
  },
  {
   "cell_type": "markdown",
   "metadata": {},
   "source": [
    "Os vetores esparsos são armazenados como arrays esparsos, ou seja, arrays nos quais apenas os elementos diferentes de zero são armazenados. Em Julia você pode criar um vetor esparso a partir de listas de índices e valores usando a função ```sparsevec```. Você também pode primeiro criar um vetor esparso de zeros (usando ```spzeros(n)```) e então atribuir valores às entradas diferentes de zero. \n",
    "\n",
    "Um vetor esparso pode ser criado a partir de um vetor não esparso usando ```sparse(x)```, que retorna uma versão esparsa de ```x```."
   ]
  },
  {
   "cell_type": "code",
   "execution_count": 8,
   "metadata": {},
   "outputs": [],
   "source": [
    "using SparseArrays #Para manipular vetores esparsos"
   ]
  },
  {
   "cell_type": "code",
   "execution_count": 65,
   "metadata": {},
   "outputs": [
    {
     "data": {
      "text/plain": [
       "1000000-element SparseVector{Float64, Int64} with 2 stored entries:\n",
       "  [123456 ]  =  1.0\n",
       "  [123457 ]  =  -1.0"
      ]
     },
     "execution_count": 65,
     "metadata": {},
     "output_type": "execute_result"
    }
   ],
   "source": [
    "a = sparsevec([123456, 123457],[1.0,-1.0], 10^6) #  cria um vetor esparso a partir de listas de índices e valores"
   ]
  },
  {
   "cell_type": "code",
   "execution_count": 66,
   "metadata": {},
   "outputs": [
    {
     "data": {
      "text/plain": [
       "1000000"
      ]
     },
     "execution_count": 66,
     "metadata": {},
     "output_type": "execute_result"
    }
   ],
   "source": [
    "length(a)"
   ]
  },
  {
   "cell_type": "code",
   "execution_count": 67,
   "metadata": {},
   "outputs": [
    {
     "data": {
      "text/plain": [
       "2"
      ]
     },
     "execution_count": 67,
     "metadata": {},
     "output_type": "execute_result"
    }
   ],
   "source": [
    "nnz(a) # número de elementos diferentes de zero de um vetor esparso"
   ]
  },
  {
   "cell_type": "code",
   "execution_count": 69,
   "metadata": {},
   "outputs": [
    {
     "name": "stdout",
     "output_type": "stream",
     "text": [
      "  0.000018 seconds (3 allocations: 192 bytes)\n"
     ]
    },
    {
     "data": {
      "text/plain": [
       "1000000-element SparseVector{Float64, Int64} with 2 stored entries:\n",
       "  [123456 ]  =  2.0\n",
       "  [123457 ]  =  -2.0"
      ]
     },
     "execution_count": 69,
     "metadata": {},
     "output_type": "execute_result"
    }
   ],
   "source": [
    "b = randn(10^6) #Um ordinario (vetor não-esparso)\n",
    "@time 2*a #Calculado de forma eficiente!"
   ]
  },
  {
   "cell_type": "code",
   "execution_count": 70,
   "metadata": {},
   "outputs": [
    {
     "name": "stdout",
     "output_type": "stream",
     "text": [
      "  0.023094 seconds (2 allocations: 7.629 MiB, 92.49% gc time)\n"
     ]
    },
    {
     "data": {
      "text/plain": [
       "1000000-element Vector{Float64}:\n",
       "  1.5503635739808665\n",
       "  1.9920683095898488\n",
       "  0.9964363430123953\n",
       "  1.7973134934664896\n",
       " -0.8041892174683543\n",
       " -0.2868979102325832\n",
       " -1.6909445437419244\n",
       " -1.6774893172211287\n",
       "  2.1633444267459585\n",
       "  1.5856762093268821\n",
       "  0.6540198407438688\n",
       " -0.3721282553054695\n",
       "  1.5261048933215025\n",
       "  ⋮\n",
       "  2.3293241106718856\n",
       " -2.0980783098937326\n",
       " -1.5092502161180685\n",
       " -0.30078868653183616\n",
       "  1.8279718908407443\n",
       "  0.2882300594148363\n",
       "  1.2766533666811493\n",
       " -2.855277897388561\n",
       " -1.1226030488516252\n",
       " -2.274483703318295\n",
       " -0.5287013777166433\n",
       "  0.7598555257116776"
      ]
     },
     "execution_count": 70,
     "metadata": {},
     "output_type": "execute_result"
    }
   ],
   "source": [
    "@time 2*b"
   ]
  },
  {
   "cell_type": "code",
   "execution_count": 71,
   "metadata": {},
   "outputs": [
    {
     "data": {
      "text/plain": [
       "1000000-element SparseVector{Float64, Int64} with 1000000 stored entries:\n",
       "  [1      ]  =  0.775182\n",
       "  [2      ]  =  0.996034\n",
       "  [3      ]  =  0.498218\n",
       "  [4      ]  =  0.898657\n",
       "  [5      ]  =  -0.402095\n",
       "  [6      ]  =  -0.143449\n",
       "  [7      ]  =  -0.845472\n",
       "  [8      ]  =  -0.838745\n",
       "  [9      ]  =  1.08167\n",
       "  [10     ]  =  0.792838\n",
       "             ⋮\n",
       "  [999990 ]  =  -1.04904\n",
       "  [999991 ]  =  -0.754625\n",
       "  [999992 ]  =  -0.150394\n",
       "  [999993 ]  =  0.913986\n",
       "  [999994 ]  =  0.144115\n",
       "  [999995 ]  =  0.638327\n",
       "  [999996 ]  =  -1.42764\n",
       "  [999997 ]  =  -0.561302\n",
       "  [999998 ]  =  -1.13724\n",
       "  [999999 ]  =  -0.264351\n",
       "  [1000000]  =  0.379928"
      ]
     },
     "execution_count": 71,
     "metadata": {},
     "output_type": "execute_result"
    }
   ],
   "source": [
    "sb = sparse(b) # cria uma versão esparsa apartir do vetor não esparso b "
   ]
  },
  {
   "cell_type": "code",
   "execution_count": 72,
   "metadata": {},
   "outputs": [
    {
     "name": "stdout",
     "output_type": "stream",
     "text": [
      "  0.000160 seconds (2 allocations: 48 bytes)\n"
     ]
    },
    {
     "data": {
      "text/plain": [
       "-3.1016965681100492"
      ]
     },
     "execution_count": 72,
     "metadata": {},
     "output_type": "execute_result"
    }
   ],
   "source": [
    "@time a'*sb"
   ]
  },
  {
   "cell_type": "code",
   "execution_count": 16,
   "metadata": {},
   "outputs": [
    {
     "name": "stdout",
     "output_type": "stream",
     "text": [
      "  0.010659 seconds (37.78 k allocations: 2.053 MiB, 96.45% compilation time)\n"
     ]
    },
    {
     "data": {
      "text/plain": [
       "0.7028344924052492"
      ]
     },
     "execution_count": 16,
     "metadata": {},
     "output_type": "execute_result"
    }
   ],
   "source": [
    "@time a'*b"
   ]
  },
  {
   "cell_type": "code",
   "execution_count": 17,
   "metadata": {},
   "outputs": [
    {
     "name": "stdout",
     "output_type": "stream",
     "text": [
      "  0.000437 seconds (2 allocations: 32 bytes)\n"
     ]
    },
    {
     "data": {
      "text/plain": [
       "999011.0256445078"
      ]
     },
     "execution_count": 17,
     "metadata": {},
     "output_type": "execute_result"
    }
   ],
   "source": [
    "@time b'*b"
   ]
  },
  {
   "cell_type": "code",
   "execution_count": 18,
   "metadata": {
    "scrolled": true
   },
   "outputs": [
    {
     "name": "stdout",
     "output_type": "stream",
     "text": [
      "  0.333408 seconds (1.59 M allocations: 115.924 MiB, 10.83% gc time, 90.36% compilation time)\n"
     ]
    },
    {
     "data": {
      "text/plain": [
       "1000000-element SparseVector{Float64, Int64} with 1000000 stored entries:\n",
       "  [1      ]  =  -2.01238\n",
       "  [2      ]  =  -0.519354\n",
       "  [3      ]  =  -1.00251\n",
       "  [4      ]  =  1.29474\n",
       "  [5      ]  =  0.507438\n",
       "  [6      ]  =  -0.318947\n",
       "  [7      ]  =  -0.399074\n",
       "  [8      ]  =  -0.6763\n",
       "  [9      ]  =  -0.377782\n",
       "  [10     ]  =  -0.626285\n",
       "             ⋮\n",
       "  [999990 ]  =  3.74333\n",
       "  [999991 ]  =  1.85377\n",
       "  [999992 ]  =  -0.739253\n",
       "  [999993 ]  =  1.75258\n",
       "  [999994 ]  =  -0.191247\n",
       "  [999995 ]  =  0.802288\n",
       "  [999996 ]  =  -0.069844\n",
       "  [999997 ]  =  -1.24182\n",
       "  [999998 ]  =  -0.0161188\n",
       "  [999999 ]  =  0.008581\n",
       "  [1000000]  =  -0.602286"
      ]
     },
     "execution_count": 18,
     "metadata": {},
     "output_type": "execute_result"
    }
   ],
   "source": [
    "@time c = a + b"
   ]
  },
  {
   "cell_type": "markdown",
   "metadata": {},
   "source": [
    "Na última linha, o vetor esparso a é convertido automaticamente em um vetor comum (array) para que possa ser adicionado ao vetor aleatório; o resultado é um vetor (não esparso) de comprimento $10^6$."
   ]
  },
  {
   "cell_type": "code",
   "execution_count": 19,
   "metadata": {
    "scrolled": true
   },
   "outputs": [
    {
     "data": {
      "text/plain": [
       "1000000-element SparseVector{Float64, Int64} with 1000000 stored entries:\n",
       "  [1      ]  =  -2.01238\n",
       "  [2      ]  =  -0.519354\n",
       "  [3      ]  =  -1.00251\n",
       "  [4      ]  =  1.29474\n",
       "  [5      ]  =  0.507438\n",
       "  [6      ]  =  -0.318947\n",
       "  [7      ]  =  -0.399074\n",
       "  [8      ]  =  -0.6763\n",
       "  [9      ]  =  -0.377782\n",
       "  [10     ]  =  -0.626285\n",
       "             ⋮\n",
       "  [999990 ]  =  3.74333\n",
       "  [999991 ]  =  1.85377\n",
       "  [999992 ]  =  -0.739253\n",
       "  [999993 ]  =  1.75258\n",
       "  [999994 ]  =  -0.191247\n",
       "  [999995 ]  =  0.802288\n",
       "  [999996 ]  =  -0.069844\n",
       "  [999997 ]  =  -1.24182\n",
       "  [999998 ]  =  -0.0161188\n",
       "  [999999 ]  =  0.008581\n",
       "  [1000000]  =  -0.602286"
      ]
     },
     "execution_count": 19,
     "metadata": {},
     "output_type": "execute_result"
    }
   ],
   "source": [
    "spzeros(10^6) + c"
   ]
  },
  {
   "cell_type": "code",
   "execution_count": 20,
   "metadata": {},
   "outputs": [],
   "source": [
    "using LinearAlgebra"
   ]
  },
  {
   "cell_type": "markdown",
   "metadata": {},
   "source": [
    "# Norma e distancia\n",
    "### Norma\n",
    "**Norm.** A norma $‖x‖$ em Julia é `norm(x)`.  A função `norm`  esta definida no package `LinearAlgebra`."
   ]
  },
  {
   "cell_type": "code",
   "execution_count": 73,
   "metadata": {},
   "outputs": [
    {
     "data": {
      "text/plain": [
       "(3.0, 3.0, 3.0)"
      ]
     },
     "execution_count": 73,
     "metadata": {},
     "output_type": "execute_result"
    }
   ],
   "source": [
    "x = [ 2, -1, 2 ];\n",
    "norm(x), sqrt(x'*x), sqrt(sum(x.^2))"
   ]
  },
  {
   "cell_type": "code",
   "execution_count": 22,
   "metadata": {},
   "outputs": [
    {
     "data": {
      "text/plain": [
       "(5.0, 2.0, 3.0, 2.39678172692843)"
      ]
     },
     "execution_count": 22,
     "metadata": {},
     "output_type": "execute_result"
    }
   ],
   "source": [
    "norm(x, 1),   # Norma 1\n",
    "norm(x, Inf), # Norma infinito\n",
    "norm(x, 2),   # Norma Euclideana\n",
    "norm(x, 4)    # Norma induzida p=4"
   ]
  },
  {
   "cell_type": "markdown",
   "metadata": {},
   "source": [
    "**Desigualdade Triangular.** \n",
    "\n",
    "$$‖x+ y‖ ≤ ‖x‖+ ‖y‖\\qquad \\forall\\, x, y \\in \\mathbb{R}^n$$"
   ]
  },
  {
   "cell_type": "code",
   "execution_count": 99,
   "metadata": {},
   "outputs": [
    {
     "data": {
      "text/plain": [
       "(4.791562860865834, 5.898581575758053)"
      ]
     },
     "execution_count": 99,
     "metadata": {},
     "output_type": "execute_result"
    }
   ],
   "source": [
    "x = randn(10); \n",
    "y = randn(10);\n",
    "esquerdo = norm(x+y)\n",
    "direito = norm(x) + norm(y)\n",
    "esquerdo, direito"
   ]
  },
  {
   "cell_type": "markdown",
   "metadata": {},
   "source": [
    "**Exemplo:** Função média aritmética"
   ]
  },
  {
   "cell_type": "code",
   "execution_count": 101,
   "metadata": {},
   "outputs": [
    {
     "data": {
      "text/plain": [
       "2.1428571428571423"
      ]
     },
     "execution_count": 101,
     "metadata": {},
     "output_type": "execute_result"
    }
   ],
   "source": [
    "media(x) = (ones(length(x)) / length(x))'*x;\n",
    "x = [1, -3, 2, -1, 2, 4, 10];\n",
    "media(x)"
   ]
  },
  {
   "cell_type": "markdown",
   "metadata": {},
   "source": [
    "### Distancia\n",
    "\n",
    "**Distancia:**  A distancia entre dois vetores é ${\\rm dist}(x, y) = ‖x − y‖$. Em Julia é `norm(x-y)`."
   ]
  },
  {
   "cell_type": "code",
   "execution_count": 102,
   "metadata": {},
   "outputs": [
    {
     "data": {
      "text/plain": [
       "(8.36779540858881, 0.3872983346207417, 8.532877591996735)"
      ]
     },
     "execution_count": 102,
     "metadata": {},
     "output_type": "execute_result"
    }
   ],
   "source": [
    "u = [1.8, 2.0, -3.7, 4.7];\n",
    "v = [0.6, 2.1, 1.9, -1.4];\n",
    "w = [2.0, 1.9, -4.0, 4.6];\n",
    "norm(u-v), norm(u-w), norm(v-w)"
   ]
  },
  {
   "cell_type": "markdown",
   "metadata": {},
   "source": [
    "**Exemplo:(Vizinho mais Proximo)** Defimos uma função que calcula o vizinho mais proximo de um vetor em uma lista de vetores."
   ]
  },
  {
   "cell_type": "code",
   "execution_count": 104,
   "metadata": {},
   "outputs": [
    {
     "data": {
      "text/plain": [
       "2-element Vector{Int64}:\n",
       " 7\n",
       " 2"
      ]
     },
     "execution_count": 104,
     "metadata": {},
     "output_type": "execute_result"
    }
   ],
   "source": [
    "vizinho_proximo(x,z) = z[ argmin([norm(x-y) for y in z]) ]; # argmin retorna o menor indice do vetor\n",
    "\n",
    "z = ( [2,1], [7,2], [5.5,4], [4,8], [1,5], [9,6]);\n",
    "\n",
    "vizinho_proximo([7,2], z)"
   ]
  },
  {
   "cell_type": "code",
   "execution_count": 105,
   "metadata": {},
   "outputs": [
    {
     "data": {
      "text/plain": [
       "2-element Vector{Int64}:\n",
       " 2\n",
       " 1"
      ]
     },
     "execution_count": 105,
     "metadata": {},
     "output_type": "execute_result"
    }
   ],
   "source": [
    "vizinho_proximo([3,3], z)"
   ]
  },
  {
   "cell_type": "markdown",
   "metadata": {},
   "source": [
    "Na primeira linha, a expressão `[norm(x-y) for y in z]` usa uma construção conveniente em Julia. Aqui `z` é uma lista de vetores, e a expressão expande para um array com elementos `norm(x-z[1])`, `norm(x-z[2]),`,... A função `argmin` aplicada a este array retorna o indice do menor elemento."
   ]
  },
  {
   "cell_type": "markdown",
   "metadata": {},
   "source": [
    "### Angulo entre vetores"
   ]
  },
  {
   "cell_type": "code",
   "execution_count": 106,
   "metadata": {},
   "outputs": [
    {
     "data": {
      "text/plain": [
       "2-element Vector{Tuple{Float64, String}}:\n",
       " (0.9689825515916383, \":angulo em radianos\")\n",
       " (55.51861062801842, \":angulo in graus\")"
      ]
     },
     "execution_count": 106,
     "metadata": {},
     "output_type": "execute_result"
    }
   ],
   "source": [
    "# Defimos a função angulo, a qual retorna radianos\n",
    "ang(x,y) = acos(x'*y/(norm(x)*norm(y)));\n",
    "a = [1,2,-1]; b=[2,0,-3];\n",
    "\n",
    "[(ang(a,b),\":angulo em radianos\"), \n",
    "(ang(a,b)*(360/(2*pi)), \":angulo in graus\")]"
   ]
  },
  {
   "cell_type": "markdown",
   "metadata": {},
   "source": [
    "### Vetores Ortonormais\n",
    "**Expansão em uma base ortonormal:** Dados os vetores\n",
    "$$\n",
    "a_1 = \\begin{bmatrix} 0\\\\ 0\\\\ -1\\end{bmatrix}, \n",
    "a_2 = \\frac{1}{\\sqrt{2}}\\begin{bmatrix} 1\\\\ 1\\\\ 0 \\end{bmatrix},\n",
    "a_3 = \\frac{1}{\\sqrt{2}}\\begin{bmatrix} 1\\\\ -1\\\\ 0\\end{bmatrix}\n",
    "$$\n",
    "\n",
    "verifiquemos se formam uma base ortonormal, e vejamos a expansão de $x = \\begin{bmatrix} 1\\\\ 2\\\\ 3\\end{bmatrix}$ em esta base,\n",
    "\n",
    "$$x = (a^{T}_{1} x)a_1 + · · ·+ (a^{T}_{n}x)a_n.$$"
   ]
  },
  {
   "cell_type": "code",
   "execution_count": 110,
   "metadata": {},
   "outputs": [
    {
     "data": {
      "text/plain": [
       "(1.0, 0.9999999999999999, 0.9999999999999999)"
      ]
     },
     "execution_count": 110,
     "metadata": {},
     "output_type": "execute_result"
    }
   ],
   "source": [
    "a1 = [0,0,-1]; a2 = [1,1,0]/sqrt(2); a3 = [1,-1,0]/sqrt(2);\n",
    "norm(a1), norm(a2), norm(a3)"
   ]
  },
  {
   "cell_type": "code",
   "execution_count": 111,
   "metadata": {},
   "outputs": [
    {
     "data": {
      "text/plain": [
       "(0.0, 0.0, -2.2371143170757382e-17)"
      ]
     },
     "execution_count": 111,
     "metadata": {},
     "output_type": "execute_result"
    }
   ],
   "source": [
    "a1'*a2, a1'*a3, a2'*a3"
   ]
  },
  {
   "cell_type": "code",
   "execution_count": 112,
   "metadata": {},
   "outputs": [
    {
     "data": {
      "text/plain": [
       "3-element Vector{Int64}:\n",
       " 1\n",
       " 2\n",
       " 3"
      ]
     },
     "execution_count": 112,
     "metadata": {},
     "output_type": "execute_result"
    }
   ],
   "source": [
    "x = [1,2,3]"
   ]
  },
  {
   "cell_type": "code",
   "execution_count": 113,
   "metadata": {},
   "outputs": [
    {
     "data": {
      "text/plain": [
       "3-element Vector{Float64}:\n",
       " 0.9999999999999999\n",
       " 1.9999999999999996\n",
       " 3.0"
      ]
     },
     "execution_count": 113,
     "metadata": {},
     "output_type": "execute_result"
    }
   ],
   "source": [
    "# obtendo os coeficientes de x na base ortonormal\n",
    "beta1 = a1'*x; \n",
    "beta2 = a2'*x; \n",
    "beta3 = a3'*x\n",
    "\n",
    "# Expansão de x na base\n",
    "xexp = beta1*a1 + beta2*a2 + beta3*a3"
   ]
  },
  {
   "cell_type": "markdown",
   "metadata": {},
   "source": [
    "## O  Algoritmo de Gram–Schmidt"
   ]
  },
  {
   "cell_type": "markdown",
   "metadata": {},
   "source": [
    "Consideremos como entrada um array `[ a[1], a[2] ,..., a[k] ]`, contendo os $k$ vetores $a_1, \\ldots , a_k$. \n",
    "\n",
    "- Se os vetores são  L.I., retorna um array `[ q[1] ,..., q[k] ]` com o conjunto ortonormal dos vetores calculado pelo algoritmo de Gram–Schmidt. \n",
    "- Se os vetores são L.D e o algoritmo de Gram–Schmidt termina antes na iteração `i`, este retorna um array `[ q[1],..., q[i] ]` de comprimento `i`."
   ]
  },
  {
   "cell_type": "code",
   "execution_count": 114,
   "metadata": {},
   "outputs": [
    {
     "data": {
      "text/plain": [
       "gram_schmidt (generic function with 1 method)"
      ]
     },
     "execution_count": 114,
     "metadata": {},
     "output_type": "execute_result"
    }
   ],
   "source": [
    "function gram_schmidt(a; tol = 1e-10)\n",
    "    \n",
    "    q = []           # inicializamos o array de saida como um array vazio\n",
    "    for i = 1:length(a)\n",
    "        qtilde = a[i]\n",
    "        for j = 1:i-1\n",
    "            qtilde -= (q[j]'*a[i]) * q[j]\n",
    "        end\n",
    "        if norm(qtilde) < tol\n",
    "            println(\"Os vetores são linearmente dependentes.\")\n",
    "            return q\n",
    "        end\n",
    "        push!(q, qtilde/norm(qtilde))    #Em cada iteração, adicionamos o seguinte vetor ao array usando a função push!\n",
    "        end;\n",
    "    return q\n",
    "end"
   ]
  },
  {
   "cell_type": "markdown",
   "metadata": {},
   "source": [
    "**Exemplo:** "
   ]
  },
  {
   "cell_type": "code",
   "execution_count": 115,
   "metadata": {},
   "outputs": [
    {
     "data": {
      "text/plain": [
       "3-element Vector{Vector{Int64}}:\n",
       " [1, 0, 1]\n",
       " [1, 0, 0]\n",
       " [2, 1, 0]"
      ]
     },
     "execution_count": 115,
     "metadata": {},
     "output_type": "execute_result"
    }
   ],
   "source": [
    "a = [ [1, 0, 1], [1, 0, 0], [2, 1, 0] ]"
   ]
  },
  {
   "cell_type": "code",
   "execution_count": 116,
   "metadata": {},
   "outputs": [
    {
     "data": {
      "text/plain": [
       "3-element Vector{Any}:\n",
       " [0.7071067811865475, 0.0, 0.7071067811865475]\n",
       " [0.7071067811865477, 0.0, -0.7071067811865474]\n",
       " [-2.220446049250313e-16, 1.0, 2.220446049250313e-16]"
      ]
     },
     "execution_count": 116,
     "metadata": {},
     "output_type": "execute_result"
    }
   ],
   "source": [
    "q = gram_schmidt(a)"
   ]
  },
  {
   "cell_type": "code",
   "execution_count": 117,
   "metadata": {},
   "outputs": [
    {
     "data": {
      "text/plain": [
       "3-element Vector{Vector{Int64}}:\n",
       " [-1, 1, -1, 1]\n",
       " [-1, 3, -1, 3]\n",
       " [1, 3, 5, 7]"
      ]
     },
     "execution_count": 117,
     "metadata": {},
     "output_type": "execute_result"
    }
   ],
   "source": [
    "a = [ [-1, 1, -1, 1], [-1, 3, -1, 3], [1, 3, 5, 7] ]"
   ]
  },
  {
   "cell_type": "code",
   "execution_count": 118,
   "metadata": {},
   "outputs": [
    {
     "data": {
      "text/plain": [
       "3-element Vector{Any}:\n",
       " [-0.5, 0.5, -0.5, 0.5]\n",
       " [0.5, 0.5, 0.5, 0.5]\n",
       " [-0.5, -0.5, 0.5, 0.5]"
      ]
     },
     "execution_count": 118,
     "metadata": {},
     "output_type": "execute_result"
    }
   ],
   "source": [
    "q = gram_schmidt(a)"
   ]
  },
  {
   "cell_type": "code",
   "execution_count": 119,
   "metadata": {},
   "outputs": [
    {
     "data": {
      "text/plain": [
       "6-element Vector{Tuple{String, Float64}}:\n",
       " (\"norm(q[1]:)\", 1.0)\n",
       " (\"q[1]'*q[2]:\", 0.0)\n",
       " (\"q[1]'*q[3]:\", 0.0)\n",
       " (\"norm(q[2]):\", 1.0)\n",
       " (\"q[2]'*q[3]:\", 0.0)\n",
       " (\"norm(q[3]):\", 1.0)"
      ]
     },
     "execution_count": 119,
     "metadata": {},
     "output_type": "execute_result"
    }
   ],
   "source": [
    "# teste de ortnormalidade\n",
    "\n",
    "[(\"norm(q[1]:)\",norm(q[1])),\n",
    "(\"q[1]'*q[2]:\",q[1]'*q[2]),\n",
    "(\"q[1]'*q[3]:\",q[1]'*q[3]),\n",
    "(\"norm(q[2]):\",norm(q[2])),\n",
    "(\"q[2]'*q[3]:\",q[2]'*q[3]),\n",
    "(\"norm(q[3]):\",norm(q[3]))]"
   ]
  },
  {
   "cell_type": "markdown",
   "metadata": {},
   "source": [
    "**Exemplo de finalização antecipada:** Se subtituimos $a_3$ com a combinação linear de $a_1$, e $a_2$ o conjunto será L.D."
   ]
  },
  {
   "cell_type": "code",
   "execution_count": 120,
   "metadata": {},
   "outputs": [
    {
     "data": {
      "text/plain": [
       "3-element Vector{Vector{Float64}}:\n",
       " [-1.0, 1.0, -1.0, 1.0]\n",
       " [-1.0, 3.0, -1.0, 3.0]\n",
       " [-1.8, 2.8, -1.8, 2.8]"
      ]
     },
     "execution_count": 120,
     "metadata": {},
     "output_type": "execute_result"
    }
   ],
   "source": [
    "b = [ a[1], a[2], 1.3*a[1] + 0.5*a[2] ]"
   ]
  },
  {
   "cell_type": "code",
   "execution_count": 121,
   "metadata": {},
   "outputs": [
    {
     "name": "stdout",
     "output_type": "stream",
     "text": [
      "Os vetores são linearmente dependentes.\n"
     ]
    },
    {
     "data": {
      "text/plain": [
       "2-element Vector{Any}:\n",
       " [-0.5, 0.5, -0.5, 0.5]\n",
       " [0.5, 0.5, 0.5, 0.5]"
      ]
     },
     "execution_count": 121,
     "metadata": {},
     "output_type": "execute_result"
    }
   ],
   "source": [
    "q = gram_schmidt(b)"
   ]
  },
  {
   "cell_type": "markdown",
   "metadata": {},
   "source": [
    "**Exemplo:** Sabemos que quaisquer 3 vetores em $\\mathbb{R}^2$ debem ser L.D. Usemos o algoritmo de Gram-Schmidt para verificar este fato."
   ]
  },
  {
   "cell_type": "code",
   "execution_count": 41,
   "metadata": {},
   "outputs": [
    {
     "name": "stdout",
     "output_type": "stream",
     "text": [
      "Os vetores são linearmente dependentes.\n"
     ]
    },
    {
     "data": {
      "text/plain": [
       "2-element Vector{Any}:\n",
       " [0.7071067811865475, 0.7071067811865475]\n",
       " [-0.7071067811865471, 0.7071067811865478]"
      ]
     },
     "execution_count": 41,
     "metadata": {},
     "output_type": "execute_result"
    }
   ],
   "source": [
    "vetores = [ [1,1], [1,2], [-1,1] ];\n",
    "q = gram_schmidt(vetores)"
   ]
  },
  {
   "cell_type": "code",
   "execution_count": null,
   "metadata": {},
   "outputs": [],
   "source": []
  },
  {
   "cell_type": "code",
   "execution_count": null,
   "metadata": {},
   "outputs": [],
   "source": []
  }
 ],
 "metadata": {
  "@webio": {
   "lastCommId": null,
   "lastKernelId": null
  },
  "kernelspec": {
   "display_name": "Julia 1.8.1",
   "language": "julia",
   "name": "julia-1.8"
  },
  "language_info": {
   "file_extension": ".jl",
   "mimetype": "application/julia",
   "name": "julia",
   "version": "1.8.1"
  }
 },
 "nbformat": 4,
 "nbformat_minor": 2
}
