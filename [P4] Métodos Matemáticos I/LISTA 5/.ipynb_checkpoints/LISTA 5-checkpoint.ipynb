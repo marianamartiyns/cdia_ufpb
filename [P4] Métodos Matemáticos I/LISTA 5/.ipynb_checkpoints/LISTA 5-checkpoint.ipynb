{
 "cells": [
  {
   "cell_type": "markdown",
   "id": "85617c42",
   "metadata": {},
   "source": [
    "# LISTA 5 - RESPOSTAS: 20220071188"
   ]
  },
  {
   "cell_type": "markdown",
   "id": "dff1055e",
   "metadata": {},
   "source": [
    "*Questão 1* - Partindo de uma função que define o termo geral de uma sequência a(n), para n = n0, n0 + 1, n0 + 2, · · · , implemente um programa para ilustrar o comportamento da série numérica P∞n=n0 a(n), com as duas opções exclusivas de execução:\n",
    "(a) o usuário sabe que a série é convergente para a soma S;\n",
    "(b) o usuário não sabe se a série é convergente.\n",
    "\n",
    "Caso seja feita a escolha da opção (a), o usuário deve fornecer como entradas o valor da soma S, o valor de uma tolerância ϵ e dois índices s kmim ≥ n0 e kmax > kmim tal que **|S(k) − S| ≤ ϵ**, com S(k) = Pk n=n0 a(n), para todos Índices k com k = kmim, kmim + 1, · · · , kmax (sugestão: considere 0 < kmax − kmim ≤ 20);\n",
    "*\n",
    "Caso seja feita a escolha da opção (b), o usuário deve fornecer apenas os dois índices **kmim** e **kmax**.\n",
    "\n",
    "O programa deve fornecer como saídas:\n",
    "\n",
    "(i) uma tabela mostrando as triplas (k, a(k), S(k)) para k = kmin, . . . , kmax; <br>\n",
    "(ii) uma figura em que o eixo horizontal represente o intervalo [kmim, kmax] e mostrando os dois conjuntos de pontos (k, a(k)) e (k, S(k)) em cores distintas, de maneira discreta, para k = kmim, . . . , kmax; <br>\n",
    "(iii) Caso o usuário escolha a opção (a), o programa deve acrescentar na figura do item (ii) os gráficos dos três segmentos de reta horizontais, respectivamente com alturas S − ϵ, S e S + ϵ."
   ]
  },
  {
   "cell_type": "code",
   "execution_count": 7,
   "id": "5657aea9",
   "metadata": {},
   "outputs": [],
   "source": [
    "import matplotlib.pyplot as plt\n",
    "\n",
    "def serie_numerica(kmin, kmax, S=None, epsilon=None):\n",
    "    a_values = [a(k) for k in range(kmin, kmax+1)]\n",
    "    S_values = [sum(a_values[:i+1]) for i in range(len(a_values))]\n",
    "\n",
    "\n",
    "    print(\"k\\ta(k)\\tS(k)\")\n",
    "    for k in range(kmin, kmax+1):\n",
    "        print(f\"{k}\\t{a_values[k-kmin]}\\t{S_values[k-kmin]}\")\n",
    "\n",
    "    # Plotar gráfico\n",
    "    plt.figure(figsize=(10, 6))\n",
    "    plt.plot(range(kmin, kmax+1), a_values, 'ro', label='a(k)')\n",
    "    plt.plot(range(kmin, kmax+1), S_values, 'bo', label='S(k)')\n",
    "\n",
    "    if S is not None and epsilon is not None:\n",
    "        plt.axhline(y=S-epsilon, color='g', linestyle='--')\n",
    "        plt.axhline(y=S, color='g', linestyle='--')\n",
    "        plt.axhline(y=S+epsilon, color='g', linestyle='--')\n",
    "\n",
    "    plt.legend()\n",
    "    plt.show()"
   ]
  },
  {
   "cell_type": "markdown",
   "id": "21457968",
   "metadata": {},
   "source": [
    "*Questão 2: Letra A - Série Harmônica*\n",
    "\n",
    "Exiba uma saída do programa do Exercício 1 de acordo com o caso de a serie ser convergente ou divergente. Informe os valores **kmin** e **kmax** utilizados no programa e se for o caso os valoes de S e de ϵ também."
   ]
  },
  {
   "cell_type": "code",
   "execution_count": 8,
   "id": "f6e91d66",
   "metadata": {},
   "outputs": [
    {
     "name": "stdout",
     "output_type": "stream",
     "text": [
      "k\ta(k)\tS(k)\n",
      "1\t1.0\t1.0\n",
      "2\t1.5\t2.5\n",
      "3\t1.8333333333333333\t4.333333333333333\n",
      "4\t2.083333333333333\t6.416666666666666\n",
      "5\t2.283333333333333\t8.7\n",
      "6\t2.4499999999999997\t11.149999999999999\n",
      "7\t2.5928571428571425\t13.74285714285714\n",
      "8\t2.7178571428571425\t16.460714285714282\n",
      "9\t2.8289682539682537\t19.289682539682534\n",
      "10\t2.9289682539682538\t22.218650793650788\n"
     ]
    },
    {
     "data": {
      "image/png": "[encoded data removed]",
      "text/plain": [
       "<Figure size 1000x600 with 1 Axes>"
      ]
     },
     "metadata": {},
     "output_type": "display_data"
    }
   ],
   "source": [
    "def a(n):\n",
    "    # Série Harmônica\n",
    "    return sum(1/i for i in range(1, n + 1))\n",
    "\n",
    "serie_numerica(1, 10, S=0.1, epsilon=0.5)\n",
    "# kmin = 1, kmax = 10, S =0.1 e ϵ = 0.5"
   ]
  },
  {
   "cell_type": "markdown",
   "id": "4df752eb",
   "metadata": {},
   "source": [
    "Sabemos que há duas sequências associadas a uma série:\n",
    "\n",
    "1. A sequência {an} que define o termo geral da série. \n",
    "2. A sequência {Sk} das somas parciais da série.\n",
    "\n",
    "E de fato, pela definição 2, temos que a série harmônica é **DIVERGENTE**, uma vez que sua sequência parcial associada {Sk} é divergente."
   ]
  },
  {
   "cell_type": "code",
   "execution_count": null,
   "id": "dae016b5",
   "metadata": {},
   "outputs": [],
   "source": []
  },
  {
   "cell_type": "markdown",
   "id": "cfcd61a1",
   "metadata": {},
   "source": [
    "*Questão 4 : Letra A*\n",
    "    \n",
    "Por observação do limite do termo geral verifique que a série é divergente. Em seguida use o programa do Exercécio 01 e ilustre este fato."
   ]
  },
  {
   "cell_type": "code",
   "execution_count": 10,
   "id": "666b982a",
   "metadata": {},
   "outputs": [
    {
     "name": "stdout",
     "output_type": "stream",
     "text": [
      "k\ta(k)\tS(k)\n",
      "1\t2.414213562373095\t2.414213562373095\n",
      "2\t3.1462643699419726\t5.5604779323150675\n",
      "3\t3.732050807568877\t9.292528739883945\n",
      "4\t4.23606797749979\t13.528596717383735\n",
      "5\t4.685557720282968\t18.214154437666704\n",
      "6\t5.095241053847769\t23.309395491514472\n",
      "7\t5.4741784358107815\t28.783573927325254\n",
      "8\t5.82842712474619\t34.61200105207144\n",
      "9\t6.16227766016838\t40.77427871223982\n",
      "10\t6.47890245052378\t47.253181162763596\n"
     ]
    },
    {
     "data": {
      "image/png": "[encoded data removed]",
      "text/plain": [
       "<Figure size 1000x600 with 1 Axes>"
      ]
     },
     "metadata": {},
     "output_type": "display_data"
    }
   ],
   "source": [
    "import math\n",
    "\n",
    "def a(k):\n",
    "    return math.sqrt(k) + math.sqrt(k + 1)\n",
    "\n",
    "serie_numerica(1, 10)"
   ]
  },
  {
   "cell_type": "markdown",
   "id": "78f73356",
   "metadata": {},
   "source": [
    "A seríe é **DIVERGENTE**"
   ]
  },
  {
   "cell_type": "code",
   "execution_count": null,
   "id": "c9892d88",
   "metadata": {},
   "outputs": [],
   "source": []
  }
 ],
 "metadata": {
  "kernelspec": {
   "display_name": "Python 3 (ipykernel)",
   "language": "python",
   "name": "python3"
  },
  "language_info": {
   "codemirror_mode": {
    "name": "ipython",
    "version": 3
   },
   "file_extension": ".py",
   "mimetype": "text/x-python",
   "name": "python",
   "nbconvert_exporter": "python",
   "pygments_lexer": "ipython3",
   "version": "3.10.9"
  }
 },
 "nbformat": 4,
 "nbformat_minor": 5
}
