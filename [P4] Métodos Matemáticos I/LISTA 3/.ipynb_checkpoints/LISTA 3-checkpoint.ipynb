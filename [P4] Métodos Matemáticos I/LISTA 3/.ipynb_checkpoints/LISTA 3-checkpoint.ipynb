{
 "cells": [
  {
   "cell_type": "markdown",
   "id": "0a227b66",
   "metadata": {},
   "source": [
    "### Lista de Exercícios: Sequências Monótonas Limitadas.\n",
    "20220071188"
   ]
  },
  {
   "cell_type": "code",
   "execution_count": 2,
   "id": "f0b18fe6",
   "metadata": {},
   "outputs": [
    {
     "name": "stdout",
     "output_type": "stream",
     "text": [
      "(n, a_n) = (1, 1)\n",
      "(n, a_n) = (2, 4)\n",
      "(n, a_n) = (3, 9)\n",
      "(n, a_n) = (4, 16)\n",
      "(n, a_n) = (5, 25)\n",
      "(n, a_n) = (6, 36)\n",
      "(n, a_n) = (7, 49)\n",
      "(n, a_n) = (8, 64)\n",
      "(n, a_n) = (9, 81)\n",
      "(n, a_n) = (10, 100)\n"
     ]
    }
   ],
   "source": [
    "def calcular_sequencia(n_min, n_max):\n",
    "    return [(n, n**2) for n in range(n_min, n_max+1)]\n",
    "\n",
    "n_min = 1\n",
    "n_max = n_min + 9  # Para obter 10 termos\n",
    "\n",
    "sequencia = calcular_sequencia(n_min, n_max)\n",
    "for n, a_n in sequencia:\n",
    "    print(f\"(n, a_n) = ({n}, {a_n})\")"
   ]
  },
  {
   "cell_type": "markdown",
   "id": "70669b19",
   "metadata": {},
   "source": [
    "## 4)"
   ]
  },
  {
   "cell_type": "code",
   "execution_count": 5,
   "id": "7fab30c7",
   "metadata": {},
   "outputs": [
    {
     "name": "stdout",
     "output_type": "stream",
     "text": [
      "Ano 1: A = 14000, B = 9500, C = 11500\n",
      "Ano 2: A = 13175, B = 9000, C = 12825\n",
      "Ano 3: A = 12499, B = 8518, C = 13984\n",
      "Ano 4: A = 11948, B = 8064, C = 14988\n",
      "Ano 5: A = 11503, B = 7646, C = 15851\n",
      "Ano 6: A = 11145, B = 7267, C = 16588\n",
      "Ano 7: A = 10860, B = 6928, C = 17212\n",
      "Ano 8: A = 10634, B = 6628, C = 17737\n",
      "Ano 9: A = 10458, B = 6366, C = 18176\n",
      "Ano 10: A = 10321, B = 6139, C = 18540\n"
     ]
    }
   ],
   "source": [
    "# Temos A(n+1) = 0.9 A(n) + 0.05 C(n)\n",
    "# B(n+1) = 0.1 A(n) + 0.8 B(n)\n",
    "# C(n+1) = 0.95 C(n) + 0.2 B(n)\n",
    "\n",
    "\n",
    "# População inicial\n",
    "A, B, C = 15000, 10000, 10000\n",
    "\n",
    "# Simular por 10 anos\n",
    "for n in range(1, 11):\n",
    "    A_prox = 0.9 * A + 0.05 * C\n",
    "    B_prox = 0.1 * A + 0.8 * B\n",
    "    C_prox = 0.95 * C + 0.2 * B\n",
    "\n",
    "    A, B, C = A_prox, B_prox, C_prox\n",
    "\n",
    "    print(f\"Ano {n}: A = {A:.0f}, B = {B:.0f}, C = {C:.0f}\")\n"
   ]
  },
  {
   "cell_type": "code",
   "execution_count": null,
   "id": "2ecd28e8",
   "metadata": {},
   "outputs": [],
   "source": []
  }
 ],
 "metadata": {
  "kernelspec": {
   "display_name": "Python 3 (ipykernel)",
   "language": "python",
   "name": "python3"
  },
  "language_info": {
   "codemirror_mode": {
    "name": "ipython",
    "version": 3
   },
   "file_extension": ".py",
   "mimetype": "text/x-python",
   "name": "python",
   "nbconvert_exporter": "python",
   "pygments_lexer": "ipython3",
   "version": "3.10.9"
  }
 },
 "nbformat": 4,
 "nbformat_minor": 5
}
