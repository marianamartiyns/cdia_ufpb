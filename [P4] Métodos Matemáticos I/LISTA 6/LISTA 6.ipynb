{
 "cells": [
  {
   "cell_type": "markdown",
   "id": "c47902b8",
   "metadata": {},
   "source": [
    "# LISTA 6 - RESPOSTAS 20220071188"
   ]
  },
  {
   "cell_type": "markdown",
   "id": "28b1fe83",
   "metadata": {},
   "source": [
    "**Questão 2**"
   ]
  },
  {
   "cell_type": "code",
   "execution_count": 4,
   "id": "541d1ed8",
   "metadata": {},
   "outputs": [
    {
     "name": "stdout",
     "output_type": "stream",
     "text": [
      "A soma parcial S_49 é: 2.4383381204805805\n",
      "O erro entre a soma da série e S_49 é: 0.44311771849306236\n"
     ]
    }
   ],
   "source": [
    "import math\n",
    "\n",
    "def series_partial_sum(n):\n",
    "    sum_partial = 0.0\n",
    "    for i in range(3, n + 1):\n",
    "        sum_partial += 3 / (i * (math.log(i)) ** 2)\n",
    "    return sum_partial\n",
    "\n",
    "if __name__ == \"__main__\":\n",
    "    # Calculando S_49\n",
    "    S_49 = series_partial_sum(49)\n",
    "    print(\"A soma parcial S_49 é:\", S_49)\n",
    "\n",
    "    # Calculando a soma da série até o infinito\n",
    "    sum_series = series_partial_sum(10000)  # Aumentando para um número grande para uma boa aproximação\n",
    "\n",
    "    # Calculando o erro entre a soma da série e S_49\n",
    "    erro = abs(sum_series - S_49)\n",
    "    print(\"O erro entre a soma da série e S_49 é:\", erro)\n"
   ]
  },
  {
   "cell_type": "markdown",
   "id": "dbf757c2",
   "metadata": {},
   "source": [
    "**Questão 3**"
   ]
  },
  {
   "cell_type": "code",
   "execution_count": 2,
   "id": "50b05669",
   "metadata": {},
   "outputs": [
    {
     "name": "stdout",
     "output_type": "stream",
     "text": [
      "A soma estimada da série com um erro máximo de 0.0001 é: 0.3663827155999962\n",
      "A quantidade mínima de termos para atingir a precisão desejada é: 184\n"
     ]
    }
   ],
   "source": [
    "def series_sum(tol):\n",
    "    sum_partial = 0.0\n",
    "    n = 2\n",
    "    while True:\n",
    "        term = 1 / (4 * n ** (3/2))\n",
    "        sum_partial += term\n",
    "        # Verifica se a soma parcial atingiu a tolerância\n",
    "        if term < tol:\n",
    "            break\n",
    "        n += 1\n",
    "    return sum_partial, n - 1\n",
    "\n",
    "if __name__ == \"__main__\":\n",
    "    epsilon = 1e-4\n",
    "    estimated_sum, num_terms = series_sum(epsilon)\n",
    "    print(f\"A soma estimada da série com um erro máximo de {epsilon} é: {estimated_sum}\")\n",
    "    print(f\"A quantidade mínima de termos para atingir a precisão desejada é: {num_terms}\")\n"
   ]
  },
  {
   "cell_type": "markdown",
   "id": "4485a6fe",
   "metadata": {},
   "source": [
    "**Questão 4**"
   ]
  },
  {
   "cell_type": "code",
   "execution_count": 1,
   "id": "08d67d6a",
   "metadata": {},
   "outputs": [
    {
     "name": "stdout",
     "output_type": "stream",
     "text": [
      "A soma estimada da série é: 0.39789068146157414\n"
     ]
    }
   ],
   "source": [
    "def series_sum():\n",
    "    sum_partial = 0.0\n",
    "    previous_sum_partial = 0.0\n",
    "    n = 1\n",
    "\n",
    "    while True:\n",
    "        # Cálculo do próximo termo da série\n",
    "        term = 1 / (n**4 + n**2 + 1)\n",
    "        \n",
    "        # Adiciona o próximo termo à soma parcial\n",
    "        sum_partial += term\n",
    "        \n",
    "        # Verifica a diferença entre a soma parcial atual e a anterior\n",
    "        if abs(sum_partial - previous_sum_partial) < 1e-3:\n",
    "            break\n",
    "        \n",
    "        # Atualiza a soma parcial anterior\n",
    "        previous_sum_partial = sum_partial\n",
    "        \n",
    "        # Incrementa o valor de n para calcular o próximo termo\n",
    "        n += 1\n",
    "\n",
    "    return sum_partial\n",
    "\n",
    "if __name__ == \"__main__\":\n",
    "    estimated_sum = series_sum()\n",
    "    print(\"A soma estimada da série é:\", estimated_sum)"
   ]
  }
 ],
 "metadata": {
  "kernelspec": {
   "display_name": "Python 3 (ipykernel)",
   "language": "python",
   "name": "python3"
  },
  "language_info": {
   "codemirror_mode": {
    "name": "ipython",
    "version": 3
   },
   "file_extension": ".py",
   "mimetype": "text/x-python",
   "name": "python",
   "nbconvert_exporter": "python",
   "pygments_lexer": "ipython3",
   "version": "3.10.9"
  }
 },
 "nbformat": 4,
 "nbformat_minor": 5
}
