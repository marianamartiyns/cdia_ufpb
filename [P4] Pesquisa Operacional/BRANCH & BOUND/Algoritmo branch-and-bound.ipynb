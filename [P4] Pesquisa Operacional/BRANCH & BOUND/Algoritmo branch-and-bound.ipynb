{
 "cells": [
  {
   "cell_type": "markdown",
   "id": "8dcb14c9",
   "metadata": {},
   "source": [
    "# Algoritmo branch-and-bound\n",
    "\n",
    "---\n",
    "\n",
    "Este projeto consiste na criação de um programa para resolver problemas de maximização em programação linear inteira binária. Utilizaremos o algoritmo Branch-and-Bound para encontrar a solução ótima. \n",
    "\n",
    "O objetivo é encontrar o valor máximo de uma função sujeita a diversas restrições, todas do tipo \"menor ou igual\". \n",
    "\n",
    "O algoritmo irá dividir o problema em subproblemas menores e, através de uma estratégia de ramificação, explorará diferentes soluções até encontrar a ótima. A Estratégia de ramificação usada será a: <br> <br>\n",
    "\n",
    "<div style=\"border:2px solid black; padding: 10px; background-color:#CEE0DC\">\n",
    "Busca em profundidade: para isso, utilizamos uma pilha para armazenar os nós abertos (nós que ainda não foram processados)</div>\n",
    "\n",
    "Para resolver os subproblemas, faremos uso de um pacote de programação linear, como o python-mip. \n",
    "\n",
    "---"
   ]
  },
  {
   "cell_type": "code",
   "execution_count": 180,
   "id": "9968c077",
   "metadata": {},
   "outputs": [],
   "source": [
    "from mip import Model, MAXIMIZE, xsum\n",
    "from numpy import asarray, abs\n",
    "import re"
   ]
  },
  {
   "cell_type": "code",
   "execution_count": 181,
   "id": "b523b9ee",
   "metadata": {},
   "outputs": [],
   "source": [
    "def ler_txt(caminho_arquivo: str):\n",
    "    l = []\n",
    "    with open(caminho_arquivo) as arquivo:\n",
    "        for linha in arquivo:\n",
    "            for i in re.findall(r'\\d+', linha):\n",
    "                l.append(i)\n",
    "\n",
    "    variaveis = int(l[0])\n",
    "    restricoes = int(l[1])\n",
    "    coef_obj = []\n",
    "    for i in range(2, 2 + variaveis):\n",
    "        coef_obj.append(int(l[i]))\n",
    "\n",
    "    count = 0\n",
    "    aux = []\n",
    "    coef_restricoes = []\n",
    "    for i in range(2 + variaveis, len(l)):\n",
    "        if count == variaveis:\n",
    "            aux.append(int(l[i]))\n",
    "            coef_restricoes.append(aux)\n",
    "            aux = []\n",
    "            count = 0\n",
    "        else:\n",
    "            aux.append(int(l[i]))\n",
    "            count += 1\n",
    "            \n",
    "    return variaveis, restricoes, coef_obj, coef_restricoes"
   ]
  },
  {
   "cell_type": "markdown",
   "id": "1fcc8e30",
   "metadata": {},
   "source": [
    "Exemplo teste1.txt:\n",
    "\n",
    "$$\n",
    "\\text{max } Z = 2 \\quad 10 \\quad 8 \\quad 7 \\quad 10 \\quad 10 \\quad 6\\\\\n",
    "$$"
   ]
  },
  {
   "cell_type": "markdown",
   "id": "319dc33d",
   "metadata": {},
   "source": [
    "s.a:\n",
    "\\begin{gather*}\n",
    "7 \\quad 11\\\\\n",
    "2 \\quad 10 \\quad 8 \\quad 7 \\quad 10 \\quad 10 \\quad 6\\\\\n",
    "5 \\quad 7 \\quad 8 \\quad 1 \\quad 7 \\quad 5 \\quad 6 \\quad 20\\\\\n",
    "1 \\quad 6 \\quad 4 \\quad 9 \\quad 10 \\quad 6 \\quad 10 \\quad 30\\\\\n",
    "4 \\quad 4 \\quad 4 \\quad 1 \\quad 5 \\quad 5 \\quad 10 \\quad 40\\\\\n",
    "3 \\quad 10 \\quad 8 \\quad 1 \\quad 3 \\quad 3 \\quad 8 \\quad 30\\\\\n",
    "10 \\quad 8 \\quad 9 \\quad 9 \\quad 7 \\quad 6 \\quad 10 \\quad 20\\\\\n",
    "6 \\quad 6 \\quad 3 \\quad 6 \\quad 3 \\quad 7 \\quad 2 \\quad 80\\\\\n",
    "7 \\quad 10 \\quad 7 \\quad 8 \\quad 7 \\quad 8 \\quad 7 \\quad 100\\\\\n",
    "9 \\quad 8 \\quad 1 \\quad 1 \\quad 8 \\quad 10 \\quad 2 \\quad 90\\\\\n",
    "1 \\quad 5 \\quad 3 \\quad 10 \\quad 2 \\quad 4 \\quad 9 \\quad 70\\\\\n",
    "9 \\quad 6 \\quad 1 \\quad 4 \\quad 7 \\quad 5 \\quad 10 \\quad 60\\\\\n",
    "5 \\quad 7 \\quad 4 \\quad 4 \\quad 3 \\quad 4 \\quad 10 \\quad 40\\\\\n",
    "\\end{gather*}\n"
   ]
  },
  {
   "cell_type": "code",
   "execution_count": 182,
   "id": "c5e6385f",
   "metadata": {},
   "outputs": [],
   "source": [
    "def resolver(modelo: Model):\n",
    "    modelo.optimize()\n",
    "    parametros = {}\n",
    "    parametros[\"objetivo\"] = modelo.objective_value\n",
    "    parametros[\"variaveis\"] = modelo.vars\n",
    "    return parametros"
   ]
  },
  {
   "cell_type": "code",
   "execution_count": 200,
   "id": "5e4e6e57",
   "metadata": {},
   "outputs": [],
   "source": [
    "def podar(modelo: Model, primal):\n",
    "    \"\"\"\n",
    "    Verifica se um nó na árvore de busca pode ser podado com base em diferentes critérios.\n",
    "\n",
    "    Args:\n",
    "        modelo: O modelo a ser avaliado.\n",
    "        primal: O valor primal atual.\n",
    "\n",
    "    Returns:\n",
    "        str: Um dos seguintes valores: 'INVIAVEL', 'INTEIRO', 'LIMITANTE' ou 'VIÁVEL'.\n",
    "    \"\"\"\n",
    "    \n",
    "    aux_solver = resolver(modelo)\n",
    "    count_int = 0\n",
    "\n",
    "    if aux_solver[\"objetivo\"] == None:\n",
    "        return 'INVIAVEL'\n",
    "\n",
    "    for i in aux_solver[\"variaveis\"]:\n",
    "        if i.x.is_integer():\n",
    "            count_int += 1\n",
    "\n",
    "    if count_int == len(aux_solver[\"variaveis\"]):\n",
    "        return 'INTEIRO'\n",
    "\n",
    "    if aux_solver[\"objetivo\"] <= primal:\n",
    "        return 'LIMITANTE'\n",
    "    \n",
    "    return 'VIÁVEL'"
   ]
  },
  {
   "cell_type": "code",
   "execution_count": 184,
   "id": "fd749ca7",
   "metadata": {},
   "outputs": [],
   "source": [
    "def encontrar_mais_proximo(array: list, valor: float):\n",
    "    \n",
    "    array = asarray(array)\n",
    "    idx = (abs(array - valor)).argmin()\n",
    "    return idx"
   ]
  },
  {
   "cell_type": "code",
   "execution_count": 201,
   "id": "f22a4e00",
   "metadata": {},
   "outputs": [],
   "source": [
    "def ramificar(modelo: Model, valores_solucao):\n",
    "    \n",
    "    var_ramificacao = valores_solucao[encontrar_mais_proximo([i.x for i in valores_solucao], 0.5)]\n",
    "\n",
    "    modelo_0 = modelo.copy()\n",
    "    modelo_0 += var_ramificacao == 0\n",
    "\n",
    "    modelo_1 = modelo.copy()\n",
    "    modelo_1 += var_ramificacao == 1\n",
    "\n",
    "    return (modelo_0, modelo_1)"
   ]
  },
  {
   "cell_type": "code",
   "execution_count": 202,
   "id": "f3688f01",
   "metadata": {},
   "outputs": [],
   "source": [
    "def branch_and_bound(modelo: Model):\n",
    "    global primal\n",
    "    global modelo_otimo\n",
    "    \n",
    "    primal = 0\n",
    "    modelo_otimo = None\n",
    "    \n",
    "    nos = [modelo]\n",
    "\n",
    "    while nos != []:\n",
    "        \n",
    "        modelo_solver = resolver(nos[0])\n",
    "        aux = podar(nos[0], primal)\n",
    "        if aux == 'INVIAVEL' or aux == 'LIMITANTE':\n",
    "            nos.pop(0)\n",
    "            \n",
    "        elif aux == 'INTEIRO':\n",
    "            if modelo_solver[\"objetivo\"] >= primal:\n",
    "                modelo_otimo = nos[0]\n",
    "                primal = modelo_solver[\"objetivo\"]\n",
    "            nos.pop(0)\n",
    "            \n",
    "        elif aux == 'VIÁVEL':\n",
    "            ramos = ramificar(nos[0], modelo_solver[\"variaveis\"])\n",
    "            nos.append(ramos[0])\n",
    "            nos.append(ramos[1])\n",
    "            nos.pop(0)"
   ]
  },
  {
   "cell_type": "code",
   "execution_count": 203,
   "id": "371b161a",
   "metadata": {},
   "outputs": [],
   "source": [
    "def executar(caminho_arquivo):\n",
    "    \n",
    "    variaveis, restricoes, coef_obj, coef_restricoes = ler_txt(caminho_arquivo)\n",
    "\n",
    "    modelo = Model(sense=MAXIMIZE)\n",
    "\n",
    "    x = [modelo.add_var(var_type=\"CONTINUOUS\", lb=0, ub=1, name=\"x_\" + str(i)) for i in range(variaveis)]\n",
    "\n",
    "    modelo.objective = xsum(coef_obj[i] * x[i] for i in range(variaveis))\n",
    "\n",
    "    for i in range(restricoes):\n",
    "        modelo += xsum(coef_restricoes[i][j] * x[j] for j in range(variaveis)) <= coef_restricoes[i][-1]\n",
    "\n",
    "    branch_and_bound(modelo)\n",
    "\n",
    "    imprimir_resultado(resolver(modelo_otimo))"
   ]
  },
  {
   "cell_type": "code",
   "execution_count": 204,
   "id": "79b08659",
   "metadata": {},
   "outputs": [],
   "source": [
    "def imprimir_resultado(modelo_resolvido):\n",
    "    \n",
    "    print(\"Variáveis:\")\n",
    "    for i in modelo_resolvido[\"variaveis\"]:\n",
    "        print(i.name, ' = ', i.x)\n",
    "    print(\"Função objetivo:\")\n",
    "    print('Z = ', modelo_resolvido[\"objetivo\"])"
   ]
  },
  {
   "cell_type": "code",
   "execution_count": 205,
   "id": "26c70c32",
   "metadata": {},
   "outputs": [
    {
     "name": "stdout",
     "output_type": "stream",
     "text": [
      "Variáveis:\n",
      "x_0  =  0.0\n",
      "x_1  =  1.0\n",
      "x_2  =  0.0\n",
      "x_3  =  0.0\n",
      "x_4  =  1.0\n",
      "x_5  =  0.0\n",
      "x_6  =  0.0\n",
      "Função objetivo:\n",
      "Z =  20.0\n"
     ]
    }
   ],
   "source": [
    "executar(\"teste1.txt\")"
   ]
  },
  {
   "cell_type": "code",
   "execution_count": 174,
   "id": "ab0dad93",
   "metadata": {},
   "outputs": [
    {
     "name": "stdout",
     "output_type": "stream",
     "text": [
      "Variáveis:\n",
      "x_0  =  0.0\n",
      "x_1  =  1.0\n",
      "x_2  =  0.0\n",
      "x_3  =  0.0\n",
      "x_4  =  0.0\n",
      "x_5  =  1.0\n",
      "x_6  =  1.0\n",
      "x_7  =  0.0\n",
      "x_8  =  0.0\n",
      "Função objetivo:\n",
      "Z =  24.0\n"
     ]
    }
   ],
   "source": [
    "executar(\"teste2.txt\")"
   ]
  },
  {
   "cell_type": "code",
   "execution_count": 175,
   "id": "25c27118",
   "metadata": {},
   "outputs": [
    {
     "name": "stdout",
     "output_type": "stream",
     "text": [
      "Variáveis:\n",
      "x_0  =  0.0\n",
      "x_1  =  0.0\n",
      "x_2  =  1.0\n",
      "x_3  =  0.0\n",
      "x_4  =  0.0\n",
      "x_5  =  0.0\n",
      "x_6  =  1.0\n",
      "x_7  =  0.0\n",
      "x_8  =  0.0\n",
      "Função objetivo:\n",
      "Z =  19.0\n"
     ]
    }
   ],
   "source": [
    "executar(\"teste3.txt\")"
   ]
  },
  {
   "cell_type": "code",
   "execution_count": 176,
   "id": "5aa924fa",
   "metadata": {},
   "outputs": [
    {
     "name": "stdout",
     "output_type": "stream",
     "text": [
      "Variáveis:\n",
      "x_0  =  0.0\n",
      "x_1  =  0.0\n",
      "x_2  =  1.0\n",
      "x_3  =  0.0\n",
      "x_4  =  0.0\n",
      "x_5  =  0.0\n",
      "x_6  =  0.0\n",
      "x_7  =  0.0\n",
      "x_8  =  0.0\n",
      "Função objetivo:\n",
      "Z =  10.0\n"
     ]
    }
   ],
   "source": [
    "executar(\"teste4.txt\")"
   ]
  }
 ],
 "metadata": {
  "kernelspec": {
   "display_name": "Python 3 (ipykernel)",
   "language": "python",
   "name": "python3"
  },
  "language_info": {
   "codemirror_mode": {
    "name": "ipython",
    "version": 3
   },
   "file_extension": ".py",
   "mimetype": "text/x-python",
   "name": "python",
   "nbconvert_exporter": "python",
   "pygments_lexer": "ipython3",
   "version": "3.10.9"
  }
 },
 "nbformat": 4,
 "nbformat_minor": 5
}
