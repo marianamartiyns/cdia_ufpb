{
 "cells": [
  {
   "cell_type": "markdown",
   "metadata": {},
   "source": [
    "# Teste de t Student\n",
    "\n",
    "O teste t-Student é uma ferramenta estatística essencial para comparar médias de duas amostras independentes e determinar se suas diferenças são estatisticamente significativas. Neste relatório, apresentaremos uma análise detalhada de um teste t-Student realizado em Python, incluindo a geração de amostras fictícias, cálculo de estatísticas descritivas, aplicação do teste de normalidade de Shapiro-Wilk, realização do teste t-Student e interpretação dos resultados.\n",
    "\n",
    "**Amostras:**\n",
    "Foram geradas duas amostras fictícias (sample1 e sample2) com 100 observações cada. Essas amostras foram geradas a partir de uma distribuição normal, com médias de 10 e 12, respectivamente, e desvios padrão de 2 para ambas as amostras.\n",
    "\n",
    "**Interpretação dos Resultados:**\n",
    "As amostras sample1 e sample2 apresentam médias diferentes, como indicado pelo teste t-Student.\n",
    "Apesar das amostras não rejeitarem a hipótese nula de normalidade com base no teste de Shapiro-Wilk, o teste t-Student fornece evidências suficientes para concluir que as médias das amostras são estatisticamente diferentes.\n",
    "\n",
    "**Visualização dos Dados:**\n",
    "Os boxplots das amostras são apresentados para visualização da distribuição dos dados. Eles mostram a dispersão dos valores e a presença de possíveis outliers em cada amostra."
   ]
  },
  {
   "cell_type": "code",
   "execution_count": 5,
   "metadata": {},
   "outputs": [
    {
     "data": {
      "image/png": "[encoded data removed]",
      "text/plain": [
       "<Figure size 1000x500 with 1 Axes>"
      ]
     },
     "metadata": {},
     "output_type": "display_data"
    },
    {
     "name": "stdout",
     "output_type": "stream",
     "text": [
      "Resumo Estatístico das Amostras:\n",
      "--------------------------------\n",
      "Amostra 1:\n",
      "Média: 9.79, Desvio Padrão: 1.82, Tamanho: 100\n",
      "Amostra 2:\n",
      "Média: 12.04, Desvio Padrão: 1.91, Tamanho: 100\n",
      "\n",
      "Resultados do Teste t-Student:\n",
      "--------------------------------\n",
      "Estatística t: -8.55\n",
      "Valor-p: 0.0000\n",
      "Hipótese nula rejeitada. As amostras têm médias diferentes.\n",
      "\n",
      "Teste de Shapiro-Wilk para Normalidade:\n",
      "---------------------------------------\n",
      "Amostra 1: Valor-p = 0.6552\n",
      "Amostra 2: Valor-p = 0.0853\n",
      "As amostras parecem seguir uma distribuição normal.\n"
     ]
    }
   ],
   "source": [
    "import numpy as np\n",
    "from scipy import stats\n",
    "import matplotlib.pyplot as plt\n",
    "\n",
    "# Função para realizar a análise estatística\n",
    "def t_test_analysis(sample1, sample2, alpha=0.05):\n",
    "    # Cálculo das estatísticas descritivas\n",
    "    mean1, mean2 = np.mean(sample1), np.mean(sample2)\n",
    "    std1, std2 = np.std(sample1, ddof=1), np.std(sample2, ddof=1)\n",
    "    n1, n2 = len(sample1), len(sample2)\n",
    "    \n",
    "    # Realização do teste t-Student\n",
    "    t_statistic, p_value = stats.ttest_ind(sample1, sample2)\n",
    "    \n",
    "    # Verificação da normalidade das amostras usando o teste de Shapiro-Wilk\n",
    "    _, p_shapiro1 = stats.shapiro(sample1)\n",
    "    _, p_shapiro2 = stats.shapiro(sample2)\n",
    "    \n",
    "    # Plotagem dos boxplots\n",
    "    plt.figure(figsize=(10, 5))\n",
    "    plt.boxplot([sample1, sample2])\n",
    "    plt.xticks([1, 2], ['Amostra 1', 'Amostra 2'])\n",
    "    plt.ylabel('Valores')\n",
    "    plt.title('Boxplot das Amostras')\n",
    "    plt.grid(True)\n",
    "    plt.show()\n",
    "    \n",
    "    # Resumo estatístico das amostras\n",
    "    print(\"Resumo Estatístico das Amostras:\")\n",
    "    print(\"--------------------------------\")\n",
    "    print(\"Amostra 1:\")\n",
    "    print(f\"Média: {mean1:.2f}, Desvio Padrão: {std1:.2f}, Tamanho: {n1}\")\n",
    "    print(\"Amostra 2:\")\n",
    "    print(f\"Média: {mean2:.2f}, Desvio Padrão: {std2:.2f}, Tamanho: {n2}\")\n",
    "    \n",
    "    # Interpretação dos resultados do teste t-Student e teste de Shapiro-Wilk\n",
    "    print(\"\\nResultados do Teste t-Student:\")\n",
    "    print(\"--------------------------------\")\n",
    "    print(f\"Estatística t: {t_statistic:.2f}\")\n",
    "    print(f\"Valor-p: {p_value:.4f}\")\n",
    "    if p_value < alpha:\n",
    "        print(\"Hipótese nula rejeitada. As amostras têm médias diferentes.\")\n",
    "    else:\n",
    "        print(\"Não há evidências suficientes para rejeitar a hipótese nula. As amostras têm médias semelhantes.\")\n",
    "    \n",
    "    print(\"\\nTeste de Shapiro-Wilk para Normalidade:\")\n",
    "    print(\"---------------------------------------\")\n",
    "    print(f\"Amostra 1: Valor-p = {p_shapiro1:.4f}\")\n",
    "    print(f\"Amostra 2: Valor-p = {p_shapiro2:.4f}\")\n",
    "    if p_shapiro1 > alpha and p_shapiro2 > alpha:\n",
    "        print(\"As amostras parecem seguir uma distribuição normal.\")\n",
    "    else:\n",
    "        print(\"Pelo menos uma das amostras não parece seguir uma distribuição normal.\")\n",
    "\n",
    "# Amostras fictícias\n",
    "np.random.seed(42)\n",
    "sample1 = np.random.normal(loc=10, scale=2, size=100)\n",
    "sample2 = np.random.normal(loc=12, scale=2, size=100)\n",
    "\n",
    "# Executando a análise estatística\n",
    "t_test_analysis(sample1, sample2)\n"
   ]
  }
 ],
 "metadata": {
  "kernelspec": {
   "display_name": "Python 3 (ipykernel)",
   "language": "python",
   "name": "python3"
  },
  "language_info": {
   "codemirror_mode": {
    "name": "ipython",
    "version": 3
   },
   "file_extension": ".py",
   "mimetype": "text/x-python",
   "name": "python",
   "nbconvert_exporter": "python",
   "pygments_lexer": "ipython3",
   "version": "3.10.9"
  }
 },
 "nbformat": 4,
 "nbformat_minor": 2
}
