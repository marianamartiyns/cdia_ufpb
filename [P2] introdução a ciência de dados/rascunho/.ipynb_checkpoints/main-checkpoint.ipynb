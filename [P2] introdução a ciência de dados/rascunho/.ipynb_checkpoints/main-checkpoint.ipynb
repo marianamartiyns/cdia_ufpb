{
 "cells": [
  {
   "cell_type": "markdown",
   "metadata": {},
   "source": [
    "## Criação do Dataset\n",
    "\n",
    "Para ampliar a análise de dados, juntamos dados dos 5 últimos anos disponíveis em apenas um único arquivo.\n",
    "\n",
    "Como utilizar: \n",
    "\n",
    "Acesse [o link do dataset no Kaggle](https://www.kaggle.com/datasets/mcamera/brazil-highway-traffic-accidents?select=por_pessoa_todos+tipos), baixe todos os arquivos da pasta \"por_pessoa_todos tipos\", coloque os arquivos na mesma pasta desse notebook, descomente o bloco de código abaixo e execute, após a geração do novo arquivo comente ou exclua o bloco de código. \n",
    "\n",
    "Esse processo precisa ser feito apenas uma vez, após realizado só é necessário manter na pasta o arquivo que foi criado \"acidentes2017a2021_todas_causas_tipos.csv\".\n",
    "\n",
    "**OBS: Não renomeie os arquivos baixados do Kaggle, caso faça terá que atualizar o nome dos arquivos no bloco de código.**"
   ]
  },
  {
   "cell_type": "code",
   "execution_count": 82,
   "metadata": {},
   "outputs": [],
   "source": [
    "#Importando as bibliotecas necessarias\n",
    "\n",
    "import pandas as pd\n",
    "import matplotlib.pyplot as plt\n",
    "import seaborn as sns\n",
    "import re\n",
    "\n",
    "pd.set_option(\"display.max_columns\", 37)\n",
    "pd.options.display.float_format = '{:.0f}'.format"
   ]
  },
  {
   "cell_type": "code",
   "execution_count": 23,
   "metadata": {},
   "outputs": [],
   "source": [
    "# Transformando os 5 arquivos .csv de cada ano em um arquivo unico. Arquivos disponíveis no Kaggle (Link no README.md)\n",
    "\n",
    "import csv\n",
    "df2017 = pd.read_csv(\"acidentes2017_todas_causas_tipos.csv\", sep=\";\" ,encoding='latin-1', quoting=csv.QUOTE_NONE)\n",
    "df2018 = pd.read_csv(\"acidentes2018_todas_causas_tipos.csv\", sep=\";\" ,encoding='latin-1', quoting=csv.QUOTE_NONE)\n",
    "df2019 = pd.read_csv(\"acidentes2019_todas_causas_tipos.csv\", sep=\";\" ,encoding='latin-1', quoting=csv.QUOTE_NONE)\n",
    "df2020 = pd.read_csv(\"acidentes2020_todas_causas_tipos.csv\", sep=\";\" ,encoding='latin-1', quoting=csv.QUOTE_NONE)\n",
    "df2021 = pd.read_csv(\"acidentes2021_todas_causas_tipos.csv\", sep=\";\" ,encoding='latin-1', quoting=csv.QUOTE_NONE)\n",
    "df = pd.concat([df2017, df2018, df2019, df2020, df2021], ignore_index=True)\n",
    "df.to_csv(\"acidentes2017a2021_todas_causas_tipos.csv\")"
   ]
  },
  {
   "cell_type": "code",
   "execution_count": 26,
   "metadata": {},
   "outputs": [
    {
     "data": {
      "text/html": [
       "<div>\n",
       "<style scoped>\n",
       "    .dataframe tbody tr th:only-of-type {\n",
       "        vertical-align: middle;\n",
       "    }\n",
       "\n",
       "    .dataframe tbody tr th {\n",
       "        vertical-align: top;\n",
       "    }\n",
       "\n",
       "    .dataframe thead th {\n",
       "        text-align: right;\n",
       "    }\n",
       "</style>\n",
       "<table border=\"1\" class=\"dataframe\">\n",
       "  <thead>\n",
       "    <tr style=\"text-align: right;\">\n",
       "      <th></th>\n",
       "      <th>Unnamed: 0</th>\n",
       "      <th>\"id\"</th>\n",
       "      <th>\"pesid\"</th>\n",
       "      <th>\"data_inversa\"</th>\n",
       "      <th>\"dia_semana\"</th>\n",
       "      <th>\"horario\"</th>\n",
       "      <th>\"uf\"</th>\n",
       "      <th>\"br\"</th>\n",
       "      <th>\"km\"</th>\n",
       "      <th>\"municipio\"</th>\n",
       "      <th>\"causa_principal\"</th>\n",
       "      <th>\"causa_acidente\"</th>\n",
       "      <th>\"ordem_tipo_acidente\"</th>\n",
       "      <th>\"tipo_acidente\"</th>\n",
       "      <th>\"classificacao_acidente\"</th>\n",
       "      <th>\"fase_dia\"</th>\n",
       "      <th>\"sentido_via\"</th>\n",
       "      <th>\"condicao_metereologica\"</th>\n",
       "      <th>...</th>\n",
       "      <th>\"uso_solo\"</th>\n",
       "      <th>\"id_veiculo\"</th>\n",
       "      <th>\"tipo_veiculo\"</th>\n",
       "      <th>\"marca\"</th>\n",
       "      <th>\"ano_fabricacao_veiculo\"</th>\n",
       "      <th>\"tipo_envolvido\"</th>\n",
       "      <th>\"estado_fisico\"</th>\n",
       "      <th>\"idade\"</th>\n",
       "      <th>\"sexo\"</th>\n",
       "      <th>\"ilesos\"</th>\n",
       "      <th>\"feridos_leves\"</th>\n",
       "      <th>\"feridos_graves\"</th>\n",
       "      <th>\"mortos\"</th>\n",
       "      <th>\"latitude\"</th>\n",
       "      <th>\"longitude\"</th>\n",
       "      <th>\"regional\"</th>\n",
       "      <th>\"delegacia\"</th>\n",
       "      <th>\"uop\"</th>\n",
       "    </tr>\n",
       "  </thead>\n",
       "  <tbody>\n",
       "    <tr>\n",
       "      <th>0</th>\n",
       "      <td>0</td>\n",
       "      <td>8</td>\n",
       "      <td>1</td>\n",
       "      <td>2017-01-01</td>\n",
       "      <td>\"domingo\"</td>\n",
       "      <td>\"00:00:00\"</td>\n",
       "      <td>\"PR\"</td>\n",
       "      <td>376</td>\n",
       "      <td>112</td>\n",
       "      <td>\"PARANAVAI\"</td>\n",
       "      <td>\"Sim\"</td>\n",
       "      <td>\"Fenômenos da Natureza\"</td>\n",
       "      <td>1</td>\n",
       "      <td>\"Queda de ocupante de veículo\"</td>\n",
       "      <td>\"Com Vítimas Feridas\"</td>\n",
       "      <td>\"Plena Noite\"</td>\n",
       "      <td>\"Crescente\"</td>\n",
       "      <td>\"Chuva\"</td>\n",
       "      <td>...</td>\n",
       "      <td>\"Não\"</td>\n",
       "      <td>5</td>\n",
       "      <td>\"Motocicleta\"</td>\n",
       "      <td>\"HONDA/CG 150 TITAN ESD\"</td>\n",
       "      <td>2005</td>\n",
       "      <td>\"Condutor\"</td>\n",
       "      <td>\"Lesões Graves\"</td>\n",
       "      <td>19</td>\n",
       "      <td>\"Masculino\"</td>\n",
       "      <td>0</td>\n",
       "      <td>0</td>\n",
       "      <td>1</td>\n",
       "      <td>0</td>\n",
       "      <td>-23,09880731</td>\n",
       "      <td>-52,38789369</td>\n",
       "      <td>\"SR-PR\"</td>\n",
       "      <td>\"DEL7/7\"</td>\n",
       "      <td>\"UOP05/PR\"</td>\n",
       "    </tr>\n",
       "    <tr>\n",
       "      <th>1</th>\n",
       "      <td>1</td>\n",
       "      <td>9</td>\n",
       "      <td>955</td>\n",
       "      <td>2017-01-01</td>\n",
       "      <td>\"domingo\"</td>\n",
       "      <td>\"00:01:00\"</td>\n",
       "      <td>\"SC\"</td>\n",
       "      <td>101</td>\n",
       "      <td>234</td>\n",
       "      <td>\"PALHOCA\"</td>\n",
       "      <td>\"Sim\"</td>\n",
       "      <td>\"Falta de Atenção à Condução\"</td>\n",
       "      <td>1</td>\n",
       "      <td>\"Colisão com objeto estático\"</td>\n",
       "      <td>\"Sem Vítimas\"</td>\n",
       "      <td>\"Plena Noite\"</td>\n",
       "      <td>\"Crescente\"</td>\n",
       "      <td>\"Chuva\"</td>\n",
       "      <td>...</td>\n",
       "      <td>\"Não\"</td>\n",
       "      <td>7</td>\n",
       "      <td>\"Automóvel\"</td>\n",
       "      <td>\"FIAT/PALIO WEEKEND EX\"</td>\n",
       "      <td>2003</td>\n",
       "      <td>\"Condutor\"</td>\n",
       "      <td>\"Ileso\"</td>\n",
       "      <td>35</td>\n",
       "      <td>\"Masculino\"</td>\n",
       "      <td>1</td>\n",
       "      <td>0</td>\n",
       "      <td>0</td>\n",
       "      <td>0</td>\n",
       "      <td>-27,8101</td>\n",
       "      <td>-48,6357</td>\n",
       "      <td>\"SR-SC\"</td>\n",
       "      <td>\"DEL8/1\"</td>\n",
       "      <td>\"UOP02/SC\"</td>\n",
       "    </tr>\n",
       "    <tr>\n",
       "      <th>2</th>\n",
       "      <td>2</td>\n",
       "      <td>11</td>\n",
       "      <td>2</td>\n",
       "      <td>2017-01-01</td>\n",
       "      <td>\"domingo\"</td>\n",
       "      <td>\"00:00:00\"</td>\n",
       "      <td>\"PR\"</td>\n",
       "      <td>153</td>\n",
       "      <td>56,9</td>\n",
       "      <td>\"SANTO ANTONIO DA PLATINA\"</td>\n",
       "      <td>\"Sim\"</td>\n",
       "      <td>\"Animais na Pista\"</td>\n",
       "      <td>1</td>\n",
       "      <td>\"Capotamento\"</td>\n",
       "      <td>\"Com Vítimas Feridas\"</td>\n",
       "      <td>\"Plena Noite\"</td>\n",
       "      <td>\"Decrescente\"</td>\n",
       "      <td>\"Garoa/Chuvisco\"</td>\n",
       "      <td>...</td>\n",
       "      <td>\"Não\"</td>\n",
       "      <td>6</td>\n",
       "      <td>\"Automóvel\"</td>\n",
       "      <td>\"VW/NOVO GOL 1.0\"</td>\n",
       "      <td>2013</td>\n",
       "      <td>\"Condutor\"</td>\n",
       "      <td>\"Lesões Leves\"</td>\n",
       "      <td>27</td>\n",
       "      <td>\"Feminino\"</td>\n",
       "      <td>0</td>\n",
       "      <td>1</td>\n",
       "      <td>0</td>\n",
       "      <td>0</td>\n",
       "      <td>-23,36951985</td>\n",
       "      <td>309,93513107</td>\n",
       "      <td>\"SR-PR\"</td>\n",
       "      <td>\"DEL7/7\"</td>\n",
       "      <td>\"UOP07/PR\"</td>\n",
       "    </tr>\n",
       "    <tr>\n",
       "      <th>3</th>\n",
       "      <td>3</td>\n",
       "      <td>11</td>\n",
       "      <td>3</td>\n",
       "      <td>2017-01-01</td>\n",
       "      <td>\"domingo\"</td>\n",
       "      <td>\"00:00:00\"</td>\n",
       "      <td>\"PR\"</td>\n",
       "      <td>153</td>\n",
       "      <td>56,9</td>\n",
       "      <td>\"SANTO ANTONIO DA PLATINA\"</td>\n",
       "      <td>\"Sim\"</td>\n",
       "      <td>\"Animais na Pista\"</td>\n",
       "      <td>1</td>\n",
       "      <td>\"Capotamento\"</td>\n",
       "      <td>\"Com Vítimas Feridas\"</td>\n",
       "      <td>\"Plena Noite\"</td>\n",
       "      <td>\"Decrescente\"</td>\n",
       "      <td>\"Garoa/Chuvisco\"</td>\n",
       "      <td>...</td>\n",
       "      <td>\"Não\"</td>\n",
       "      <td>6</td>\n",
       "      <td>\"Automóvel\"</td>\n",
       "      <td>\"VW/NOVO GOL 1.0\"</td>\n",
       "      <td>2013</td>\n",
       "      <td>\"Passageiro\"</td>\n",
       "      <td>\"Lesões Leves\"</td>\n",
       "      <td>27</td>\n",
       "      <td>\"Masculino\"</td>\n",
       "      <td>0</td>\n",
       "      <td>1</td>\n",
       "      <td>0</td>\n",
       "      <td>0</td>\n",
       "      <td>-23,36951985</td>\n",
       "      <td>309,93513107</td>\n",
       "      <td>\"SR-PR\"</td>\n",
       "      <td>\"DEL7/7\"</td>\n",
       "      <td>\"UOP07/PR\"</td>\n",
       "    </tr>\n",
       "    <tr>\n",
       "      <th>4</th>\n",
       "      <td>4</td>\n",
       "      <td>12</td>\n",
       "      <td>1499</td>\n",
       "      <td>2017-01-01</td>\n",
       "      <td>\"domingo\"</td>\n",
       "      <td>\"00:00:00\"</td>\n",
       "      <td>\"GO\"</td>\n",
       "      <td>153</td>\n",
       "      <td>435</td>\n",
       "      <td>\"ANAPOLIS\"</td>\n",
       "      <td>\"Sim\"</td>\n",
       "      <td>\"Avarias e/ou desgaste excessivo no pneu\"</td>\n",
       "      <td>1</td>\n",
       "      <td>\"Tombamento\"</td>\n",
       "      <td>\"Com Vítimas Feridas\"</td>\n",
       "      <td>\"Plena Noite\"</td>\n",
       "      <td>\"Decrescente\"</td>\n",
       "      <td>\"Céu Claro\"</td>\n",
       "      <td>...</td>\n",
       "      <td>\"Sim\"</td>\n",
       "      <td>8</td>\n",
       "      <td>\"Motocicleta\"</td>\n",
       "      <td>\"KASINSKI/COMET 250\"</td>\n",
       "      <td>2011</td>\n",
       "      <td>\"Condutor\"</td>\n",
       "      <td>\"Lesões Graves\"</td>\n",
       "      <td>24</td>\n",
       "      <td>\"Masculino\"</td>\n",
       "      <td>0</td>\n",
       "      <td>0</td>\n",
       "      <td>1</td>\n",
       "      <td>0</td>\n",
       "      <td>-16,27473677</td>\n",
       "      <td>-48,96908998</td>\n",
       "      <td>\"SR-GO\"</td>\n",
       "      <td>\"DEL1/2\"</td>\n",
       "      <td>\"UOP01/GO\"</td>\n",
       "    </tr>\n",
       "    <tr>\n",
       "      <th>...</th>\n",
       "      <td>...</td>\n",
       "      <td>...</td>\n",
       "      <td>...</td>\n",
       "      <td>...</td>\n",
       "      <td>...</td>\n",
       "      <td>...</td>\n",
       "      <td>...</td>\n",
       "      <td>...</td>\n",
       "      <td>...</td>\n",
       "      <td>...</td>\n",
       "      <td>...</td>\n",
       "      <td>...</td>\n",
       "      <td>...</td>\n",
       "      <td>...</td>\n",
       "      <td>...</td>\n",
       "      <td>...</td>\n",
       "      <td>...</td>\n",
       "      <td>...</td>\n",
       "      <td>...</td>\n",
       "      <td>...</td>\n",
       "      <td>...</td>\n",
       "      <td>...</td>\n",
       "      <td>...</td>\n",
       "      <td>...</td>\n",
       "      <td>...</td>\n",
       "      <td>...</td>\n",
       "      <td>...</td>\n",
       "      <td>...</td>\n",
       "      <td>...</td>\n",
       "      <td>...</td>\n",
       "      <td>...</td>\n",
       "      <td>...</td>\n",
       "      <td>...</td>\n",
       "      <td>...</td>\n",
       "      <td>...</td>\n",
       "      <td>...</td>\n",
       "      <td>...</td>\n",
       "    </tr>\n",
       "    <tr>\n",
       "      <th>1607161</th>\n",
       "      <td>1607161</td>\n",
       "      <td>374224</td>\n",
       "      <td>834254</td>\n",
       "      <td>2021-06-13</td>\n",
       "      <td>\"domingo\"</td>\n",
       "      <td>\"02:50:00\"</td>\n",
       "      <td>\"SP\"</td>\n",
       "      <td>116</td>\n",
       "      <td>102,7</td>\n",
       "      <td>\"PINDAMONHANGABA\"</td>\n",
       "      <td>\"Sim\"</td>\n",
       "      <td>\"Reação tardia ou ineficiente do condutor\"</td>\n",
       "      <td>1</td>\n",
       "      <td>\"Colisão traseira\"</td>\n",
       "      <td>\"Com Vítimas Feridas\"</td>\n",
       "      <td>\"Plena Noite\"</td>\n",
       "      <td>\"Crescente\"</td>\n",
       "      <td>\"Céu Claro\"</td>\n",
       "      <td>...</td>\n",
       "      <td>\"Não\"</td>\n",
       "      <td>675926</td>\n",
       "      <td>\"Automóvel\"</td>\n",
       "      <td>\"FIAT/PALIO FIRE ECONOMY/PALIO FIRE ECONOMY\"</td>\n",
       "      <td>2009</td>\n",
       "      <td>\"Condutor\"</td>\n",
       "      <td>\"Lesões Leves\"</td>\n",
       "      <td>40</td>\n",
       "      <td>\"Masculino\"</td>\n",
       "      <td>0</td>\n",
       "      <td>1</td>\n",
       "      <td>0</td>\n",
       "      <td>0</td>\n",
       "      <td>-22,99497994</td>\n",
       "      <td>-45,48951403</td>\n",
       "      <td>\"SR-SP\"</td>\n",
       "      <td>\"UOP01\"</td>\n",
       "      <td>\"DEL08\"</td>\n",
       "    </tr>\n",
       "    <tr>\n",
       "      <th>1607162</th>\n",
       "      <td>1607162</td>\n",
       "      <td>374224</td>\n",
       "      <td>834253</td>\n",
       "      <td>2021-06-13</td>\n",
       "      <td>\"domingo\"</td>\n",
       "      <td>\"02:50:00\"</td>\n",
       "      <td>\"SP\"</td>\n",
       "      <td>116</td>\n",
       "      <td>102,7</td>\n",
       "      <td>\"PINDAMONHANGABA\"</td>\n",
       "      <td>\"Sim\"</td>\n",
       "      <td>\"Reação tardia ou ineficiente do condutor\"</td>\n",
       "      <td>1</td>\n",
       "      <td>\"Colisão traseira\"</td>\n",
       "      <td>\"Com Vítimas Feridas\"</td>\n",
       "      <td>\"Plena Noite\"</td>\n",
       "      <td>\"Crescente\"</td>\n",
       "      <td>\"Céu Claro\"</td>\n",
       "      <td>...</td>\n",
       "      <td>\"Não\"</td>\n",
       "      <td>675925</td>\n",
       "      <td>\"Caminhão\"</td>\n",
       "      <td>\"\"</td>\n",
       "      <td>NaN</td>\n",
       "      <td>\"Condutor\"</td>\n",
       "      <td>\"Não Informado\"</td>\n",
       "      <td>NaN</td>\n",
       "      <td>\"Não Informado\"</td>\n",
       "      <td>0</td>\n",
       "      <td>0</td>\n",
       "      <td>0</td>\n",
       "      <td>0</td>\n",
       "      <td>-22,99497994</td>\n",
       "      <td>-45,48951403</td>\n",
       "      <td>\"SR-SP\"</td>\n",
       "      <td>\"UOP01\"</td>\n",
       "      <td>\"DEL08\"</td>\n",
       "    </tr>\n",
       "    <tr>\n",
       "      <th>1607163</th>\n",
       "      <td>1607163</td>\n",
       "      <td>374239</td>\n",
       "      <td>834287</td>\n",
       "      <td>2021-06-02</td>\n",
       "      <td>\"quarta-feira\"</td>\n",
       "      <td>\"08:45:00\"</td>\n",
       "      <td>\"RN\"</td>\n",
       "      <td>101</td>\n",
       "      <td>85</td>\n",
       "      <td>\"NATAL\"</td>\n",
       "      <td>\"Sim\"</td>\n",
       "      <td>\"Velocidade Incompatível\"</td>\n",
       "      <td>1</td>\n",
       "      <td>\"Colisão traseira\"</td>\n",
       "      <td>\"Com Vítimas Feridas\"</td>\n",
       "      <td>\"Pleno dia\"</td>\n",
       "      <td>\"Crescente\"</td>\n",
       "      <td>\"Céu Claro\"</td>\n",
       "      <td>...</td>\n",
       "      <td>\"Sim\"</td>\n",
       "      <td>675966</td>\n",
       "      <td>\"Motocicleta\"</td>\n",
       "      <td>\"YAMAHA/XTZ150 CROSSER ED/XTZ150 CROSSER ED\"</td>\n",
       "      <td>2014</td>\n",
       "      <td>\"Condutor\"</td>\n",
       "      <td>\"Lesões Graves\"</td>\n",
       "      <td>NaN</td>\n",
       "      <td>\"Masculino\"</td>\n",
       "      <td>0</td>\n",
       "      <td>0</td>\n",
       "      <td>1</td>\n",
       "      <td>0</td>\n",
       "      <td>-5,777664</td>\n",
       "      <td>-35,24937</td>\n",
       "      <td>\"SR-RN\"</td>\n",
       "      <td>\"UOP01\"</td>\n",
       "      <td>\"DEL02\"</td>\n",
       "    </tr>\n",
       "    <tr>\n",
       "      <th>1607164</th>\n",
       "      <td>1607164</td>\n",
       "      <td>374239</td>\n",
       "      <td>834286</td>\n",
       "      <td>2021-06-02</td>\n",
       "      <td>\"quarta-feira\"</td>\n",
       "      <td>\"08:45:00\"</td>\n",
       "      <td>\"RN\"</td>\n",
       "      <td>101</td>\n",
       "      <td>85</td>\n",
       "      <td>\"NATAL\"</td>\n",
       "      <td>\"Sim\"</td>\n",
       "      <td>\"Velocidade Incompatível\"</td>\n",
       "      <td>1</td>\n",
       "      <td>\"Colisão traseira\"</td>\n",
       "      <td>\"Com Vítimas Feridas\"</td>\n",
       "      <td>\"Pleno dia\"</td>\n",
       "      <td>\"Crescente\"</td>\n",
       "      <td>\"Céu Claro\"</td>\n",
       "      <td>...</td>\n",
       "      <td>\"Sim\"</td>\n",
       "      <td>675965</td>\n",
       "      <td>\"Automóvel\"</td>\n",
       "      <td>\"VW/POLO CL AD/POLO CL AD\"</td>\n",
       "      <td>2018</td>\n",
       "      <td>\"Condutor\"</td>\n",
       "      <td>\"Ileso\"</td>\n",
       "      <td>45</td>\n",
       "      <td>\"Masculino\"</td>\n",
       "      <td>1</td>\n",
       "      <td>0</td>\n",
       "      <td>0</td>\n",
       "      <td>0</td>\n",
       "      <td>-5,777664</td>\n",
       "      <td>-35,24937</td>\n",
       "      <td>\"SR-RN\"</td>\n",
       "      <td>\"UOP01\"</td>\n",
       "      <td>\"DEL02\"</td>\n",
       "    </tr>\n",
       "    <tr>\n",
       "      <th>1607165</th>\n",
       "      <td>1607165</td>\n",
       "      <td>374253</td>\n",
       "      <td>834310</td>\n",
       "      <td>2021-01-01</td>\n",
       "      <td>\"sexta-feira\"</td>\n",
       "      <td>\"17:40:00\"</td>\n",
       "      <td>\"RN\"</td>\n",
       "      <td>101</td>\n",
       "      <td>78,4</td>\n",
       "      <td>\"NATAL\"</td>\n",
       "      <td>\"Sim\"</td>\n",
       "      <td>\"Manobra de mudança de faixa\"</td>\n",
       "      <td>1</td>\n",
       "      <td>\"Capotamento\"</td>\n",
       "      <td>\"Com Vítimas Feridas\"</td>\n",
       "      <td>\"Anoitecer\"</td>\n",
       "      <td>\"Decrescente\"</td>\n",
       "      <td>\"Céu Claro\"</td>\n",
       "      <td>...</td>\n",
       "      <td>\"Sim\"</td>\n",
       "      <td>675980</td>\n",
       "      <td>\"Automóvel\"</td>\n",
       "      <td>\"HONDA/CITY LX FLEX/CITY LX FLEX\"</td>\n",
       "      <td>2012</td>\n",
       "      <td>\"Condutor\"</td>\n",
       "      <td>\"Lesões Graves\"</td>\n",
       "      <td>34</td>\n",
       "      <td>\"Masculino\"</td>\n",
       "      <td>0</td>\n",
       "      <td>0</td>\n",
       "      <td>1</td>\n",
       "      <td>0</td>\n",
       "      <td>-5,74071896</td>\n",
       "      <td>-35,29021064</td>\n",
       "      <td>\"SR-RN\"</td>\n",
       "      <td>\"UOP01\"</td>\n",
       "      <td>\"DEL02\"</td>\n",
       "    </tr>\n",
       "  </tbody>\n",
       "</table>\n",
       "<p>1607166 rows × 38 columns</p>\n",
       "</div>"
      ],
      "text/plain": [
       "         Unnamed: 0   \"id\"  \"pesid\" \"data_inversa\"    \"dia_semana\"  \\\n",
       "0                 0      8        1     2017-01-01       \"domingo\"   \n",
       "1                 1      9      955     2017-01-01       \"domingo\"   \n",
       "2                 2     11        2     2017-01-01       \"domingo\"   \n",
       "3                 3     11        3     2017-01-01       \"domingo\"   \n",
       "4                 4     12     1499     2017-01-01       \"domingo\"   \n",
       "...             ...    ...      ...            ...             ...   \n",
       "1607161     1607161 374224   834254     2021-06-13       \"domingo\"   \n",
       "1607162     1607162 374224   834253     2021-06-13       \"domingo\"   \n",
       "1607163     1607163 374239   834287     2021-06-02  \"quarta-feira\"   \n",
       "1607164     1607164 374239   834286     2021-06-02  \"quarta-feira\"   \n",
       "1607165     1607165 374253   834310     2021-01-01   \"sexta-feira\"   \n",
       "\n",
       "          \"horario\"  \"uf\"  \"br\"   \"km\"                 \"municipio\"  \\\n",
       "0        \"00:00:00\"  \"PR\"   376    112                 \"PARANAVAI\"   \n",
       "1        \"00:01:00\"  \"SC\"   101    234                   \"PALHOCA\"   \n",
       "2        \"00:00:00\"  \"PR\"   153   56,9  \"SANTO ANTONIO DA PLATINA\"   \n",
       "3        \"00:00:00\"  \"PR\"   153   56,9  \"SANTO ANTONIO DA PLATINA\"   \n",
       "4        \"00:00:00\"  \"GO\"   153    435                  \"ANAPOLIS\"   \n",
       "...             ...   ...   ...    ...                         ...   \n",
       "1607161  \"02:50:00\"  \"SP\"   116  102,7           \"PINDAMONHANGABA\"   \n",
       "1607162  \"02:50:00\"  \"SP\"   116  102,7           \"PINDAMONHANGABA\"   \n",
       "1607163  \"08:45:00\"  \"RN\"   101     85                     \"NATAL\"   \n",
       "1607164  \"08:45:00\"  \"RN\"   101     85                     \"NATAL\"   \n",
       "1607165  \"17:40:00\"  \"RN\"   101   78,4                     \"NATAL\"   \n",
       "\n",
       "        \"causa_principal\"                            \"causa_acidente\"  \\\n",
       "0                   \"Sim\"                     \"Fenômenos da Natureza\"   \n",
       "1                   \"Sim\"               \"Falta de Atenção à Condução\"   \n",
       "2                   \"Sim\"                          \"Animais na Pista\"   \n",
       "3                   \"Sim\"                          \"Animais na Pista\"   \n",
       "4                   \"Sim\"   \"Avarias e/ou desgaste excessivo no pneu\"   \n",
       "...                   ...                                         ...   \n",
       "1607161             \"Sim\"  \"Reação tardia ou ineficiente do condutor\"   \n",
       "1607162             \"Sim\"  \"Reação tardia ou ineficiente do condutor\"   \n",
       "1607163             \"Sim\"                   \"Velocidade Incompatível\"   \n",
       "1607164             \"Sim\"                   \"Velocidade Incompatível\"   \n",
       "1607165             \"Sim\"               \"Manobra de mudança de faixa\"   \n",
       "\n",
       "         \"ordem_tipo_acidente\"                 \"tipo_acidente\"  \\\n",
       "0                            1  \"Queda de ocupante de veículo\"   \n",
       "1                            1   \"Colisão com objeto estático\"   \n",
       "2                            1                   \"Capotamento\"   \n",
       "3                            1                   \"Capotamento\"   \n",
       "4                            1                    \"Tombamento\"   \n",
       "...                        ...                             ...   \n",
       "1607161                      1              \"Colisão traseira\"   \n",
       "1607162                      1              \"Colisão traseira\"   \n",
       "1607163                      1              \"Colisão traseira\"   \n",
       "1607164                      1              \"Colisão traseira\"   \n",
       "1607165                      1                   \"Capotamento\"   \n",
       "\n",
       "        \"classificacao_acidente\"     \"fase_dia\"  \"sentido_via\"  \\\n",
       "0          \"Com Vítimas Feridas\"  \"Plena Noite\"    \"Crescente\"   \n",
       "1                  \"Sem Vítimas\"  \"Plena Noite\"    \"Crescente\"   \n",
       "2          \"Com Vítimas Feridas\"  \"Plena Noite\"  \"Decrescente\"   \n",
       "3          \"Com Vítimas Feridas\"  \"Plena Noite\"  \"Decrescente\"   \n",
       "4          \"Com Vítimas Feridas\"  \"Plena Noite\"  \"Decrescente\"   \n",
       "...                          ...            ...            ...   \n",
       "1607161    \"Com Vítimas Feridas\"  \"Plena Noite\"    \"Crescente\"   \n",
       "1607162    \"Com Vítimas Feridas\"  \"Plena Noite\"    \"Crescente\"   \n",
       "1607163    \"Com Vítimas Feridas\"    \"Pleno dia\"    \"Crescente\"   \n",
       "1607164    \"Com Vítimas Feridas\"    \"Pleno dia\"    \"Crescente\"   \n",
       "1607165    \"Com Vítimas Feridas\"    \"Anoitecer\"  \"Decrescente\"   \n",
       "\n",
       "        \"condicao_metereologica\"  ... \"uso_solo\" \"id_veiculo\" \"tipo_veiculo\"  \\\n",
       "0                        \"Chuva\"  ...      \"Não\"            5  \"Motocicleta\"   \n",
       "1                        \"Chuva\"  ...      \"Não\"            7    \"Automóvel\"   \n",
       "2               \"Garoa/Chuvisco\"  ...      \"Não\"            6    \"Automóvel\"   \n",
       "3               \"Garoa/Chuvisco\"  ...      \"Não\"            6    \"Automóvel\"   \n",
       "4                    \"Céu Claro\"  ...      \"Sim\"            8  \"Motocicleta\"   \n",
       "...                          ...  ...        ...          ...            ...   \n",
       "1607161              \"Céu Claro\"  ...      \"Não\"       675926    \"Automóvel\"   \n",
       "1607162              \"Céu Claro\"  ...      \"Não\"       675925     \"Caminhão\"   \n",
       "1607163              \"Céu Claro\"  ...      \"Sim\"       675966  \"Motocicleta\"   \n",
       "1607164              \"Céu Claro\"  ...      \"Sim\"       675965    \"Automóvel\"   \n",
       "1607165              \"Céu Claro\"  ...      \"Sim\"       675980    \"Automóvel\"   \n",
       "\n",
       "                                              \"marca\"  \\\n",
       "0                            \"HONDA/CG 150 TITAN ESD\"   \n",
       "1                             \"FIAT/PALIO WEEKEND EX\"   \n",
       "2                                   \"VW/NOVO GOL 1.0\"   \n",
       "3                                   \"VW/NOVO GOL 1.0\"   \n",
       "4                                \"KASINSKI/COMET 250\"   \n",
       "...                                               ...   \n",
       "1607161  \"FIAT/PALIO FIRE ECONOMY/PALIO FIRE ECONOMY\"   \n",
       "1607162                                            \"\"   \n",
       "1607163  \"YAMAHA/XTZ150 CROSSER ED/XTZ150 CROSSER ED\"   \n",
       "1607164                    \"VW/POLO CL AD/POLO CL AD\"   \n",
       "1607165             \"HONDA/CITY LX FLEX/CITY LX FLEX\"   \n",
       "\n",
       "        \"ano_fabricacao_veiculo\" \"tipo_envolvido\"  \"estado_fisico\" \"idade\"  \\\n",
       "0                           2005       \"Condutor\"  \"Lesões Graves\"      19   \n",
       "1                           2003       \"Condutor\"          \"Ileso\"      35   \n",
       "2                           2013       \"Condutor\"   \"Lesões Leves\"      27   \n",
       "3                           2013     \"Passageiro\"   \"Lesões Leves\"      27   \n",
       "4                           2011       \"Condutor\"  \"Lesões Graves\"      24   \n",
       "...                          ...              ...              ...     ...   \n",
       "1607161                     2009       \"Condutor\"   \"Lesões Leves\"      40   \n",
       "1607162                      NaN       \"Condutor\"  \"Não Informado\"     NaN   \n",
       "1607163                     2014       \"Condutor\"  \"Lesões Graves\"     NaN   \n",
       "1607164                     2018       \"Condutor\"          \"Ileso\"      45   \n",
       "1607165                     2012       \"Condutor\"  \"Lesões Graves\"      34   \n",
       "\n",
       "                  \"sexo\"  \"ilesos\" \"feridos_leves\"  \"feridos_graves\"  \\\n",
       "0            \"Masculino\"         0               0                 1   \n",
       "1            \"Masculino\"         1               0                 0   \n",
       "2             \"Feminino\"         0               1                 0   \n",
       "3            \"Masculino\"         0               1                 0   \n",
       "4            \"Masculino\"         0               0                 1   \n",
       "...                  ...       ...             ...               ...   \n",
       "1607161      \"Masculino\"         0               1                 0   \n",
       "1607162  \"Não Informado\"         0               0                 0   \n",
       "1607163      \"Masculino\"         0               0                 1   \n",
       "1607164      \"Masculino\"         1               0                 0   \n",
       "1607165      \"Masculino\"         0               0                 1   \n",
       "\n",
       "         \"mortos\"    \"latitude\"   \"longitude\" \"regional\" \"delegacia\"  \\\n",
       "0               0  -23,09880731  -52,38789369    \"SR-PR\"    \"DEL7/7\"   \n",
       "1               0      -27,8101      -48,6357    \"SR-SC\"    \"DEL8/1\"   \n",
       "2               0  -23,36951985  309,93513107    \"SR-PR\"    \"DEL7/7\"   \n",
       "3               0  -23,36951985  309,93513107    \"SR-PR\"    \"DEL7/7\"   \n",
       "4               0  -16,27473677  -48,96908998    \"SR-GO\"    \"DEL1/2\"   \n",
       "...           ...           ...           ...        ...         ...   \n",
       "1607161         0  -22,99497994  -45,48951403    \"SR-SP\"     \"UOP01\"   \n",
       "1607162         0  -22,99497994  -45,48951403    \"SR-SP\"     \"UOP01\"   \n",
       "1607163         0     -5,777664     -35,24937    \"SR-RN\"     \"UOP01\"   \n",
       "1607164         0     -5,777664     -35,24937    \"SR-RN\"     \"UOP01\"   \n",
       "1607165         0   -5,74071896  -35,29021064    \"SR-RN\"     \"UOP01\"   \n",
       "\n",
       "              \"uop\"  \n",
       "0        \"UOP05/PR\"  \n",
       "1        \"UOP02/SC\"  \n",
       "2        \"UOP07/PR\"  \n",
       "3        \"UOP07/PR\"  \n",
       "4        \"UOP01/GO\"  \n",
       "...             ...  \n",
       "1607161     \"DEL08\"  \n",
       "1607162     \"DEL08\"  \n",
       "1607163     \"DEL02\"  \n",
       "1607164     \"DEL02\"  \n",
       "1607165     \"DEL02\"  \n",
       "\n",
       "[1607166 rows x 38 columns]"
      ]
     },
     "execution_count": 26,
     "metadata": {},
     "output_type": "execute_result"
    }
   ],
   "source": [
    "df = pd.read_csv(\"acidentes2017a2021_todas_causas_tipos.csv\")\n",
    "df"
   ]
  },
  {
   "cell_type": "markdown",
   "metadata": {},
   "source": [
    "# Fase 1 - Limpeza dos dados"
   ]
  },
  {
   "cell_type": "markdown",
   "metadata": {},
   "source": [
    "##### Remoção das linhas com valores NaN (~300.000 linhas)"
   ]
  },
  {
   "cell_type": "code",
   "execution_count": null,
   "metadata": {},
   "outputs": [],
   "source": [
    "df.dropna(axis= 0, inplace=True)"
   ]
  },
  {
   "cell_type": "markdown",
   "metadata": {},
   "source": [
    "##### Remoção das aspas ao redor dos nomes das colunas"
   ]
  },
  {
   "cell_type": "code",
   "execution_count": null,
   "metadata": {},
   "outputs": [],
   "source": [
    "df.columns = df.columns.str.strip('\"')\n",
    "df = df.drop(columns=[\"Unnamed: 0\"])"
   ]
  },
  {
   "cell_type": "code",
   "execution_count": null,
   "metadata": {},
   "outputs": [],
   "source": [
    "obj_columns = df.select_dtypes(\"object\").columns\n",
    "df[obj_columns] = df[obj_columns].apply(lambda i: i.str.strip('\"'))"
   ]
  },
  {
   "cell_type": "markdown",
   "metadata": {},
   "source": [
    "##### Ajuste do índice devido a remoção de linhas"
   ]
  },
  {
   "cell_type": "code",
   "execution_count": null,
   "metadata": {},
   "outputs": [],
   "source": [
    "df.reset_index(drop=True, inplace=True)"
   ]
  },
  {
   "cell_type": "markdown",
   "metadata": {},
   "source": [
    "###### Ajuste do formato da quilometragem das BRs, trocando o separador de casas \",\" para \".\" e arredondando valores"
   ]
  },
  {
   "cell_type": "code",
   "execution_count": null,
   "metadata": {},
   "outputs": [],
   "source": [
    "#execute once\n",
    "\n",
    "def fixKm(i):\n",
    "  if (type(i) != \"int\"):\n",
    "    x = i.replace(\",\",\".\")\n",
    "    return round(float(x))\n",
    "  else: return round(float(i))\n",
    "\n",
    "df[\"km\"] = df[\"km\"].apply(fixKm)\n"
   ]
  },
  {
   "cell_type": "markdown",
   "metadata": {},
   "source": [
    "##### Extração da marca e modelo dos carros a partir da coluna \"marca\""
   ]
  },
  {
   "cell_type": "code",
   "execution_count": null,
   "metadata": {},
   "outputs": [],
   "source": [
    "def brand_name(x):\n",
    "    padrao = r\"^(.*?)\\/(.*?)\\s.*$\"\n",
    "    correspondencia = re.match(padrao,x)\n",
    "    \n",
    "    if correspondencia:\n",
    "        marca = correspondencia.group(1)\n",
    "        modelo = correspondencia.group(2)\n",
    "        return (marca, modelo)\n",
    "    else:\n",
    "        return (None, None)\n",
    "\n",
    "df[\"carro_marca\"], df[\"carro_modelo\"] = zip(*df[\"marca\"].apply(brand_name))\n",
    "# df[df[\"carro_modelo\"].isnull()] # Pouco mais de 39K colunas sem informação dos veículos"
   ]
  },
  {
   "cell_type": "markdown",
   "metadata": {},
   "source": [
    "##### Remoção das colunas com valores None nas colunas de marca e modelo e ajuste do índice. (~39.000 linhas) "
   ]
  },
  {
   "cell_type": "code",
   "execution_count": null,
   "metadata": {},
   "outputs": [],
   "source": [
    "df = df[df['carro_marca'].notna()]\n",
    "df.reset_index(drop=True, inplace=True)"
   ]
  },
  {
   "cell_type": "markdown",
   "metadata": {},
   "source": [
    "##### Convertendo datas para o tipo datetime"
   ]
  },
  {
   "cell_type": "code",
   "execution_count": null,
   "metadata": {},
   "outputs": [],
   "source": [
    "df[\"data_inversa\"] = pd.to_datetime(df[\"data_inversa\"])"
   ]
  },
  {
   "cell_type": "markdown",
   "metadata": {},
   "source": [
    "# Fase 2 - Medidas de centralidade e dispersão\n",
    "\n",
    "  **Variáveis Quantitativas**\n",
    "\n",
    "- Idade\n",
    "  - Média: 38\n",
    "  - Desvio Padrão: 15\n",
    "  - Mediana: 36\n",
    "  - 1º Quartil: 25\n",
    "  - 3º Quartil: 47\n",
    "  - Moda: 32\n",
    "  \n",
    "<br>\n",
    "\n",
    "- Ano de Fabricação do Veículo\n",
    "  - Média: 2010\n",
    "  - Desvio Padrão: 7\n",
    "  - Mediana: 2011\n",
    "  - 1º Quartil: 2007\n",
    "  - 3º Quartil: 2014\n",
    "  - Moda: 2013\n",
    "\n",
    "<br>\n"
   ]
  },
  {
   "cell_type": "markdown",
   "metadata": {},
   "source": [
    "### Média e Mediana"
   ]
  },
  {
   "cell_type": "code",
   "execution_count": 76,
   "metadata": {},
   "outputs": [
    {
     "data": {
      "text/html": [
       "<div>\n",
       "<style scoped>\n",
       "    .dataframe tbody tr th:only-of-type {\n",
       "        vertical-align: middle;\n",
       "    }\n",
       "\n",
       "    .dataframe tbody tr th {\n",
       "        vertical-align: top;\n",
       "    }\n",
       "\n",
       "    .dataframe thead th {\n",
       "        text-align: right;\n",
       "    }\n",
       "</style>\n",
       "<table border=\"1\" class=\"dataframe\">\n",
       "  <thead>\n",
       "    <tr style=\"text-align: right;\">\n",
       "      <th></th>\n",
       "      <th>Média</th>\n",
       "      <th>Mediana</th>\n",
       "    </tr>\n",
       "  </thead>\n",
       "  <tbody>\n",
       "    <tr>\n",
       "      <th>Unnamed: 0</th>\n",
       "      <td>803582</td>\n",
       "      <td>803582</td>\n",
       "    </tr>\n",
       "    <tr>\n",
       "      <th>\"id\"</th>\n",
       "      <td>204201</td>\n",
       "      <td>213808</td>\n",
       "    </tr>\n",
       "    <tr>\n",
       "      <th>\"pesid\"</th>\n",
       "      <td>452502</td>\n",
       "      <td>474106</td>\n",
       "    </tr>\n",
       "    <tr>\n",
       "      <th>\"br\"</th>\n",
       "      <td>217</td>\n",
       "      <td>163</td>\n",
       "    </tr>\n",
       "    <tr>\n",
       "      <th>\"ordem_tipo_acidente\"</th>\n",
       "      <td>2</td>\n",
       "      <td>1</td>\n",
       "    </tr>\n",
       "    <tr>\n",
       "      <th>\"id_veiculo\"</th>\n",
       "      <td>365108</td>\n",
       "      <td>381493</td>\n",
       "    </tr>\n",
       "    <tr>\n",
       "      <th>\"ano_fabricacao_veiculo\"</th>\n",
       "      <td>2009</td>\n",
       "      <td>2011</td>\n",
       "    </tr>\n",
       "    <tr>\n",
       "      <th>\"idade\"</th>\n",
       "      <td>40</td>\n",
       "      <td>36</td>\n",
       "    </tr>\n",
       "    <tr>\n",
       "      <th>\"ilesos\"</th>\n",
       "      <td>0</td>\n",
       "      <td>0</td>\n",
       "    </tr>\n",
       "    <tr>\n",
       "      <th>\"feridos_leves\"</th>\n",
       "      <td>0</td>\n",
       "      <td>0</td>\n",
       "    </tr>\n",
       "    <tr>\n",
       "      <th>\"feridos_graves\"</th>\n",
       "      <td>0</td>\n",
       "      <td>0</td>\n",
       "    </tr>\n",
       "    <tr>\n",
       "      <th>\"mortos\"</th>\n",
       "      <td>0</td>\n",
       "      <td>0</td>\n",
       "    </tr>\n",
       "  </tbody>\n",
       "</table>\n",
       "</div>"
      ],
      "text/plain": [
       "                          Média  Mediana\n",
       "Unnamed: 0               803582   803582\n",
       "\"id\"                     204201   213808\n",
       "\"pesid\"                  452502   474106\n",
       "\"br\"                        217      163\n",
       "\"ordem_tipo_acidente\"         2        1\n",
       "\"id_veiculo\"             365108   381493\n",
       "\"ano_fabricacao_veiculo\"   2009     2011\n",
       "\"idade\"                      40       36\n",
       "\"ilesos\"                      0        0\n",
       "\"feridos_leves\"               0        0\n",
       "\"feridos_graves\"              0        0\n",
       "\"mortos\"                      0        0"
      ]
     },
     "execution_count": 76,
     "metadata": {},
     "output_type": "execute_result"
    }
   ],
   "source": [
    "media = df.mean(numeric_only = True)\n",
    "mediana = df.median(numeric_only = True)\n",
    "\n",
    "\n",
    "dfmm = pd.DataFrame([media, mediana], index = [\"Média\", \"Mediana\"])\n",
    "\n",
    "dfmm.T"
   ]
  },
  {
   "cell_type": "markdown",
   "metadata": {},
   "source": [
    "### Variância e Desvio Padrão"
   ]
  },
  {
   "cell_type": "code",
   "execution_count": 86,
   "metadata": {},
   "outputs": [
    {
     "data": {
      "text/html": [
       "<div>\n",
       "<style scoped>\n",
       "    .dataframe tbody tr th:only-of-type {\n",
       "        vertical-align: middle;\n",
       "    }\n",
       "\n",
       "    .dataframe tbody tr th {\n",
       "        vertical-align: top;\n",
       "    }\n",
       "\n",
       "    .dataframe thead th {\n",
       "        text-align: right;\n",
       "    }\n",
       "</style>\n",
       "<table border=\"1\" class=\"dataframe\">\n",
       "  <thead>\n",
       "    <tr style=\"text-align: right;\">\n",
       "      <th></th>\n",
       "      <th>Variância</th>\n",
       "      <th>Desvio padrão</th>\n",
       "    </tr>\n",
       "  </thead>\n",
       "  <tbody>\n",
       "    <tr>\n",
       "      <th>Unnamed: 0</th>\n",
       "      <td>215248679894</td>\n",
       "      <td>463949</td>\n",
       "    </tr>\n",
       "    <tr>\n",
       "      <th>\"id\"</th>\n",
       "      <td>11326857791</td>\n",
       "      <td>106428</td>\n",
       "    </tr>\n",
       "    <tr>\n",
       "      <th>\"pesid\"</th>\n",
       "      <td>56635608487</td>\n",
       "      <td>237982</td>\n",
       "    </tr>\n",
       "    <tr>\n",
       "      <th>\"br\"</th>\n",
       "      <td>16881</td>\n",
       "      <td>130</td>\n",
       "    </tr>\n",
       "    <tr>\n",
       "      <th>\"ordem_tipo_acidente\"</th>\n",
       "      <td>1</td>\n",
       "      <td>1</td>\n",
       "    </tr>\n",
       "    <tr>\n",
       "      <th>\"id_veiculo\"</th>\n",
       "      <td>36671906808</td>\n",
       "      <td>191499</td>\n",
       "    </tr>\n",
       "    <tr>\n",
       "      <th>\"ano_fabricacao_veiculo\"</th>\n",
       "      <td>58</td>\n",
       "      <td>8</td>\n",
       "    </tr>\n",
       "    <tr>\n",
       "      <th>\"idade\"</th>\n",
       "      <td>4089</td>\n",
       "      <td>64</td>\n",
       "    </tr>\n",
       "    <tr>\n",
       "      <th>\"ilesos\"</th>\n",
       "      <td>0</td>\n",
       "      <td>0</td>\n",
       "    </tr>\n",
       "    <tr>\n",
       "      <th>\"feridos_leves\"</th>\n",
       "      <td>0</td>\n",
       "      <td>0</td>\n",
       "    </tr>\n",
       "    <tr>\n",
       "      <th>\"feridos_graves\"</th>\n",
       "      <td>0</td>\n",
       "      <td>0</td>\n",
       "    </tr>\n",
       "    <tr>\n",
       "      <th>\"mortos\"</th>\n",
       "      <td>0</td>\n",
       "      <td>0</td>\n",
       "    </tr>\n",
       "  </tbody>\n",
       "</table>\n",
       "</div>"
      ],
      "text/plain": [
       "                            Variância  Desvio padrão\n",
       "Unnamed: 0               215248679894         463949\n",
       "\"id\"                      11326857791         106428\n",
       "\"pesid\"                   56635608487         237982\n",
       "\"br\"                            16881            130\n",
       "\"ordem_tipo_acidente\"               1              1\n",
       "\"id_veiculo\"              36671906808         191499\n",
       "\"ano_fabricacao_veiculo\"           58              8\n",
       "\"idade\"                          4089             64\n",
       "\"ilesos\"                            0              0\n",
       "\"feridos_leves\"                     0              0\n",
       "\"feridos_graves\"                    0              0\n",
       "\"mortos\"                            0              0"
      ]
     },
     "execution_count": 86,
     "metadata": {},
     "output_type": "execute_result"
    }
   ],
   "source": [
    "variancia = df.var(numeric_only = True)\n",
    "desvio_p = df.std(numeric_only = True)\n",
    "\n",
    "ind = df.columns\n",
    "dfvd = pd.DataFrame([variancia, desvio_p], index = [\"Variância\", \"Desvio padrão\"])\n",
    "\n",
    "dfvd.T"
   ]
  },
  {
   "cell_type": "code",
   "execution_count": 79,
   "metadata": {},
   "outputs": [],
   "source": [
    "#df.dtypes\n",
    "#df.shape  - (1225761, 39)"
   ]
  },
  {
   "cell_type": "code",
   "execution_count": null,
   "metadata": {},
   "outputs": [],
   "source": [
    "var_quantitativas = ['idade', 'ano_fabricacao_veiculo']\n",
    "print(df[var_quantitativas].describe()) #Valores utilizados para idade foram extraídos após a remoção dos outliers"
   ]
  },
  {
   "cell_type": "code",
   "execution_count": null,
   "metadata": {},
   "outputs": [],
   "source": [
    "df.mode().iloc[0]"
   ]
  },
  {
   "cell_type": "code",
   "execution_count": 81,
   "metadata": {},
   "outputs": [],
   "source": [
    "#sns.boxplot(data=df[[\"ano_fabricacao_veiculo\"]]) #bpfabricacao.png\n",
    "#sns.boxplot(data=df[['idade']]) #Boxplot com muitos outliers irreais"
   ]
  },
  {
   "cell_type": "code",
   "execution_count": null,
   "metadata": {},
   "outputs": [],
   "source": [
    "df = df[(df[\"idade\"] < 120) & (df[\"idade\"] >= 0)] #remoção de outliers extremos criados (provavelmente) por erros"
   ]
  },
  {
   "cell_type": "code",
   "execution_count": null,
   "metadata": {},
   "outputs": [],
   "source": [
    "#sns.boxplot(data=df[['idade']]) #bpidade.png"
   ]
  },
  {
   "cell_type": "code",
   "execution_count": null,
   "metadata": {},
   "outputs": [],
   "source": [
    "print(df[var_quantitativas].describe())\n",
    "print(df[var_quantitativas].mode())"
   ]
  },
  {
   "cell_type": "code",
   "execution_count": null,
   "metadata": {},
   "outputs": [],
   "source": [
    "df = df[df[\"ano_fabricacao_veiculo\"] > 1920]"
   ]
  },
  {
   "cell_type": "code",
   "execution_count": null,
   "metadata": {},
   "outputs": [],
   "source": [
    "sns.boxplot(data=df[[\"ano_fabricacao_veiculo\"]])"
   ]
  },
  {
   "cell_type": "markdown",
   "metadata": {},
   "source": [
    "+ **Para exportar arquivo .csv necessário para utilizar <graph.ipynb> descomente a caixa de código abaixo, a ação só precisa ser executa uma única vez** "
   ]
  },
  {
   "cell_type": "code",
   "execution_count": 105,
   "metadata": {},
   "outputs": [],
   "source": [
    "df.to_csv(\"acidentes_2017_2021_limpo\")\n"
   ]
  },
  {
   "cell_type": "markdown",
   "metadata": {},
   "source": [
    "## PERGUNTAS"
   ]
  },
  {
   "cell_type": "markdown",
   "metadata": {},
   "source": [
    "### PERGUNTA 1\n",
    "Qual a média de acidentes por cada estado?\n"
   ]
  },
  {
   "cell_type": "code",
   "execution_count": 58,
   "metadata": {},
   "outputs": [
    {
     "data": {
      "text/html": [
       "<div>\n",
       "<style scoped>\n",
       "    .dataframe tbody tr th:only-of-type {\n",
       "        vertical-align: middle;\n",
       "    }\n",
       "\n",
       "    .dataframe tbody tr th {\n",
       "        vertical-align: top;\n",
       "    }\n",
       "\n",
       "    .dataframe thead th {\n",
       "        text-align: right;\n",
       "    }\n",
       "</style>\n",
       "<table border=\"1\" class=\"dataframe\">\n",
       "  <thead>\n",
       "    <tr style=\"text-align: right;\">\n",
       "      <th></th>\n",
       "      <th>\"uf\"</th>\n",
       "      <th>\"causa_acidente\"</th>\n",
       "      <th>\"marca\"</th>\n",
       "      <th>\"estado_fisico\"</th>\n",
       "    </tr>\n",
       "  </thead>\n",
       "  <tbody>\n",
       "    <tr>\n",
       "      <th>1480240</th>\n",
       "      <td>\"AC\"</td>\n",
       "      <td>\"Velocidade Incompatível\"</td>\n",
       "      <td>\"HONDA/NXR150 BROS ESD/NXR150 BROS ESD\"</td>\n",
       "      <td>\"Lesões Leves\"</td>\n",
       "    </tr>\n",
       "    <tr>\n",
       "      <th>1300414</th>\n",
       "      <td>\"AC\"</td>\n",
       "      <td>\"Falta de AtenÃ§Ã£o Ã  ConduÃ§Ã£o\"</td>\n",
       "      <td>\"VW/24.250E WORKER 6X2\"</td>\n",
       "      <td>\"LesÃµes Graves\"</td>\n",
       "    </tr>\n",
       "    <tr>\n",
       "      <th>1480229</th>\n",
       "      <td>\"AC\"</td>\n",
       "      <td>\"Reação tardia ou ineficiente do condutor\"</td>\n",
       "      <td>\"YAMAHA/NEO 125/NEO 125\"</td>\n",
       "      <td>\"Lesões Leves\"</td>\n",
       "    </tr>\n",
       "    <tr>\n",
       "      <th>1480230</th>\n",
       "      <td>\"AC\"</td>\n",
       "      <td>\"Reação tardia ou ineficiente do condutor\"</td>\n",
       "      <td>\"VW/NOVO VOYAGE 1.0/NOVO VOYAGE 1.0\"</td>\n",
       "      <td>\"Ileso\"</td>\n",
       "    </tr>\n",
       "    <tr>\n",
       "      <th>1480231</th>\n",
       "      <td>\"AC\"</td>\n",
       "      <td>\"Reação tardia ou ineficiente do condutor\"</td>\n",
       "      <td>\"HONDA/NXR150 BROS ESD/NXR150 BROS ESD\"</td>\n",
       "      <td>\"Lesões Leves\"</td>\n",
       "    </tr>\n",
       "    <tr>\n",
       "      <th>...</th>\n",
       "      <td>...</td>\n",
       "      <td>...</td>\n",
       "      <td>...</td>\n",
       "      <td>...</td>\n",
       "    </tr>\n",
       "    <tr>\n",
       "      <th>1133483</th>\n",
       "      <td>\"TO\"</td>\n",
       "      <td>\"DeficiÃªncia ou nÃ£o Acionamento do Sistema d...</td>\n",
       "      <td>\"RENAULT/CAPTUR INTEN 16A\"</td>\n",
       "      <td>\"Ileso\"</td>\n",
       "    </tr>\n",
       "    <tr>\n",
       "      <th>1133484</th>\n",
       "      <td>\"TO\"</td>\n",
       "      <td>\"DeficiÃªncia ou nÃ£o Acionamento do Sistema d...</td>\n",
       "      <td>\"HONDA/CG 125 FAN\"</td>\n",
       "      <td>\"NÃ£o Informado\"</td>\n",
       "    </tr>\n",
       "    <tr>\n",
       "      <th>1133485</th>\n",
       "      <td>\"TO\"</td>\n",
       "      <td>\"DeficiÃªncia ou nÃ£o Acionamento do Sistema d...</td>\n",
       "      <td>\"HONDA/CG 125 FAN\"</td>\n",
       "      <td>\"Ãbito\"</td>\n",
       "    </tr>\n",
       "    <tr>\n",
       "      <th>974951</th>\n",
       "      <td>\"TO\"</td>\n",
       "      <td>\"Desobediência às normas de trânsito pelo cond...</td>\n",
       "      <td>\"M.BENZ/ATEGO 2430\"</td>\n",
       "      <td>\"Ileso\"</td>\n",
       "    </tr>\n",
       "    <tr>\n",
       "      <th>633462</th>\n",
       "      <td>\"TO\"</td>\n",
       "      <td>\"Deficiência ou não Acionamento do Sistema de ...</td>\n",
       "      <td>\"SR/RANDON SR FG\"</td>\n",
       "      <td>\"Não Informado\"</td>\n",
       "    </tr>\n",
       "  </tbody>\n",
       "</table>\n",
       "<p>1607166 rows × 4 columns</p>\n",
       "</div>"
      ],
      "text/plain": [
       "         \"uf\"                                   \"causa_acidente\"  \\\n",
       "1480240  \"AC\"                          \"Velocidade Incompatível\"   \n",
       "1300414  \"AC\"                 \"Falta de AtenÃ§Ã£o Ã  ConduÃ§Ã£o\"   \n",
       "1480229  \"AC\"         \"Reação tardia ou ineficiente do condutor\"   \n",
       "1480230  \"AC\"         \"Reação tardia ou ineficiente do condutor\"   \n",
       "1480231  \"AC\"         \"Reação tardia ou ineficiente do condutor\"   \n",
       "...       ...                                                ...   \n",
       "1133483  \"TO\"  \"DeficiÃªncia ou nÃ£o Acionamento do Sistema d...   \n",
       "1133484  \"TO\"  \"DeficiÃªncia ou nÃ£o Acionamento do Sistema d...   \n",
       "1133485  \"TO\"  \"DeficiÃªncia ou nÃ£o Acionamento do Sistema d...   \n",
       "974951   \"TO\"  \"Desobediência às normas de trânsito pelo cond...   \n",
       "633462   \"TO\"  \"Deficiência ou não Acionamento do Sistema de ...   \n",
       "\n",
       "                                         \"marca\"   \"estado_fisico\"  \n",
       "1480240  \"HONDA/NXR150 BROS ESD/NXR150 BROS ESD\"    \"Lesões Leves\"  \n",
       "1300414                  \"VW/24.250E WORKER 6X2\"  \"LesÃµes Graves\"  \n",
       "1480229                 \"YAMAHA/NEO 125/NEO 125\"    \"Lesões Leves\"  \n",
       "1480230     \"VW/NOVO VOYAGE 1.0/NOVO VOYAGE 1.0\"           \"Ileso\"  \n",
       "1480231  \"HONDA/NXR150 BROS ESD/NXR150 BROS ESD\"    \"Lesões Leves\"  \n",
       "...                                          ...               ...  \n",
       "1133483               \"RENAULT/CAPTUR INTEN 16A\"           \"Ileso\"  \n",
       "1133484                       \"HONDA/CG 125 FAN\"  \"NÃ£o Informado\"  \n",
       "1133485                       \"HONDA/CG 125 FAN\"          \"Ãbito\"  \n",
       "974951                       \"M.BENZ/ATEGO 2430\"           \"Ileso\"  \n",
       "633462                         \"SR/RANDON SR FG\"   \"Não Informado\"  \n",
       "\n",
       "[1607166 rows x 4 columns]"
      ]
     },
     "execution_count": 58,
     "metadata": {},
     "output_type": "execute_result"
    }
   ],
   "source": [
    "# reduzindo o dataset com colunas que usaremos para responder as pesguntas(estado, causa do acidente, marca do carro)\n",
    "\n",
    "df_principal = df.sort_values(by='\"uf\"')[['\"uf\"', '\"causa_acidente\"', '\"marca\"', '\"estado_fisico\"' ]]\n",
    "df_principal.dropna()"
   ]
  },
  {
   "cell_type": "code",
   "execution_count": 59,
   "metadata": {},
   "outputs": [
    {
     "data": {
      "text/plain": [
       "\"MG\"    227063\n",
       "\"PR\"    182402\n",
       "\"SC\"    155156\n",
       "\"RS\"    115155\n",
       "\"SP\"    105965\n",
       "\"GO\"     90208\n",
       "\"BA\"     86562\n",
       "\"RJ\"     84513\n",
       "\"MT\"     66990\n",
       "\"PE\"     54158\n",
       "\"MS\"     48273\n",
       "\"RO\"     48182\n",
       "\"ES\"     47936\n",
       "\"CE\"     40114\n",
       "\"PB\"     39482\n",
       "\"MA\"     33947\n",
       "\"PA\"     32794\n",
       "\"PI\"     32352\n",
       "\"RN\"     25008\n",
       "\"DF\"     23566\n",
       "\"TO\"     19698\n",
       "\"AL\"     13566\n",
       "\"SE\"     13468\n",
       "\"RR\"      5889\n",
       "\"AC\"      5479\n",
       "\"AM\"      4971\n",
       "\"AP\"      4269\n",
       "Name: \"uf\", dtype: int64"
      ]
     },
     "execution_count": 59,
     "metadata": {},
     "output_type": "execute_result"
    }
   ],
   "source": [
    "\n",
    "\n",
    "estados = df_principal['\"uf\"'].value_counts()\n",
    "estados\n",
    "\n",
    "df4 = estados"
   ]
  },
  {
   "cell_type": "markdown",
   "metadata": {},
   "source": [
    "Para sabermos a média de acidentes por cada estado, precisaremos dividir o número de acidentes de cada estado pelo número total de acidentes, logo pelo número de linhas do dataset (1607166)"
   ]
  },
  {
   "cell_type": "code",
   "execution_count": 90,
   "metadata": {},
   "outputs": [
    {
     "name": "stdout",
     "output_type": "stream",
     "text": [
      "   ESTADOS  NUM. DE OCORRENCIAS\n",
      "0     \"MG\"               227063\n",
      "1     \"PR\"               182402\n",
      "2     \"SC\"               155156\n",
      "3     \"RS\"               115155\n",
      "4     \"SP\"               105965\n",
      "5     \"GO\"                90208\n",
      "6     \"BA\"                86562\n",
      "7     \"RJ\"                84513\n",
      "8     \"MT\"                66990\n",
      "9     \"PE\"                54158\n",
      "10    \"MS\"                48273\n",
      "11    \"RO\"                48182\n",
      "12    \"ES\"                47936\n",
      "13    \"CE\"                40114\n",
      "14    \"PB\"                39482\n",
      "15    \"MA\"                33947\n",
      "16    \"PA\"                32794\n",
      "17    \"PI\"                32352\n",
      "18    \"RN\"                25008\n",
      "19    \"DF\"                23566\n",
      "20    \"TO\"                19698\n",
      "21    \"AL\"                13566\n",
      "22    \"SE\"                13468\n",
      "23    \"RR\"                 5889\n",
      "24    \"AC\"                 5479\n",
      "25    \"AM\"                 4971\n",
      "26    \"AP\"                 4269\n"
     ]
    }
   ],
   "source": [
    "# contando quantos acidentes temos por estado no decorrer de 5 anos\n",
    "\n",
    "estados = df_principal['\"uf\"'].value_counts()\n",
    "dfvd = pd.DataFrame({'ESTADOS': estados.index, 'NUM. DE OCORRENCIAS': estados.values})\n",
    "\n",
    "print(dfvd)"
   ]
  },
  {
   "cell_type": "code",
   "execution_count": 109,
   "metadata": {},
   "outputs": [
    {
     "data": {
      "image/png": "[encoded data removed]",
      "text/plain": [
       "<Figure size 640x480 with 1 Axes>"
      ]
     },
     "metadata": {},
     "output_type": "display_data"
    },
    {
     "data": {
      "text/plain": [
       "<Figure size 6000x7000 with 0 Axes>"
      ]
     },
     "metadata": {},
     "output_type": "display_data"
    }
   ],
   "source": [
    "sns.scatterplot(data = dfvd, x='ESTADOS', y = 'NUM. DE OCORRENCIAS');\n",
    "\n",
    "plt.figure(figsize=(60, 70))\n",
    "plt.show()\n",
    "\n"
   ]
  },
  {
   "cell_type": "code",
   "execution_count": 94,
   "metadata": {},
   "outputs": [
    {
     "data": {
      "image/png": "[encoded data removed]",
      "text/plain": [
       "<Figure size 640x480 with 1 Axes>"
      ]
     },
     "metadata": {},
     "output_type": "display_data"
    }
   ],
   "source": [
    "ax = sns.barplot(data = dfvd, orient = 'h')"
   ]
  },
  {
   "cell_type": "code",
   "execution_count": 99,
   "metadata": {},
   "outputs": [
    {
     "data": {
      "image/png": "[encoded data removed]",
      "text/plain": [
       "<Figure size 640x480 with 1 Axes>"
      ]
     },
     "metadata": {},
     "output_type": "display_data"
    }
   ],
   "source": [
    "ax = sns.histplot(dfvd, x='ESTADOS', y = 'NUM. DE OCORRENCIAS', color =\"blue\")\n"
   ]
  },
  {
   "cell_type": "code",
   "execution_count": null,
   "metadata": {},
   "outputs": [],
   "source": [
    "sns.lineplot(data=df, x=\"ano\", y=\"total\")"
   ]
  },
  {
   "cell_type": "markdown",
   "metadata": {},
   "source": [
    "## PERGUNTA 2\n",
    "Quais as três maiores causas de acidentes nas BRs?"
   ]
  },
  {
   "cell_type": "code",
   "execution_count": 60,
   "metadata": {},
   "outputs": [
    {
     "data": {
      "text/plain": [
       "\"Falta de Atenção à Condução\"                                          343983\n",
       "\"Velocidade Incompatível\"                                              151358\n",
       "\"Falta de AtenÃ§Ã£o Ã  ConduÃ§Ã£o\"                                     119873\n",
       "\"Desobediência às normas de trânsito pelo condutor\"                    104543\n",
       "\"Não guardar distância de segurança\"                                    79388\n",
       "                                                                        ...  \n",
       "\"IngestÃ£o de substÃ¢ncias psicoativas pelo condutor\"                       4\n",
       "\"Pista em desnÃ­vel\"                                                        3\n",
       "\"Demais FenÃ´menos da natureza\"                                             2\n",
       "\"IngestÃ£o de Ã¡lcool ou de substÃ¢ncias psicoativas pelo pedestre\"         2\n",
       "\"FumaÃ§a\"                                                                   2\n",
       "Name: \"causa_acidente\", Length: 130, dtype: int64"
      ]
     },
     "execution_count": 60,
     "metadata": {},
     "output_type": "execute_result"
    }
   ],
   "source": [
    "causas = df_principal['\"causa_acidente\"'].value_counts()\n",
    "causas"
   ]
  },
  {
   "cell_type": "markdown",
   "metadata": {},
   "source": [
    "OBS: observamos que \"Falta de Atenção à Condução\" e \"Falta de AtenÃ§Ã£o Ã  ConduÃ§Ã£o\" são a mesma causa de acidentes, porém com formatação de textos diferentes, logo, para analisarmos as maiores causas de acidentes, iremos soma-las."
   ]
  },
  {
   "cell_type": "markdown",
   "metadata": {},
   "source": []
  },
  {
   "cell_type": "code",
   "execution_count": 102,
   "metadata": {},
   "outputs": [
    {
     "data": {
      "text/plain": [
       "<Axes: xlabel='\"causa_acidente\"', ylabel='Count'>"
      ]
     },
     "execution_count": 102,
     "metadata": {},
     "output_type": "execute_result"
    },
    {
     "name": "stderr",
     "output_type": "stream",
     "text": [
      "C:\\Users\\Mariana\\anaconda3\\lib\\site-packages\\IPython\\core\\events.py:89: UserWarning: Glyph 129 (\\x81) missing from current font.\n",
      "  func(*args, **kwargs)\n",
      "C:\\Users\\Mariana\\anaconda3\\lib\\site-packages\\IPython\\core\\pylabtools.py:152: UserWarning: Glyph 129 (\\x81) missing from current font.\n",
      "  fig.canvas.print_figure(bytes_io, **kw)\n"
     ]
    },
    {
     "data": {
      "image/png": "[encoded data removed]",
      "text/plain": [
       "<Figure size 640x480 with 1 Axes>"
      ]
     },
     "metadata": {},
     "output_type": "display_data"
    }
   ],
   "source": [
    "sns.histplot(data=df, x='\"causa_acidente\"')"
   ]
  },
  {
   "cell_type": "code",
   "execution_count": 104,
   "metadata": {},
   "outputs": [
    {
     "ename": "KeyError",
     "evalue": "'y'",
     "output_type": "error",
     "traceback": [
      "\u001b[1;31m---------------------------------------------------------------------------\u001b[0m",
      "\u001b[1;31mKeyError\u001b[0m                                  Traceback (most recent call last)",
      "File \u001b[1;32m~\\anaconda3\\lib\\site-packages\\pandas\\core\\indexes\\base.py:3802\u001b[0m, in \u001b[0;36mIndex.get_loc\u001b[1;34m(self, key, method, tolerance)\u001b[0m\n\u001b[0;32m   3801\u001b[0m \u001b[38;5;28;01mtry\u001b[39;00m:\n\u001b[1;32m-> 3802\u001b[0m     \u001b[38;5;28;01mreturn\u001b[39;00m \u001b[38;5;28;43mself\u001b[39;49m\u001b[38;5;241;43m.\u001b[39;49m\u001b[43m_engine\u001b[49m\u001b[38;5;241;43m.\u001b[39;49m\u001b[43mget_loc\u001b[49m\u001b[43m(\u001b[49m\u001b[43mcasted_key\u001b[49m\u001b[43m)\u001b[49m\n\u001b[0;32m   3803\u001b[0m \u001b[38;5;28;01mexcept\u001b[39;00m \u001b[38;5;167;01mKeyError\u001b[39;00m \u001b[38;5;28;01mas\u001b[39;00m err:\n",
      "File \u001b[1;32m~\\anaconda3\\lib\\site-packages\\pandas\\_libs\\index.pyx:138\u001b[0m, in \u001b[0;36mpandas._libs.index.IndexEngine.get_loc\u001b[1;34m()\u001b[0m\n",
      "File \u001b[1;32m~\\anaconda3\\lib\\site-packages\\pandas\\_libs\\index.pyx:165\u001b[0m, in \u001b[0;36mpandas._libs.index.IndexEngine.get_loc\u001b[1;34m()\u001b[0m\n",
      "File \u001b[1;32mpandas\\_libs\\hashtable_class_helper.pxi:5745\u001b[0m, in \u001b[0;36mpandas._libs.hashtable.PyObjectHashTable.get_item\u001b[1;34m()\u001b[0m\n",
      "File \u001b[1;32mpandas\\_libs\\hashtable_class_helper.pxi:5753\u001b[0m, in \u001b[0;36mpandas._libs.hashtable.PyObjectHashTable.get_item\u001b[1;34m()\u001b[0m\n",
      "\u001b[1;31mKeyError\u001b[0m: 'y'",
      "\nThe above exception was the direct cause of the following exception:\n",
      "\u001b[1;31mKeyError\u001b[0m                                  Traceback (most recent call last)",
      "Cell \u001b[1;32mIn[104], line 1\u001b[0m\n\u001b[1;32m----> 1\u001b[0m \u001b[43msns\u001b[49m\u001b[38;5;241;43m.\u001b[39;49m\u001b[43mlineplot\u001b[49m\u001b[43m(\u001b[49m\u001b[43mdata\u001b[49m\u001b[38;5;241;43m=\u001b[39;49m\u001b[43mdf\u001b[49m\u001b[43m,\u001b[49m\u001b[43m \u001b[49m\u001b[43mx\u001b[49m\u001b[38;5;241;43m=\u001b[39;49m\u001b[38;5;124;43m'\u001b[39;49m\u001b[38;5;124;43m\"\u001b[39;49m\u001b[38;5;124;43mcausa_acidente\u001b[39;49m\u001b[38;5;124;43m\"\u001b[39;49m\u001b[38;5;124;43m'\u001b[39;49m\u001b[43m)\u001b[49m\n",
      "File \u001b[1;32m~\\anaconda3\\lib\\site-packages\\seaborn\\relational.py:645\u001b[0m, in \u001b[0;36mlineplot\u001b[1;34m(data, x, y, hue, size, style, units, palette, hue_order, hue_norm, sizes, size_order, size_norm, dashes, markers, style_order, estimator, errorbar, n_boot, seed, orient, sort, err_style, err_kws, legend, ci, ax, **kwargs)\u001b[0m\n\u001b[0;32m    642\u001b[0m color \u001b[38;5;241m=\u001b[39m kwargs\u001b[38;5;241m.\u001b[39mpop(\u001b[38;5;124m\"\u001b[39m\u001b[38;5;124mcolor\u001b[39m\u001b[38;5;124m\"\u001b[39m, kwargs\u001b[38;5;241m.\u001b[39mpop(\u001b[38;5;124m\"\u001b[39m\u001b[38;5;124mc\u001b[39m\u001b[38;5;124m\"\u001b[39m, \u001b[38;5;28;01mNone\u001b[39;00m))\n\u001b[0;32m    643\u001b[0m kwargs[\u001b[38;5;124m\"\u001b[39m\u001b[38;5;124mcolor\u001b[39m\u001b[38;5;124m\"\u001b[39m] \u001b[38;5;241m=\u001b[39m _default_color(ax\u001b[38;5;241m.\u001b[39mplot, hue, color, kwargs)\n\u001b[1;32m--> 645\u001b[0m \u001b[43mp\u001b[49m\u001b[38;5;241;43m.\u001b[39;49m\u001b[43mplot\u001b[49m\u001b[43m(\u001b[49m\u001b[43max\u001b[49m\u001b[43m,\u001b[49m\u001b[43m \u001b[49m\u001b[43mkwargs\u001b[49m\u001b[43m)\u001b[49m\n\u001b[0;32m    646\u001b[0m \u001b[38;5;28;01mreturn\u001b[39;00m ax\n",
      "File \u001b[1;32m~\\anaconda3\\lib\\site-packages\\seaborn\\relational.py:441\u001b[0m, in \u001b[0;36m_LinePlotter.plot\u001b[1;34m(self, ax, kws)\u001b[0m\n\u001b[0;32m    438\u001b[0m     grouped \u001b[38;5;241m=\u001b[39m sub_data\u001b[38;5;241m.\u001b[39mgroupby(orient, sort\u001b[38;5;241m=\u001b[39m\u001b[38;5;28mself\u001b[39m\u001b[38;5;241m.\u001b[39msort)\n\u001b[0;32m    439\u001b[0m     \u001b[38;5;66;03m# Could pass as_index=False instead of reset_index,\u001b[39;00m\n\u001b[0;32m    440\u001b[0m     \u001b[38;5;66;03m# but that fails on a corner case with older pandas.\u001b[39;00m\n\u001b[1;32m--> 441\u001b[0m     sub_data \u001b[38;5;241m=\u001b[39m \u001b[43mgrouped\u001b[49m\u001b[38;5;241;43m.\u001b[39;49m\u001b[43mapply\u001b[49m\u001b[43m(\u001b[49m\u001b[43magg\u001b[49m\u001b[43m,\u001b[49m\u001b[43m \u001b[49m\u001b[43mother\u001b[49m\u001b[43m)\u001b[49m\u001b[38;5;241m.\u001b[39mreset_index()\n\u001b[0;32m    442\u001b[0m \u001b[38;5;28;01melse\u001b[39;00m:\n\u001b[0;32m    443\u001b[0m     sub_data[\u001b[38;5;124mf\u001b[39m\u001b[38;5;124m\"\u001b[39m\u001b[38;5;132;01m{\u001b[39;00mother\u001b[38;5;132;01m}\u001b[39;00m\u001b[38;5;124mmin\u001b[39m\u001b[38;5;124m\"\u001b[39m] \u001b[38;5;241m=\u001b[39m np\u001b[38;5;241m.\u001b[39mnan\n",
      "File \u001b[1;32m~\\anaconda3\\lib\\site-packages\\pandas\\core\\groupby\\groupby.py:1567\u001b[0m, in \u001b[0;36mGroupBy.apply\u001b[1;34m(self, func, *args, **kwargs)\u001b[0m\n\u001b[0;32m   1559\u001b[0m     new_msg \u001b[38;5;241m=\u001b[39m (\n\u001b[0;32m   1560\u001b[0m         \u001b[38;5;124mf\u001b[39m\u001b[38;5;124m\"\u001b[39m\u001b[38;5;124mThe operation \u001b[39m\u001b[38;5;132;01m{\u001b[39;00morig_func\u001b[38;5;132;01m}\u001b[39;00m\u001b[38;5;124m failed on a column. If any error is \u001b[39m\u001b[38;5;124m\"\u001b[39m\n\u001b[0;32m   1561\u001b[0m         \u001b[38;5;124mf\u001b[39m\u001b[38;5;124m\"\u001b[39m\u001b[38;5;124mraised, this will raise an exception in a future version \u001b[39m\u001b[38;5;124m\"\u001b[39m\n\u001b[0;32m   1562\u001b[0m         \u001b[38;5;124mf\u001b[39m\u001b[38;5;124m\"\u001b[39m\u001b[38;5;124mof pandas. Drop these columns to avoid this warning.\u001b[39m\u001b[38;5;124m\"\u001b[39m\n\u001b[0;32m   1563\u001b[0m     )\n\u001b[0;32m   1564\u001b[0m     \u001b[38;5;28;01mwith\u001b[39;00m rewrite_warning(\n\u001b[0;32m   1565\u001b[0m         old_msg, \u001b[38;5;167;01mFutureWarning\u001b[39;00m, new_msg\n\u001b[0;32m   1566\u001b[0m     ) \u001b[38;5;28;01mif\u001b[39;00m is_np_func \u001b[38;5;28;01melse\u001b[39;00m nullcontext():\n\u001b[1;32m-> 1567\u001b[0m         result \u001b[38;5;241m=\u001b[39m \u001b[38;5;28;43mself\u001b[39;49m\u001b[38;5;241;43m.\u001b[39;49m\u001b[43m_python_apply_general\u001b[49m\u001b[43m(\u001b[49m\u001b[43mf\u001b[49m\u001b[43m,\u001b[49m\u001b[43m \u001b[49m\u001b[38;5;28;43mself\u001b[39;49m\u001b[38;5;241;43m.\u001b[39;49m\u001b[43m_selected_obj\u001b[49m\u001b[43m)\u001b[49m\n\u001b[0;32m   1568\u001b[0m \u001b[38;5;28;01mexcept\u001b[39;00m \u001b[38;5;167;01mTypeError\u001b[39;00m:\n\u001b[0;32m   1569\u001b[0m     \u001b[38;5;66;03m# gh-20949\u001b[39;00m\n\u001b[0;32m   1570\u001b[0m     \u001b[38;5;66;03m# try again, with .apply acting as a filtering\u001b[39;00m\n\u001b[1;32m   (...)\u001b[0m\n\u001b[0;32m   1574\u001b[0m     \u001b[38;5;66;03m# fails on *some* columns, e.g. a numeric operation\u001b[39;00m\n\u001b[0;32m   1575\u001b[0m     \u001b[38;5;66;03m# on a string grouper column\u001b[39;00m\n\u001b[0;32m   1577\u001b[0m     \u001b[38;5;28;01mwith\u001b[39;00m \u001b[38;5;28mself\u001b[39m\u001b[38;5;241m.\u001b[39m_group_selection_context():\n\u001b[0;32m   1578\u001b[0m         \u001b[38;5;66;03m# GH#50538\u001b[39;00m\n",
      "File \u001b[1;32m~\\anaconda3\\lib\\site-packages\\pandas\\core\\groupby\\groupby.py:1629\u001b[0m, in \u001b[0;36mGroupBy._python_apply_general\u001b[1;34m(self, f, data, not_indexed_same, is_transform, is_agg)\u001b[0m\n\u001b[0;32m   1592\u001b[0m \u001b[38;5;129m@final\u001b[39m\n\u001b[0;32m   1593\u001b[0m \u001b[38;5;28;01mdef\u001b[39;00m \u001b[38;5;21m_python_apply_general\u001b[39m(\n\u001b[0;32m   1594\u001b[0m     \u001b[38;5;28mself\u001b[39m,\n\u001b[1;32m   (...)\u001b[0m\n\u001b[0;32m   1599\u001b[0m     is_agg: \u001b[38;5;28mbool\u001b[39m \u001b[38;5;241m=\u001b[39m \u001b[38;5;28;01mFalse\u001b[39;00m,\n\u001b[0;32m   1600\u001b[0m ) \u001b[38;5;241m-\u001b[39m\u001b[38;5;241m>\u001b[39m NDFrameT:\n\u001b[0;32m   1601\u001b[0m     \u001b[38;5;124;03m\"\"\"\u001b[39;00m\n\u001b[0;32m   1602\u001b[0m \u001b[38;5;124;03m    Apply function f in python space\u001b[39;00m\n\u001b[0;32m   1603\u001b[0m \n\u001b[1;32m   (...)\u001b[0m\n\u001b[0;32m   1627\u001b[0m \u001b[38;5;124;03m        data after applying f\u001b[39;00m\n\u001b[0;32m   1628\u001b[0m \u001b[38;5;124;03m    \"\"\"\u001b[39;00m\n\u001b[1;32m-> 1629\u001b[0m     values, mutated \u001b[38;5;241m=\u001b[39m \u001b[38;5;28;43mself\u001b[39;49m\u001b[38;5;241;43m.\u001b[39;49m\u001b[43mgrouper\u001b[49m\u001b[38;5;241;43m.\u001b[39;49m\u001b[43mapply\u001b[49m\u001b[43m(\u001b[49m\u001b[43mf\u001b[49m\u001b[43m,\u001b[49m\u001b[43m \u001b[49m\u001b[43mdata\u001b[49m\u001b[43m,\u001b[49m\u001b[43m \u001b[49m\u001b[38;5;28;43mself\u001b[39;49m\u001b[38;5;241;43m.\u001b[39;49m\u001b[43maxis\u001b[49m\u001b[43m)\u001b[49m\n\u001b[0;32m   1630\u001b[0m     \u001b[38;5;28;01mif\u001b[39;00m not_indexed_same \u001b[38;5;129;01mis\u001b[39;00m \u001b[38;5;28;01mNone\u001b[39;00m:\n\u001b[0;32m   1631\u001b[0m         not_indexed_same \u001b[38;5;241m=\u001b[39m mutated \u001b[38;5;129;01mor\u001b[39;00m \u001b[38;5;28mself\u001b[39m\u001b[38;5;241m.\u001b[39mmutated\n",
      "File \u001b[1;32m~\\anaconda3\\lib\\site-packages\\pandas\\core\\groupby\\ops.py:839\u001b[0m, in \u001b[0;36mBaseGrouper.apply\u001b[1;34m(self, f, data, axis)\u001b[0m\n\u001b[0;32m    837\u001b[0m \u001b[38;5;66;03m# group might be modified\u001b[39;00m\n\u001b[0;32m    838\u001b[0m group_axes \u001b[38;5;241m=\u001b[39m group\u001b[38;5;241m.\u001b[39maxes\n\u001b[1;32m--> 839\u001b[0m res \u001b[38;5;241m=\u001b[39m \u001b[43mf\u001b[49m\u001b[43m(\u001b[49m\u001b[43mgroup\u001b[49m\u001b[43m)\u001b[49m\n\u001b[0;32m    840\u001b[0m \u001b[38;5;28;01mif\u001b[39;00m \u001b[38;5;129;01mnot\u001b[39;00m mutated \u001b[38;5;129;01mand\u001b[39;00m \u001b[38;5;129;01mnot\u001b[39;00m _is_indexed_like(res, group_axes, axis):\n\u001b[0;32m    841\u001b[0m     mutated \u001b[38;5;241m=\u001b[39m \u001b[38;5;28;01mTrue\u001b[39;00m\n",
      "File \u001b[1;32m~\\anaconda3\\lib\\site-packages\\pandas\\core\\groupby\\groupby.py:1540\u001b[0m, in \u001b[0;36mGroupBy.apply.<locals>.f\u001b[1;34m(g)\u001b[0m\n\u001b[0;32m   1537\u001b[0m \u001b[38;5;129m@wraps\u001b[39m(func)\n\u001b[0;32m   1538\u001b[0m \u001b[38;5;28;01mdef\u001b[39;00m \u001b[38;5;21mf\u001b[39m(g):\n\u001b[0;32m   1539\u001b[0m     \u001b[38;5;28;01mwith\u001b[39;00m np\u001b[38;5;241m.\u001b[39merrstate(\u001b[38;5;28mall\u001b[39m\u001b[38;5;241m=\u001b[39m\u001b[38;5;124m\"\u001b[39m\u001b[38;5;124mignore\u001b[39m\u001b[38;5;124m\"\u001b[39m):\n\u001b[1;32m-> 1540\u001b[0m         \u001b[38;5;28;01mreturn\u001b[39;00m func(g, \u001b[38;5;241m*\u001b[39margs, \u001b[38;5;241m*\u001b[39m\u001b[38;5;241m*\u001b[39mkwargs)\n",
      "File \u001b[1;32m~\\anaconda3\\lib\\site-packages\\seaborn\\_statistics.py:482\u001b[0m, in \u001b[0;36mEstimateAggregator.__call__\u001b[1;34m(self, data, var)\u001b[0m\n\u001b[0;32m    480\u001b[0m \u001b[38;5;28;01mdef\u001b[39;00m \u001b[38;5;21m__call__\u001b[39m(\u001b[38;5;28mself\u001b[39m, data, var):\n\u001b[0;32m    481\u001b[0m     \u001b[38;5;124;03m\"\"\"Aggregate over `var` column of `data` with estimate and error interval.\"\"\"\u001b[39;00m\n\u001b[1;32m--> 482\u001b[0m     vals \u001b[38;5;241m=\u001b[39m \u001b[43mdata\u001b[49m\u001b[43m[\u001b[49m\u001b[43mvar\u001b[49m\u001b[43m]\u001b[49m\n\u001b[0;32m    483\u001b[0m     \u001b[38;5;28;01mif\u001b[39;00m callable(\u001b[38;5;28mself\u001b[39m\u001b[38;5;241m.\u001b[39mestimator):\n\u001b[0;32m    484\u001b[0m         \u001b[38;5;66;03m# You would think we could pass to vals.agg, and yet:\u001b[39;00m\n\u001b[0;32m    485\u001b[0m         \u001b[38;5;66;03m# https://github.com/mwaskom/seaborn/issues/2943\u001b[39;00m\n\u001b[0;32m    486\u001b[0m         estimate \u001b[38;5;241m=\u001b[39m \u001b[38;5;28mself\u001b[39m\u001b[38;5;241m.\u001b[39mestimator(vals)\n",
      "File \u001b[1;32m~\\anaconda3\\lib\\site-packages\\pandas\\core\\frame.py:3807\u001b[0m, in \u001b[0;36mDataFrame.__getitem__\u001b[1;34m(self, key)\u001b[0m\n\u001b[0;32m   3805\u001b[0m \u001b[38;5;28;01mif\u001b[39;00m \u001b[38;5;28mself\u001b[39m\u001b[38;5;241m.\u001b[39mcolumns\u001b[38;5;241m.\u001b[39mnlevels \u001b[38;5;241m>\u001b[39m \u001b[38;5;241m1\u001b[39m:\n\u001b[0;32m   3806\u001b[0m     \u001b[38;5;28;01mreturn\u001b[39;00m \u001b[38;5;28mself\u001b[39m\u001b[38;5;241m.\u001b[39m_getitem_multilevel(key)\n\u001b[1;32m-> 3807\u001b[0m indexer \u001b[38;5;241m=\u001b[39m \u001b[38;5;28;43mself\u001b[39;49m\u001b[38;5;241;43m.\u001b[39;49m\u001b[43mcolumns\u001b[49m\u001b[38;5;241;43m.\u001b[39;49m\u001b[43mget_loc\u001b[49m\u001b[43m(\u001b[49m\u001b[43mkey\u001b[49m\u001b[43m)\u001b[49m\n\u001b[0;32m   3808\u001b[0m \u001b[38;5;28;01mif\u001b[39;00m is_integer(indexer):\n\u001b[0;32m   3809\u001b[0m     indexer \u001b[38;5;241m=\u001b[39m [indexer]\n",
      "File \u001b[1;32m~\\anaconda3\\lib\\site-packages\\pandas\\core\\indexes\\base.py:3804\u001b[0m, in \u001b[0;36mIndex.get_loc\u001b[1;34m(self, key, method, tolerance)\u001b[0m\n\u001b[0;32m   3802\u001b[0m     \u001b[38;5;28;01mreturn\u001b[39;00m \u001b[38;5;28mself\u001b[39m\u001b[38;5;241m.\u001b[39m_engine\u001b[38;5;241m.\u001b[39mget_loc(casted_key)\n\u001b[0;32m   3803\u001b[0m \u001b[38;5;28;01mexcept\u001b[39;00m \u001b[38;5;167;01mKeyError\u001b[39;00m \u001b[38;5;28;01mas\u001b[39;00m err:\n\u001b[1;32m-> 3804\u001b[0m     \u001b[38;5;28;01mraise\u001b[39;00m \u001b[38;5;167;01mKeyError\u001b[39;00m(key) \u001b[38;5;28;01mfrom\u001b[39;00m \u001b[38;5;21;01merr\u001b[39;00m\n\u001b[0;32m   3805\u001b[0m \u001b[38;5;28;01mexcept\u001b[39;00m \u001b[38;5;167;01mTypeError\u001b[39;00m:\n\u001b[0;32m   3806\u001b[0m     \u001b[38;5;66;03m# If we have a listlike key, _check_indexing_error will raise\u001b[39;00m\n\u001b[0;32m   3807\u001b[0m     \u001b[38;5;66;03m#  InvalidIndexError. Otherwise we fall through and re-raise\u001b[39;00m\n\u001b[0;32m   3808\u001b[0m     \u001b[38;5;66;03m#  the TypeError.\u001b[39;00m\n\u001b[0;32m   3809\u001b[0m     \u001b[38;5;28mself\u001b[39m\u001b[38;5;241m.\u001b[39m_check_indexing_error(key)\n",
      "\u001b[1;31mKeyError\u001b[0m: 'y'"
     ]
    },
    {
     "data": {
      "image/png": "[encoded data removed]",
      "text/plain": [
       "<Figure size 640x480 with 1 Axes>"
      ]
     },
     "metadata": {},
     "output_type": "display_data"
    }
   ],
   "source": [
    "sns.lineplot(data=df, x='\"causa_acidente\"' y=)"
   ]
  },
  {
   "cell_type": "markdown",
   "metadata": {},
   "source": [
    "## PERGUNTA 3\n",
    "Qual marca de automóveis é mais presente em acidentes fatais?"
   ]
  },
  {
   "cell_type": "code",
   "execution_count": 61,
   "metadata": {},
   "outputs": [
    {
     "data": {
      "text/plain": [
       "\"Ileso\"             610787\n",
       "\"Lesões Leves\"      378839\n",
       "\"Não Informado\"     191614\n",
       "\"LesÃµes Leves\"     125111\n",
       "\"Lesões Graves\"     122694\n",
       "\"NÃ£o Informado\"     69385\n",
       "\"Óbito\"              45771\n",
       "\"LesÃµes Graves\"     45146\n",
       "\"Ãbito\"             17819\n",
       "Name: \"estado_fisico\", dtype: int64"
      ]
     },
     "execution_count": 61,
     "metadata": {},
     "output_type": "execute_result"
    }
   ],
   "source": [
    "df2 = df_principal['\"estado_fisico\"'].value_counts()\n",
    "df2"
   ]
  },
  {
   "cell_type": "code",
   "execution_count": 71,
   "metadata": {},
   "outputs": [
    {
     "data": {
      "text/html": [
       "<div>\n",
       "<style scoped>\n",
       "    .dataframe tbody tr th:only-of-type {\n",
       "        vertical-align: middle;\n",
       "    }\n",
       "\n",
       "    .dataframe tbody tr th {\n",
       "        vertical-align: top;\n",
       "    }\n",
       "\n",
       "    .dataframe thead th {\n",
       "        text-align: right;\n",
       "    }\n",
       "</style>\n",
       "<table border=\"1\" class=\"dataframe\">\n",
       "  <thead>\n",
       "    <tr style=\"text-align: right;\">\n",
       "      <th></th>\n",
       "      <th>Unnamed: 0</th>\n",
       "      <th>\"id\"</th>\n",
       "      <th>\"pesid\"</th>\n",
       "      <th>\"data_inversa\"</th>\n",
       "      <th>\"dia_semana\"</th>\n",
       "      <th>\"horario\"</th>\n",
       "      <th>\"uf\"</th>\n",
       "      <th>\"br\"</th>\n",
       "      <th>\"km\"</th>\n",
       "      <th>\"municipio\"</th>\n",
       "      <th>\"causa_principal\"</th>\n",
       "      <th>\"causa_acidente\"</th>\n",
       "      <th>\"ordem_tipo_acidente\"</th>\n",
       "      <th>\"tipo_acidente\"</th>\n",
       "      <th>\"classificacao_acidente\"</th>\n",
       "      <th>\"fase_dia\"</th>\n",
       "      <th>\"sentido_via\"</th>\n",
       "      <th>\"condicao_metereologica\"</th>\n",
       "      <th>...</th>\n",
       "      <th>\"uso_solo\"</th>\n",
       "      <th>\"id_veiculo\"</th>\n",
       "      <th>\"tipo_veiculo\"</th>\n",
       "      <th>\"marca\"</th>\n",
       "      <th>\"ano_fabricacao_veiculo\"</th>\n",
       "      <th>\"tipo_envolvido\"</th>\n",
       "      <th>\"estado_fisico\"</th>\n",
       "      <th>\"idade\"</th>\n",
       "      <th>\"sexo\"</th>\n",
       "      <th>\"ilesos\"</th>\n",
       "      <th>\"feridos_leves\"</th>\n",
       "      <th>\"feridos_graves\"</th>\n",
       "      <th>\"mortos\"</th>\n",
       "      <th>\"latitude\"</th>\n",
       "      <th>\"longitude\"</th>\n",
       "      <th>\"regional\"</th>\n",
       "      <th>\"delegacia\"</th>\n",
       "      <th>\"uop\"</th>\n",
       "    </tr>\n",
       "  </thead>\n",
       "  <tbody>\n",
       "  </tbody>\n",
       "</table>\n",
       "<p>0 rows × 38 columns</p>\n",
       "</div>"
      ],
      "text/plain": [
       "Empty DataFrame\n",
       "Columns: [Unnamed: 0, \"id\", \"pesid\", \"data_inversa\", \"dia_semana\", \"horario\", \"uf\", \"br\", \"km\", \"municipio\", \"causa_principal\", \"causa_acidente\", \"ordem_tipo_acidente\", \"tipo_acidente\", \"classificacao_acidente\", \"fase_dia\", \"sentido_via\", \"condicao_metereologica\", \"tipo_pista\", \"tracado_via\", \"uso_solo\", \"id_veiculo\", \"tipo_veiculo\", \"marca\", \"ano_fabricacao_veiculo\", \"tipo_envolvido\", \"estado_fisico\", \"idade\", \"sexo\", \"ilesos\", \"feridos_leves\", \"feridos_graves\", \"mortos\", \"latitude\", \"longitude\", \"regional\", \"delegacia\", \"uop\"]\n",
       "Index: []\n",
       "\n",
       "[0 rows x 38 columns]"
      ]
     },
     "execution_count": 71,
     "metadata": {},
     "output_type": "execute_result"
    }
   ],
   "source": [
    "df5 = df[df['\"estado_fisico\"'] == 'Óbito']\n",
    "df5"
   ]
  },
  {
   "cell_type": "markdown",
   "metadata": {},
   "source": [
    "Iremos considerar como acidentes fatais, as colunas \"Óbito\" e \"Ãbito\""
   ]
  },
  {
   "cell_type": "code",
   "execution_count": 64,
   "metadata": {},
   "outputs": [
    {
     "data": {
      "text/plain": [
       "\"\"                                                 68803\n",
       "\"SR/RANDON SR CA\"                                  20928\n",
       "\"VW/GOL 1.0\"                                       16398\n",
       "\"SR/GUERRA AG GR\"                                  12833\n",
       "\"HONDA/CG 125 FAN KS\"                              12239\n",
       "                                                   ...  \n",
       "\"M.BENZ/LS 1316\"                                       1\n",
       "\"VW/MASCA VIAMIDI15190 O\"                              1\n",
       "\"VOLVO/INDUSCAR MILLEN U/INDUSCAR MILLEN U\"            1\n",
       "\"I/IVECO CURSOR 450E33TY/IVECO CURSOR 450E33TY\"        1\n",
       "\"HONDA/FUSCO CARGO 150A/FUSCO CARGO 150A\"              1\n",
       "Name: \"marca\", Length: 14847, dtype: int64"
      ]
     },
     "execution_count": 64,
     "metadata": {},
     "output_type": "execute_result"
    }
   ],
   "source": [
    "marcas = df_principal['\"marca\"'].value_counts()\n",
    "marcas"
   ]
  },
  {
   "cell_type": "code",
   "execution_count": null,
   "metadata": {},
   "outputs": [],
   "source": [
    "raised = df[['Title', 'Worldwide Gross', 'Production Budget']].dropna()\n",
    "raised['Total Raised'] = df['Worldwide Gross'] - df['Production Budget']"
   ]
  },
  {
   "cell_type": "code",
   "execution_count": 75,
   "metadata": {},
   "outputs": [
    {
     "ename": "ValueError",
     "evalue": "Columns must be same length as key",
     "output_type": "error",
     "traceback": [
      "\u001b[1;31m---------------------------------------------------------------------------\u001b[0m",
      "\u001b[1;31mValueError\u001b[0m                                Traceback (most recent call last)",
      "Cell \u001b[1;32mIn[75], line 4\u001b[0m\n\u001b[0;32m      1\u001b[0m df7 \u001b[38;5;241m=\u001b[39m df_principal[[\u001b[38;5;124m'\u001b[39m\u001b[38;5;124m\"\u001b[39m\u001b[38;5;124mmarca\u001b[39m\u001b[38;5;124m\"\u001b[39m\u001b[38;5;124m'\u001b[39m, \u001b[38;5;124m'\u001b[39m\u001b[38;5;124m\"\u001b[39m\u001b[38;5;124mestado_fisico\u001b[39m\u001b[38;5;124m\"\u001b[39m\u001b[38;5;124m'\u001b[39m]]\n\u001b[1;32m----> 4\u001b[0m df7[\u001b[38;5;124m'\u001b[39m\u001b[38;5;124m\"\u001b[39m\u001b[38;5;124mestado_fisico\u001b[39m\u001b[38;5;124m\"\u001b[39m\u001b[38;5;124m'\u001b[39m] \u001b[38;5;241m=\u001b[39m df_principal[df_principal[\u001b[38;5;124m'\u001b[39m\u001b[38;5;124m\"\u001b[39m\u001b[38;5;124mestado_fisico\u001b[39m\u001b[38;5;124m\"\u001b[39m\u001b[38;5;124m'\u001b[39m] \u001b[38;5;241m==\u001b[39m \u001b[38;5;124m'\u001b[39m\u001b[38;5;124m\"\u001b[39m\u001b[38;5;124mÓbito\u001b[39m\u001b[38;5;124m\"\u001b[39m\u001b[38;5;124m'\u001b[39m]\n\u001b[0;32m      5\u001b[0m df7\n",
      "File \u001b[1;32m~\\anaconda3\\lib\\site-packages\\pandas\\core\\frame.py:3970\u001b[0m, in \u001b[0;36mDataFrame.__setitem__\u001b[1;34m(self, key, value)\u001b[0m\n\u001b[0;32m   3968\u001b[0m     \u001b[38;5;28mself\u001b[39m\u001b[38;5;241m.\u001b[39m_setitem_array(key, value)\n\u001b[0;32m   3969\u001b[0m \u001b[38;5;28;01melif\u001b[39;00m \u001b[38;5;28misinstance\u001b[39m(value, DataFrame):\n\u001b[1;32m-> 3970\u001b[0m     \u001b[38;5;28;43mself\u001b[39;49m\u001b[38;5;241;43m.\u001b[39;49m\u001b[43m_set_item_frame_value\u001b[49m\u001b[43m(\u001b[49m\u001b[43mkey\u001b[49m\u001b[43m,\u001b[49m\u001b[43m \u001b[49m\u001b[43mvalue\u001b[49m\u001b[43m)\u001b[49m\n\u001b[0;32m   3971\u001b[0m \u001b[38;5;28;01melif\u001b[39;00m (\n\u001b[0;32m   3972\u001b[0m     is_list_like(value)\n\u001b[0;32m   3973\u001b[0m     \u001b[38;5;129;01mand\u001b[39;00m \u001b[38;5;129;01mnot\u001b[39;00m \u001b[38;5;28mself\u001b[39m\u001b[38;5;241m.\u001b[39mcolumns\u001b[38;5;241m.\u001b[39mis_unique\n\u001b[0;32m   3974\u001b[0m     \u001b[38;5;129;01mand\u001b[39;00m \u001b[38;5;241m1\u001b[39m \u001b[38;5;241m<\u001b[39m \u001b[38;5;28mlen\u001b[39m(\u001b[38;5;28mself\u001b[39m\u001b[38;5;241m.\u001b[39mcolumns\u001b[38;5;241m.\u001b[39mget_indexer_for([key])) \u001b[38;5;241m==\u001b[39m \u001b[38;5;28mlen\u001b[39m(value)\n\u001b[0;32m   3975\u001b[0m ):\n\u001b[0;32m   3976\u001b[0m     \u001b[38;5;66;03m# Column to set is duplicated\u001b[39;00m\n\u001b[0;32m   3977\u001b[0m     \u001b[38;5;28mself\u001b[39m\u001b[38;5;241m.\u001b[39m_setitem_array([key], value)\n",
      "File \u001b[1;32m~\\anaconda3\\lib\\site-packages\\pandas\\core\\frame.py:4100\u001b[0m, in \u001b[0;36mDataFrame._set_item_frame_value\u001b[1;34m(self, key, value)\u001b[0m\n\u001b[0;32m   4098\u001b[0m len_cols \u001b[38;5;241m=\u001b[39m \u001b[38;5;241m1\u001b[39m \u001b[38;5;28;01mif\u001b[39;00m is_scalar(cols) \u001b[38;5;28;01melse\u001b[39;00m \u001b[38;5;28mlen\u001b[39m(cols)\n\u001b[0;32m   4099\u001b[0m \u001b[38;5;28;01mif\u001b[39;00m len_cols \u001b[38;5;241m!=\u001b[39m \u001b[38;5;28mlen\u001b[39m(value\u001b[38;5;241m.\u001b[39mcolumns):\n\u001b[1;32m-> 4100\u001b[0m     \u001b[38;5;28;01mraise\u001b[39;00m \u001b[38;5;167;01mValueError\u001b[39;00m(\u001b[38;5;124m\"\u001b[39m\u001b[38;5;124mColumns must be same length as key\u001b[39m\u001b[38;5;124m\"\u001b[39m)\n\u001b[0;32m   4102\u001b[0m \u001b[38;5;66;03m# align right-hand-side columns if self.columns\u001b[39;00m\n\u001b[0;32m   4103\u001b[0m \u001b[38;5;66;03m# is multi-index and self[key] is a sub-frame\u001b[39;00m\n\u001b[0;32m   4104\u001b[0m \u001b[38;5;28;01mif\u001b[39;00m \u001b[38;5;28misinstance\u001b[39m(\u001b[38;5;28mself\u001b[39m\u001b[38;5;241m.\u001b[39mcolumns, MultiIndex) \u001b[38;5;129;01mand\u001b[39;00m \u001b[38;5;28misinstance\u001b[39m(\n\u001b[0;32m   4105\u001b[0m     loc, (\u001b[38;5;28mslice\u001b[39m, Series, np\u001b[38;5;241m.\u001b[39mndarray, Index)\n\u001b[0;32m   4106\u001b[0m ):\n",
      "\u001b[1;31mValueError\u001b[0m: Columns must be same length as key"
     ]
    }
   ],
   "source": [
    "df7 = df_principal[['\"marca\"', '\"estado_fisico\"']]\n",
    "\n",
    "\n",
    "df7['\"estado_fisico\"'] = df_principal[df_principal['\"estado_fisico\"'] == '\"Óbito\"']\n",
    "df7\n",
    "\n",
    "## brazil = brazil.drop(columns = ['Abuse Score 2021','Country'])"
   ]
  },
  {
   "cell_type": "code",
   "execution_count": null,
   "metadata": {},
   "outputs": [],
   "source": []
  }
 ],
 "metadata": {
  "kernelspec": {
   "display_name": "Python 3 (ipykernel)",
   "language": "python",
   "name": "python3"
  },
  "language_info": {
   "codemirror_mode": {
    "name": "ipython",
    "version": 3
   },
   "file_extension": ".py",
   "mimetype": "text/x-python",
   "name": "python",
   "nbconvert_exporter": "python",
   "pygments_lexer": "ipython3",
   "version": "3.10.9"
  }
 },
 "nbformat": 4,
 "nbformat_minor": 2
}
