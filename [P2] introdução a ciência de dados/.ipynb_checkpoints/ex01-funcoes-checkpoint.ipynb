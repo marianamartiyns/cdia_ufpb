{
 "cells": [
  {
   "cell_type": "markdown",
   "metadata": {},
   "source": [
    "# Introdução à Ciência de Dados - UFPB\n",
    "Professor: Yuri Malheiros\n",
    "\n",
    "## Python - Listas - Exercício"
   ]
  },
  {
   "cell_type": "markdown",
   "metadata": {},
   "source": [
    "As funções abaixo possuem comentários de doctest que servem para testá-las. Por favor, não apague os comentários após a definição das funções.\n",
    "\n",
    "Você pode conferir se a sua implementação está correta executando a última célula desse notebook."
   ]
  },
  {
   "cell_type": "markdown",
   "metadata": {},
   "source": [
    "A função `clear` recebe uma lista e uma função como parâmetros. Ela deve retornar uma nova lista apenas com os elementos da lista que, ao aplicar a função passada como parâmetro, o retorno dessa função seja True."
   ]
  },
  {
   "cell_type": "code",
   "execution_count": 1,
   "metadata": {},
   "outputs": [],
   "source": [
    "\"\"\"\n",
    "def clear(a_list, test_func):\n",
    "    \n",
    "    Test:\n",
    "    >>> clear([1,2,3,4,5,6,7,8], lambda x: x % 2 == 0)\n",
    "    [2, 4, 6, 8]\n",
    "\n",
    "    >>> clear(['maria', 'joao', 'ana', 'lucas'], lambda x: len(x) == 5)\n",
    "    ['maria', 'lucas']\n",
    "\"\"\"\n",
    "    \n",
    "    # ADICIONAR CÓDIGO AQUI\n",
    "    \n",
    "def clear(a_list, test_func):\n",
    "    \n",
    "    result = []\n",
    "    for i in a_list:\n",
    "        \n",
    "        if test_func(i):\n",
    "            result.append(i)\n",
    " \n",
    "    return result"
   ]
  },
  {
   "cell_type": "markdown",
   "metadata": {},
   "source": [
    "A função `pipeline` recebe uma lista e uma quantidade variável de funções. Uma nova lista deve ser criada aplicando cada função a cada elemento da lista. Essa nova lista deve ser retornada."
   ]
  },
  {
   "cell_type": "code",
   "execution_count": 2,
   "metadata": {},
   "outputs": [],
   "source": [
    "\"\"\"\n",
    "def pipeline(a_list, *funcs):\n",
    "    \n",
    "    Test:\n",
    "    >>> pipeline([1,2,3,4,5], lambda x: x * 2)\n",
    "    [2, 4, 6, 8, 10]\n",
    "\n",
    "    >>> pipeline([1,2,3,4,5], lambda x: x * 2, lambda x: x-1)\n",
    "    [1, 3, 5, 7, 9]\n",
    "\"\"\"\n",
    "\n",
    "    # ADICIONAR CÓDIGO AQUI\n",
    "\n",
    "def pipeline(a_list, *funcs):\n",
    "    \n",
    "    result = []\n",
    "    \n",
    "    for i in a_list:\n",
    "        for j in funcs:\n",
    "            i = j(i)\n",
    "                \n",
    "        result.append(i)\n",
    "            \n",
    "    return result"
   ]
  },
  {
   "cell_type": "code",
   "execution_count": null,
   "metadata": {},
   "outputs": [],
   "source": [
    "import doctest\n",
    "\n",
    "doctest.testmod(verbose=True)"
   ]
  }
 ],
 "metadata": {
  "kernelspec": {
   "display_name": "Python 3 (ipykernel)",
   "language": "python",
   "name": "python3"
  },
  "language_info": {
   "codemirror_mode": {
    "name": "ipython",
    "version": 3
   },
   "file_extension": ".py",
   "mimetype": "text/x-python",
   "name": "python",
   "nbconvert_exporter": "python",
   "pygments_lexer": "ipython3",
   "version": "3.9.12"
  },
  "vscode": {
   "interpreter": {
    "hash": "920717a7cc80731a9b73e79f915c61e3bfaff3c2aee97a8455928bf5b256b3eb"
   }
  }
 },
 "nbformat": 4,
 "nbformat_minor": 4
}
