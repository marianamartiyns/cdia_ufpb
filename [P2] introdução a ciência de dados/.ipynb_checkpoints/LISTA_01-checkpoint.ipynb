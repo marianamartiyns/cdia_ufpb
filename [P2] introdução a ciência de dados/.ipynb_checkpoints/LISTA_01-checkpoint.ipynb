{
 "cells": [
  {
   "cell_type": "markdown",
   "metadata": {},
   "source": [
    "# Introdução à Ciência de Dados - UFPB\n",
    "Professor: Yuri Malheiros\n",
    "\n",
    "## Python - Listas - Exercício"
   ]
  },
  {
   "cell_type": "markdown",
   "metadata": {},
   "source": [
    "As funções abaixo possuem comentários de doctest que servem para testá-las. Por favor, não apague os comentários após a definição das funções.\n",
    "\n",
    "Você pode conferir se a sua implementação está correta executando a última célula desse notebook."
   ]
  },
  {
   "cell_type": "markdown",
   "metadata": {},
   "source": [
    "A função `clear` recebe uma lista e uma função como parâmetros. Ela deve retornar uma nova lista apenas com os elementos da lista que, ao aplicar a função passada como parâmetro, o retorno dessa função seja True."
   ]
  },
  {
   "cell_type": "code",
   "execution_count": 19,
   "metadata": {},
   "outputs": [
    {
     "data": {
      "text/plain": [
       "['maria', 'lucas', 'mariana', 'felipe', 'cleydson', 'bruno']"
      ]
     },
     "execution_count": 19,
     "metadata": {},
     "output_type": "execute_result"
    }
   ],
   "source": [
    "\"\"\"\n",
    "def clear(a_list, test_func):\n",
    "    \n",
    "    Test:\n",
    "    >>> clear([1,2,3,4,5,6,7,8], lambda x: x % 2 == 0)\n",
    "    [2, 4, 6, 8]\n",
    "\n",
    "    >>> clear(['maria', 'joao', 'ana', 'lucas'], lambda x: len(x) == 5)\n",
    "    ['maria', 'lucas']\n",
    "\"\"\"\n",
    "    \n",
    "    # ADICIONAR CÓDIGO AQUI\n",
    "    \n",
    "def confere_pares(numeros): # Retorn o True para elementos pares da lista.\n",
    "    \n",
    "    pares = []\n",
    "    for i in range(len(numeros)):\n",
    "        \n",
    "        if numeros[i] % 2 == 0:\n",
    "            pares.append(numeros[i])\n",
    "            \n",
    "    return pares\n",
    "\n",
    "def string_size(strings): # Retorn o True para elementos da lista com 5 ou mais letras.\n",
    "    \n",
    "    resultado = []\n",
    "    for i in range(len(strings)):\n",
    "        \n",
    "        if len(strings[i]) >= 5:\n",
    "            resultado.append(strings[i])\n",
    "            \n",
    "    return resultado\n",
    "\n",
    "\n",
    "def clear(a_list, test_func):\n",
    "\n",
    "    for i in range(len(a_list)):\n",
    "        result = test_func(a_list)\n",
    "        \n",
    "    return result\n",
    "\n",
    "# test = [1,2,3,4,5,6,7,8,9]\n",
    "# print(clear(test, confere_pares)) \n",
    "\n",
    "test = ['maria', 'joao', 'ana', 'lucas', 'mariana', 'felipe', 'cleydson', 'bruno']\n",
    "clear(test, string_size)"
   ]
  },
  {
   "cell_type": "markdown",
   "metadata": {},
   "source": [
    "A função `pipeline` recebe uma lista e uma quantidade variável de funções. Uma nova lista deve ser criada aplicando cada função a cada elemento da lista. Essa nova lista deve ser retornada."
   ]
  },
  {
   "cell_type": "code",
   "execution_count": 5,
   "metadata": {},
   "outputs": [
    {
     "ename": "TypeError",
     "evalue": "object of type 'int' has no len()",
     "output_type": "error",
     "traceback": [
      "\u001b[1;31m---------------------------------------------------------------------------\u001b[0m",
      "\u001b[1;31mTypeError\u001b[0m                                 Traceback (most recent call last)",
      "Input \u001b[1;32mIn [5]\u001b[0m, in \u001b[0;36m<cell line: 55>\u001b[1;34m()\u001b[0m\n\u001b[0;32m     51\u001b[0m     \u001b[38;5;28;01mreturn\u001b[39;00m result\n\u001b[0;32m     54\u001b[0m test \u001b[38;5;241m=\u001b[39m [\u001b[38;5;241m1\u001b[39m,\u001b[38;5;241m2\u001b[39m,\u001b[38;5;241m3\u001b[39m,\u001b[38;5;241m4\u001b[39m,\u001b[38;5;241m5\u001b[39m]\n\u001b[1;32m---> 55\u001b[0m \u001b[43mpipeline\u001b[49m\u001b[43m(\u001b[49m\u001b[43mtest\u001b[49m\u001b[43m,\u001b[49m\u001b[43m \u001b[49m\u001b[43mdouble\u001b[49m\u001b[43m)\u001b[49m\n",
      "Input \u001b[1;32mIn [5]\u001b[0m, in \u001b[0;36mpipeline\u001b[1;34m(a_list, *funcs)\u001b[0m\n\u001b[0;32m     46\u001b[0m new_list \u001b[38;5;241m=\u001b[39m a_list\n\u001b[0;32m     48\u001b[0m \u001b[38;5;28;01mfor\u001b[39;00m i \u001b[38;5;129;01min\u001b[39;00m \u001b[38;5;28mrange\u001b[39m(\u001b[38;5;28mlen\u001b[39m(functions)):\n\u001b[1;32m---> 49\u001b[0m     result \u001b[38;5;241m=\u001b[39m \u001b[38;5;28;43mlist\u001b[39;49m\u001b[43m(\u001b[49m\u001b[38;5;28;43mmap\u001b[39;49m\u001b[43m(\u001b[49m\u001b[43mfunctions\u001b[49m\u001b[43m[\u001b[49m\u001b[43mi\u001b[49m\u001b[43m]\u001b[49m\u001b[43m,\u001b[49m\u001b[43m \u001b[49m\u001b[43mnew_list\u001b[49m\u001b[43m)\u001b[49m\u001b[43m)\u001b[49m\n\u001b[0;32m     51\u001b[0m \u001b[38;5;28;01mreturn\u001b[39;00m result\n",
      "Input \u001b[1;32mIn [5]\u001b[0m, in \u001b[0;36mdouble\u001b[1;34m(_list)\u001b[0m\n\u001b[0;32m     14\u001b[0m \u001b[38;5;28;01mdef\u001b[39;00m \u001b[38;5;21mdouble\u001b[39m(_list): \u001b[38;5;66;03m# return uma nova lista com os elementos multiplicados por 2\u001b[39;00m\n\u001b[0;32m     16\u001b[0m     final_list \u001b[38;5;241m=\u001b[39m []\n\u001b[1;32m---> 18\u001b[0m     \u001b[38;5;28;01mfor\u001b[39;00m i \u001b[38;5;129;01min\u001b[39;00m \u001b[38;5;28mrange\u001b[39m(\u001b[38;5;28;43mlen\u001b[39;49m\u001b[43m(\u001b[49m\u001b[43m_list\u001b[49m\u001b[43m)\u001b[49m):\n\u001b[0;32m     19\u001b[0m         final_list\u001b[38;5;241m.\u001b[39mappend(_list[i] \u001b[38;5;241m*\u001b[39m \u001b[38;5;241m2\u001b[39m)\n\u001b[0;32m     21\u001b[0m     \u001b[38;5;28;01mreturn\u001b[39;00m final_list\n",
      "\u001b[1;31mTypeError\u001b[0m: object of type 'int' has no len()"
     ]
    }
   ],
   "source": [
    "\"\"\"\n",
    "def pipeline(a_list, *funcs):\n",
    "    \n",
    "    Test:\n",
    "    >>> pipeline([1,2,3,4,5], lambda x: x * 2)\n",
    "    [2, 4, 6, 8, 10]\n",
    "\n",
    "    >>> pipeline([1,2,3,4,5], lambda x: x * 2, lambda x: x-1)\n",
    "    [1, 3, 5, 7, 9]\n",
    "\"\"\"\n",
    "\n",
    "    # ADICIONAR CÓDIGO AQUI\n",
    "    \n",
    "def double(_list): # return uma nova lista com os elementos multiplicados por 2\n",
    "    \n",
    "    final_list = []\n",
    "    \n",
    "    for i in range(len(_list)):\n",
    "        final_list.append(_list[i] * 2)\n",
    "        \n",
    "    return final_list\n",
    "\n",
    "def one_less(_list): # return uma nova lista com os elemenntos subtraídos 1\n",
    "    \n",
    "    \n",
    "    final_list = []\n",
    "    \n",
    "    for i in range(len(_list)):\n",
    "        final_list.append(_list[i] - 1)\n",
    "        \n",
    "    return final_list\n",
    "\n",
    "def hundred(_list): # return uma nova lista com os elementos somados a 100\n",
    "    \n",
    "    final_list = []\n",
    "    \n",
    "    for i in range(len(_list)):\n",
    "        final_list.append(_list[i] + 100)\n",
    "        \n",
    "    return final_list\n",
    "\n",
    "\n",
    "def pipeline(a_list, *funcs):\n",
    "    \n",
    "    functions = list(funcs)\n",
    "    new_list = a_list\n",
    "    \n",
    "    for i in range(len(functions)):\n",
    "        result = list(map(functions[i], new_list))\n",
    "        \n",
    "    return result\n",
    "     \n",
    "test = [1,2,3,4,5]\n",
    "pipeline(test, double)"
   ]
  },
  {
   "cell_type": "code",
   "execution_count": null,
   "metadata": {},
   "outputs": [],
   "source": [
    "import doctest\n",
    "\n",
    "doctest.testmod(verbose=True)"
   ]
  },
  {
   "cell_type": "code",
   "execution_count": null,
   "metadata": {},
   "outputs": [],
   "source": []
  }
 ],
 "metadata": {
  "kernelspec": {
   "display_name": "Python 3 (ipykernel)",
   "language": "python",
   "name": "python3"
  },
  "language_info": {
   "codemirror_mode": {
    "name": "ipython",
    "version": 3
   },
   "file_extension": ".py",
   "mimetype": "text/x-python",
   "name": "python",
   "nbconvert_exporter": "python",
   "pygments_lexer": "ipython3",
   "version": "3.9.12"
  },
  "vscode": {
   "interpreter": {
    "hash": "920717a7cc80731a9b73e79f915c61e3bfaff3c2aee97a8455928bf5b256b3eb"
   }
  }
 },
 "nbformat": 4,
 "nbformat_minor": 4
}
