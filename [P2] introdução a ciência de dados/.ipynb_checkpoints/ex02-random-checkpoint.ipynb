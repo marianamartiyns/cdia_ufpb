{
 "cells": [
  {
   "cell_type": "markdown",
   "metadata": {},
   "source": [
    "# Introdução à Ciência de Dados - UFPB\n",
    "Professor: Yuri Malheiros\n",
    "\n",
    "## Python - Random - Exercício"
   ]
  },
  {
   "cell_type": "markdown",
   "metadata": {},
   "source": [
    "Uma forma segura de criar senhas é usar o conceito de passphrases, nele, ao invés de usar caracteres aleatórios, usa-se palavras aleatórias. Assim, você tem uma senha fácil de lembrar, porém longa, o que dificulta um ataque de força bruta.\n",
    "\n",
    "Implemente uma função `generate_password` que de deve gerar uma senha aleatória usando passphrases.\n",
    "\n",
    "A função tem os seguintes parâmetros:\n",
    "- `length` - especifica a quantidade de palavras na senha.\n",
    "- `separator` - especifica um caractere que separa as palavras. Por padrão, esse parâmetro tem o valor '-'.\n",
    "- `min_size` - especifica o tamanho mínimo das palavras utilizadas. Por padrão, esse parâmetro tem o valor 5."
   ]
  },
  {
   "cell_type": "code",
   "execution_count": 7,
   "metadata": {},
   "outputs": [
    {
     "name": "stdout",
     "output_type": "stream",
     "text": [
      "Random string of length 4 is: RyAX\n",
      "None\n"
     ]
    }
   ],
   "source": [
    "def generate_password(length, separator='-', min_size=5):\n",
    "    # ADICIONE O SEU CÓDIGO AQUI\n",
    "    \n",
    "    import random\n",
    "    import string\n",
    "    \n",
    "    #senha = ''\n",
    "    #for i in range(tamanho):\n",
    "      #senha += choice(valores)\n",
    "        \n",
    "    letters = string.ascii_letters\n",
    "    result_str = ''.join(random.choice(letters) for min_size in range(length))\n",
    "    print(\"Random string of length\", length, \"is:\", result_str)\n",
    "\n",
    "print(generate_password(4))"
   ]
  },
  {
   "cell_type": "code",
   "execution_count": 1,
   "metadata": {},
   "outputs": [
    {
     "ename": "NameError",
     "evalue": "name 'generate_password' is not defined",
     "output_type": "error",
     "traceback": [
      "\u001b[1;31m---------------------------------------------------------------------------\u001b[0m",
      "\u001b[1;31mNameError\u001b[0m                                 Traceback (most recent call last)",
      "Input \u001b[1;32mIn [1]\u001b[0m, in \u001b[0;36m<cell line: 3>\u001b[1;34m()\u001b[0m\n\u001b[0;32m      1\u001b[0m \u001b[38;5;66;03m# Exemplos de teste (você pode escrever outros, mas utilize pelo menos esses daqui)\u001b[39;00m\n\u001b[1;32m----> 3\u001b[0m \u001b[38;5;28mprint\u001b[39m(\u001b[43mgenerate_password\u001b[49m(\u001b[38;5;241m4\u001b[39m))\n\u001b[0;32m      4\u001b[0m \u001b[38;5;28mprint\u001b[39m(generate_password(\u001b[38;5;241m3\u001b[39m, separator\u001b[38;5;241m=\u001b[39m\u001b[38;5;124m'\u001b[39m\u001b[38;5;124m \u001b[39m\u001b[38;5;124m'\u001b[39m))\n\u001b[0;32m      5\u001b[0m \u001b[38;5;28mprint\u001b[39m(generate_password(\u001b[38;5;241m5\u001b[39m, separator\u001b[38;5;241m=\u001b[39m\u001b[38;5;124m'\u001b[39m\u001b[38;5;124m_-_\u001b[39m\u001b[38;5;124m'\u001b[39m))\n",
      "\u001b[1;31mNameError\u001b[0m: name 'generate_password' is not defined"
     ]
    }
   ],
   "source": [
    "# Exemplos de teste (você pode escrever outros, mas utilize pelo menos esses daqui)\n",
    "\n",
    "print(generate_password(4))\n",
    "print(generate_password(3, separator=' '))\n",
    "print(generate_password(5, separator='_-_'))\n",
    "print(generate_password(3, min_size=10))\n",
    "print(generate_password(4, separator=';', min_size=3))"
   ]
  },
  {
   "cell_type": "markdown",
   "metadata": {},
   "source": []
  }
 ],
 "metadata": {
  "kernelspec": {
   "display_name": "Python 3 (ipykernel)",
   "language": "python",
   "name": "python3"
  },
  "language_info": {
   "codemirror_mode": {
    "name": "ipython",
    "version": 3
   },
   "file_extension": ".py",
   "mimetype": "text/x-python",
   "name": "python",
   "nbconvert_exporter": "python",
   "pygments_lexer": "ipython3",
   "version": "3.9.12"
  }
 },
 "nbformat": 4,
 "nbformat_minor": 4
}
