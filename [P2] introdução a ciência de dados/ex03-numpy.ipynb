{
 "cells": [
  {
   "cell_type": "markdown",
   "metadata": {},
   "source": [
    "# Introdução à Ciência de Dados - UFPB\n",
    "Professor: Yuri Malheiros\n",
    "\n",
    "## NumPy"
   ]
  },
  {
   "cell_type": "markdown",
   "metadata": {},
   "source": [
    "Implemente a função `distance` abaixo. Ela deve receber dois pontos e retornar a distância euclidiana entre eles. Cada ponto é representado por um array do NumPy, por exemplo, `p1 = np.array([2,4])` representa o ponto com coordenadas `x=2` e `y=2`."
   ]
  },
  {
   "cell_type": "code",
   "execution_count": 2,
   "metadata": {
    "scrolled": true
   },
   "outputs": [],
   "source": [
    "import numpy as np\n",
    "\n",
    "def distance(p1, p2):\n",
    "    \"\"\"\n",
    "    >>> distance(np.array([0,0]), np.array([1,1]))\n",
    "    1.4142135623730951\n",
    "    \n",
    "    >>> distance(np.array([1,2]), np.array([3,4]))\n",
    "    2.8284271247461903\n",
    "    \n",
    "    >>> distance(np.array([5,2]), np.array([-2,-1]))\n",
    "    7.615773105863909\n",
    "    \"\"\"\n",
    "\n",
    "    # ADICIONE O SEU CÓDIGO AQUI\n",
    "    # dAB² = (xB – xA)² + (yB – yA)². \n",
    "\n",
    "    d = np.sum(np.square(p1 - p2))\n",
    "    \n",
    "    return (np.sqrt(d))"
   ]
  },
  {
   "cell_type": "markdown",
   "metadata": {},
   "source": [
    "Implemente a função `n_distances` abaixo. Ela recebe um ponto (`p1`), como um array do NumPy, e uma lista de pontos (`points`), uma matriz do NumPy, onde cada linha representa um ponto.\n",
    "\n",
    "Esta função deve retornar a distância de `p1` para todos os pontos da matriz `points`. O retorno é uma lista, onde cada elemento tem a distância de `p1` para o ponto daquela posição correspondente."
   ]
  },
  {
   "cell_type": "code",
   "execution_count": 44,
   "metadata": {},
   "outputs": [],
   "source": [
    "def n_distances(p1, points):\n",
    "    \"\"\"\n",
    "    >>> n_distances(np.array([0,0]), np.array([[1,1]]))\n",
    "    array([1.41421356])\n",
    "    \n",
    "    >>> n_distances(np.array([0,0]), np.array([[1,1], [2,2]]))\n",
    "    array([1.41421356, 2.82842712])\n",
    "    \n",
    "    >>> n_distances(np.array([1,2]), np.array([[3,-1], [2,1], [5, 2], [10, 1], [-2, -5]]))\n",
    "    array([3.60555128, 1.41421356, 4.        , 9.05538514, 7.61577311])\n",
    "    \"\"\"\n",
    "    \n",
    "    # ADICIONE O SEU CÓDIGO AQUI\n",
    "    \n",
    "    d = np.sqrt(np.sum(np.square(points - p1), axis=1))\n",
    "    \n",
    "    return np.array(d.tolist())"
   ]
  },
  {
   "cell_type": "markdown",
   "metadata": {},
   "source": [
    "Implemente a função `sort_by_distances`. Assim como a função anterior, ela recebe um ponto (`p1`), como um array do NumPy, e uma lista de pontos (`points`), uma matriz do NumPy, onde cada linha representa um ponto.\n",
    "\n",
    "Esta função deve retornar uma matriz com os valores de `points` ordenados de acordo com as suas distâncias para `p1`, ou seja, a primeira linha da matriz de retorno deve ser o ponto mais próximo de `p1`, a segunda linha deve ser segundo ponto mais próximo de `p1` e assim sucessivamente."
   ]
  },
  {
   "cell_type": "code",
   "execution_count": 54,
   "metadata": {
    "scrolled": true
   },
   "outputs": [
    {
     "data": {
      "text/plain": [
       "array([[ 2,  1],\n",
       "       [ 3, -1],\n",
       "       [ 5,  2],\n",
       "       [-2, -5],\n",
       "       [10,  1]])"
      ]
     },
     "execution_count": 54,
     "metadata": {},
     "output_type": "execute_result"
    }
   ],
   "source": [
    "def sort_by_distances(p1, points):\n",
    "    \"\"\"\n",
    "    >>> sort_by_distances(np.array([1,2]), np.array([[3,-1], [2,1], [5, 2], [10, 1], [-2, -5]]))\n",
    "    array([[2,1], [3,-1], [5, 2], [-2, -5], [10, 1]])\n",
    "\n",
    "    >>> sort_by_distances(np.array([0,0]), np.array([[1,1], [2,2]]))\n",
    "    array([[1,1], [2,2]])\n",
    "    \"\"\"\n",
    "    \n",
    "    # ADICIONE O SEU CÓDIGO AQUI\n",
    "    \n",
    "    distances = np.array(n_distances(p1, points))\n",
    "    sorted_indices = np.argsort(distances)\n",
    "\n",
    "    return points[sorted_indices]\n",
    "\n",
    "sort_by_distances(np.array([1,2]), np.array([[3,-1], [2,1], [5, 2], [10, 1], [-2, -5]]))"
   ]
  },
  {
   "cell_type": "code",
   "execution_count": 53,
   "metadata": {},
   "outputs": [],
   "source": [
    "np.argsort??"
   ]
  },
  {
   "cell_type": "markdown",
   "metadata": {},
   "source": [
    "## Teste"
   ]
  },
  {
   "cell_type": "code",
   "execution_count": 45,
   "metadata": {},
   "outputs": [
    {
     "name": "stdout",
     "output_type": "stream",
     "text": [
      "Trying:\n",
      "    distance(np.array([0,0]), np.array([1,1]))\n",
      "Expecting:\n",
      "    1.4142135623730951\n",
      "ok\n",
      "Trying:\n",
      "    distance(np.array([1,2]), np.array([3,4]))\n",
      "Expecting:\n",
      "    2.8284271247461903\n",
      "ok\n",
      "Trying:\n",
      "    distance(np.array([5,2]), np.array([-2,-1]))\n",
      "Expecting:\n",
      "    7.615773105863909\n",
      "ok\n",
      "Trying:\n",
      "    n_distances(np.array([0,0]), np.array([[1,1]]))\n",
      "Expecting:\n",
      "    array([1.41421356])\n",
      "ok\n",
      "Trying:\n",
      "    n_distances(np.array([0,0]), np.array([[1,1], [2,2]]))\n",
      "Expecting:\n",
      "    array([1.41421356, 2.82842712])\n",
      "ok\n",
      "Trying:\n",
      "    n_distances(np.array([1,2]), np.array([[3,-1], [2,1], [5, 2], [10, 1], [-2, -5]]))\n",
      "Expecting:\n",
      "    array([3.60555128, 1.41421356, 4.        , 9.05538514, 7.61577311])\n",
      "ok\n",
      "Trying:\n",
      "    sort_by_distances(np.array([1,2]), np.array([[3,-1], [2,1], [5, 2], [10, 1], [-2, -5]]))\n",
      "Expecting:\n",
      "    array([[2,1], [3,-1], [5, 2], [-2, -5], [10, 1]])\n",
      "**********************************************************************\n",
      "File \"__main__\", line 3, in __main__.sort_by_distances\n",
      "Failed example:\n",
      "    sort_by_distances(np.array([1,2]), np.array([[3,-1], [2,1], [5, 2], [10, 1], [-2, -5]]))\n",
      "Expected:\n",
      "    array([[2,1], [3,-1], [5, 2], [-2, -5], [10, 1]])\n",
      "Got:\n",
      "    array([1, 0, 2, 4, 3], dtype=int64)\n",
      "Trying:\n",
      "    sort_by_distances(np.array([0,0]), np.array([[1,1], [2,2]]))\n",
      "Expecting:\n",
      "    array([[1,1], [2,2]])\n",
      "**********************************************************************\n",
      "File \"__main__\", line 6, in __main__.sort_by_distances\n",
      "Failed example:\n",
      "    sort_by_distances(np.array([0,0]), np.array([[1,1], [2,2]]))\n",
      "Expected:\n",
      "    array([[1,1], [2,2]])\n",
      "Got:\n",
      "    array([0, 1], dtype=int64)\n",
      "1 items had no tests:\n",
      "    __main__\n",
      "2 items passed all tests:\n",
      "   3 tests in __main__.distance\n",
      "   3 tests in __main__.n_distances\n",
      "**********************************************************************\n",
      "1 items had failures:\n",
      "   2 of   2 in __main__.sort_by_distances\n",
      "8 tests in 4 items.\n",
      "6 passed and 2 failed.\n",
      "***Test Failed*** 2 failures.\n"
     ]
    },
    {
     "data": {
      "text/plain": [
       "TestResults(failed=2, attempted=8)"
      ]
     },
     "execution_count": 45,
     "metadata": {},
     "output_type": "execute_result"
    }
   ],
   "source": [
    "import doctest\n",
    "\n",
    "doctest.testmod(verbose=True)"
   ]
  }
 ],
 "metadata": {
  "kernelspec": {
   "display_name": "Python 3 (ipykernel)",
   "language": "python",
   "name": "python3"
  },
  "language_info": {
   "codemirror_mode": {
    "name": "ipython",
    "version": 3
   },
   "file_extension": ".py",
   "mimetype": "text/x-python",
   "name": "python",
   "nbconvert_exporter": "python",
   "pygments_lexer": "ipython3",
   "version": "3.9.12"
  }
 },
 "nbformat": 4,
 "nbformat_minor": 4
}
