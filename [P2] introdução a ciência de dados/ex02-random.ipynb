{
 "cells": [
  {
   "cell_type": "markdown",
   "metadata": {},
   "source": [
    "# Introdução à Ciência de Dados - UFPB\n",
    "Professor: Yuri Malheiros\n",
    "\n",
    "## Python - Random - Exercício"
   ]
  },
  {
   "cell_type": "markdown",
   "metadata": {},
   "source": [
    "Uma forma segura de criar senhas é usar o conceito de passphrases, nele, ao invés de usar caracteres aleatórios, usa-se palavras aleatórias. Assim, você tem uma senha fácil de lembrar, porém longa, o que dificulta um ataque de força bruta.\n",
    "\n",
    "Implemente uma função `generate_password` que de deve gerar uma senha aleatória usando passphrases.\n",
    "\n",
    "A função tem os seguintes parâmetros:\n",
    "- `length` - especifica a quantidade de palavras na senha.\n",
    "- `separator` - especifica um caractere que separa as palavras. Por padrão, esse parâmetro tem o valor '-'.\n",
    "- `min_size` - especifica o tamanho mínimo das palavras utilizadas. Por padrão, esse parâmetro tem o valor 5."
   ]
  },
  {
   "cell_type": "code",
   "execution_count": 26,
   "metadata": {},
   "outputs": [
    {
     "ename": "TypeError",
     "evalue": "can only concatenate str (not \"tuple\") to str",
     "output_type": "error",
     "traceback": [
      "\u001b[1;31m---------------------------------------------------------------------------\u001b[0m",
      "\u001b[1;31mTypeError\u001b[0m                                 Traceback (most recent call last)",
      "Input \u001b[1;32mIn [26]\u001b[0m, in \u001b[0;36m<cell line: 27>\u001b[1;34m()\u001b[0m\n\u001b[0;32m     21\u001b[0m     \u001b[38;5;28;01mreturn\u001b[39;00m pword\n\u001b[0;32m     23\u001b[0m     \u001b[38;5;66;03m#letters = st.ascii_letters\u001b[39;00m\n\u001b[0;32m     24\u001b[0m     \u001b[38;5;66;03m#result_str = ''.join(rd.choice(letters) for min_size in range(length))\u001b[39;00m\n\u001b[0;32m     25\u001b[0m     \u001b[38;5;66;03m#print(\"Random string of length\", length, \"is:\", result_str)\u001b[39;00m\n\u001b[1;32m---> 27\u001b[0m \u001b[38;5;28mprint\u001b[39m(\u001b[43mgenerate_password\u001b[49m\u001b[43m(\u001b[49m\u001b[38;5;241;43m4\u001b[39;49m\u001b[43m,\u001b[49m\u001b[43m \u001b[49m\u001b[43mseparator\u001b[49m\u001b[38;5;241;43m=\u001b[39;49m\u001b[38;5;124;43m'\u001b[39;49m\u001b[38;5;124;43m;\u001b[39;49m\u001b[38;5;124;43m'\u001b[39;49m\u001b[43m,\u001b[49m\u001b[43m \u001b[49m\u001b[43mmin_size\u001b[49m\u001b[38;5;241;43m=\u001b[39;49m\u001b[38;5;241;43m3\u001b[39;49m\u001b[43m)\u001b[49m)\n",
      "Input \u001b[1;32mIn [26]\u001b[0m, in \u001b[0;36mgenerate_password\u001b[1;34m(length, separator, min_size)\u001b[0m\n\u001b[0;32m     16\u001b[0m pword \u001b[38;5;241m=\u001b[39m \u001b[38;5;124m'\u001b[39m\u001b[38;5;124m'\u001b[39m\n\u001b[0;32m     17\u001b[0m \u001b[38;5;28;01mfor\u001b[39;00m min_size \u001b[38;5;129;01min\u001b[39;00m \u001b[38;5;28mrange\u001b[39m(length):\n\u001b[1;32m---> 18\u001b[0m     pword \u001b[38;5;241m+\u001b[39m\u001b[38;5;241m=\u001b[39m rd\u001b[38;5;241m.\u001b[39mchoice(database), separator\n\u001b[0;32m     19\u001b[0m     \u001b[38;5;66;03m#print(f\"New password: {pword}\", end=separator)\u001b[39;00m\n\u001b[0;32m     21\u001b[0m \u001b[38;5;28;01mreturn\u001b[39;00m pword\n",
      "\u001b[1;31mTypeError\u001b[0m: can only concatenate str (not \"tuple\") to str"
     ]
    }
   ],
   "source": [
    "def generate_password(length, separator='-', min_size=5):\n",
    "    # ADICIONE O SEU CÓDIGO AQUI\n",
    "    \n",
    "    import random as rd\n",
    "    import string as st\n",
    "    \n",
    "    database = [\"seguranca\", \"senha\", \"aleatorio\", \"ventilador\", \"fome\", \"celular\", \"notebook\", \"aprovado\", \"python\", \"panda\"]\n",
    "    \n",
    "    ''' pword = ''\n",
    "    for i in range(min_size-1):\n",
    "      pword += rd.choice(database)\n",
    "    print(\"New password:\")\n",
    "    \n",
    "    return pword '''\n",
    "\n",
    "    pword = ''\n",
    "    for min_size in range(length):\n",
    "        pword += rd.choice(database), separator\n",
    "        #print(f\"New password: {pword}\", end=separator)\n",
    "    \n",
    "    return pword\n",
    "        \n",
    "    #letters = st.ascii_letters\n",
    "    #result_str = ''.join(rd.choice(letters) for min_size in range(length))\n",
    "    #print(\"Random string of length\", length, \"is:\", result_str)\n",
    "\n",
    "print(generate_password(4, separator=';', min_size=3))"
   ]
  },
  {
   "cell_type": "code",
   "execution_count": 20,
   "metadata": {},
   "outputs": [
    {
     "name": "stdout",
     "output_type": "stream",
     "text": [
      "New password:\n",
      "senhasenhaseguranca\n",
      "New password:\n",
      "segurancapanda\n",
      "New password:\n",
      "aprovadocelularfomeseguranca\n",
      "New password:\n",
      "senhasenha\n",
      "New password:\n",
      "aleatorioaprovadonotebook\n"
     ]
    }
   ],
   "source": [
    "# Exemplos de teste (você pode escrever outros, mas utilize pelo menos esses daqui)\n",
    "\n",
    "print(generate_password(4))\n",
    "print(generate_password(3, separator=' '))\n",
    "print(generate_password(5, separator='_-_'))\n",
    "print(generate_password(3, min_size=10))\n",
    "print(generate_password(4, separator=';', min_size=3))"
   ]
  },
  {
   "cell_type": "markdown",
   "metadata": {},
   "source": []
  }
 ],
 "metadata": {
  "kernelspec": {
   "display_name": "Python 3 (ipykernel)",
   "language": "python",
   "name": "python3"
  },
  "language_info": {
   "codemirror_mode": {
    "name": "ipython",
    "version": 3
   },
   "file_extension": ".py",
   "mimetype": "text/x-python",
   "name": "python",
   "nbconvert_exporter": "python",
   "pygments_lexer": "ipython3",
   "version": "3.9.12"
  }
 },
 "nbformat": 4,
 "nbformat_minor": 4
}
