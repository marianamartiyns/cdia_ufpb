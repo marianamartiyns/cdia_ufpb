{
 "cells": [
  {
   "cell_type": "markdown",
   "metadata": {},
   "source": [
    "# Introdução à Ciência de Dados - UFPB\n",
    "Professor: Yuri Malheiros\n",
    "\n",
    "## Python - Random - Exercício"
   ]
  },
  {
   "cell_type": "markdown",
   "metadata": {},
   "source": [
    "Uma forma segura de criar senhas é usar o conceito de passphrases, nele, ao invés de usar caracteres aleatórios, usa-se palavras aleatórias. Assim, você tem uma senha fácil de lembrar, porém longa, o que dificulta um ataque de força bruta.\n",
    "\n",
    "Implemente uma função `generate_password` que de deve gerar uma senha aleatória usando passphrases.\n",
    "\n",
    "A função tem os seguintes parâmetros:\n",
    "- `length` - especifica a quantidade de palavras na senha.\n",
    "- `separator` - especifica um caractere que separa as palavras. Por padrão, esse parâmetro tem o valor '-'.\n",
    "- `min_size` - especifica o tamanho mínimo das palavras utilizadas. Por padrão, esse parâmetro tem o valor 5."
   ]
  },
  {
   "cell_type": "code",
   "execution_count": 70,
   "metadata": {
    "scrolled": true
   },
   "outputs": [],
   "source": [
    "import random as rd\n",
    "\n",
    "def generate_password(length, separator='-', min_size=5):\n",
    "    \n",
    "    database = [\"Bailarina\", \"Futebol\", \"Estátua\", \"Hiportemia\", \"Pintor\", \"Frio\", \"Bebê\", \"Mímico\",\"Escova\", \"Lápis\", \"Livro\", \"Astronauta\", \n",
    "                \"Amor\", \"Ódio\", \"Ventilador\", \"Cego\", \"Cadeira\",\"Sacola\", \"Professor\",\"Médico\", \"Calculadora\", \"Artista\", \"Vitória\", \"Pescador\",\n",
    "                \"Internet\", \"Basquete\", \"Semente\", \"Policial\", \"Amargo\", \"Bilhete\", \"Xadrez\", \"Banana\", \"Micróbio\", \"Romance\",\n",
    "                \"Carteira\", \"Máquina\", \"Lavar\", \"Prancha\", \"Surfe\", \"Treinamento\", \"Debate\", \"Lixo\", \"Sombra\", \"Cadeado\", \"Massagem\"]\n",
    "    \n",
    "    words = []\n",
    "    pword = ''\n",
    "    \n",
    "    for word in database:\n",
    "        if len(word) >= min_size:\n",
    "            words.append(word)\n",
    "        \n",
    "    \n",
    "    for i in range(length):\n",
    "        pword += rd.choice(words)\n",
    "        if i != length - 1:\n",
    "            pword += separator\n",
    "            \n",
    "    print(\"\\nNew password:\")\n",
    "            \n",
    "    return pword"
   ]
  },
  {
   "cell_type": "code",
   "execution_count": 71,
   "metadata": {
    "scrolled": true
   },
   "outputs": [
    {
     "name": "stdout",
     "output_type": "stream",
     "text": [
      "\n",
      "New password:\n",
      "Lavar-Massagem-Banana-Astronauta\n",
      "\n",
      "New password:\n",
      "Sombra Internet Pintor\n",
      "\n",
      "New password:\n",
      "Futebol_-_Sacola_-_Policial_-_Máquina_-_Futebol\n",
      "\n",
      "New password:\n",
      "Astronauta-Calculadora-Hiportemia\n",
      "\n",
      "New password:\n",
      "Escova;Amargo;Frio;Lápis\n"
     ]
    }
   ],
   "source": [
    "print(generate_password(4))\n",
    "print(generate_password(3, separator=' '))\n",
    "print(generate_password(5, separator='_-_'))\n",
    "print(generate_password(3, min_size=10))\n",
    "print(generate_password(4, separator=';', min_size=3))"
   ]
  },
  {
   "cell_type": "markdown",
   "metadata": {},
   "source": []
  }
 ],
 "metadata": {
  "kernelspec": {
   "display_name": "Python 3 (ipykernel)",
   "language": "python",
   "name": "python3"
  },
  "language_info": {
   "codemirror_mode": {
    "name": "ipython",
    "version": 3
   },
   "file_extension": ".py",
   "mimetype": "text/x-python",
   "name": "python",
   "nbconvert_exporter": "python",
   "pygments_lexer": "ipython3",
   "version": "3.9.12"
  }
 },
 "nbformat": 4,
 "nbformat_minor": 4
}
