{
 "cells": [
  {
   "cell_type": "markdown",
   "metadata": {},
   "source": [
    "# Introdução à Ciência de Dados - UFPB\n",
    "Professor: Yuri Malheiros\n",
    "\n",
    "## Python - Random - Exercício"
   ]
  },
  {
   "cell_type": "markdown",
   "metadata": {},
   "source": [
    "Uma forma segura de criar senhas é usar o conceito de passphrases, nele, ao invés de usar caracteres aleatórios, usa-se palavras aleatórias. Assim, você tem uma senha fácil de lembrar, porém longa, o que dificulta um ataque de força bruta.\n",
    "\n",
    "Implemente uma função `generate_password` que de deve gerar uma senha aleatória usando passphrases.\n",
    "\n",
    "A função tem os seguintes parâmetros:\n",
    "- `length` - especifica a quantidade de palavras na senha.\n",
    "- `separator` - especifica um caractere que separa as palavras. Por padrão, esse parâmetro tem o valor '-'.\n",
    "- `min_size` - especifica o tamanho mínimo das palavras utilizadas. Por padrão, esse parâmetro tem o valor 5."
   ]
  },
  {
   "cell_type": "code",
   "execution_count": 74,
   "metadata": {},
   "outputs": [
    {
     "name": "stdout",
     "output_type": "stream",
     "text": [
      "\n",
      "New password:\n",
      "Cego;\n"
     ]
    }
   ],
   "source": [
    "def generate_password(length, separator='-', min_size=5):\n",
    "    \n",
    "    import random as rd\n",
    "    import string as st\n",
    "    \n",
    "    database = [\"Bailarina\", \"Futebol\", \"Estátua\", \"Pintor\", \"Frio\", \"Bebê\", \"Mímico\",\"Escova\", \"Lápis\", \"Livro\", \"Astronauta\", \n",
    "                \"Amor\", \"Ódio\", \"Cego\", \"Cadeira\",\"Sacola\", \"Professor\",\"Médico\", \"Calculadora\", \"Artista\", \"Vitória\", \"Pescador\",\n",
    "                \"Internet\", \"Basquete\", \"Semente\", \"Policial\", \"Amargo\", \"Bilhete\", \"Xadrez\", \"Banana\", \"Micróbio\", \"Romance\",\n",
    "                \"Carteira\", \"Máquina\", \"Lavar\", \"Prancha\", \"Surfe\", \"Debate\", \"Lixo\", \"Sombra\", \"Cadeado\", \"Massagem\"]\n",
    "\n",
    "    pword = ''\n",
    "    \n",
    "    for word in range(length):\n",
    "        \n",
    "        word = len(rd.choice(database))\n",
    "        if word >= min_size:\n",
    "                \n",
    "            pword = rd.choice(database)\n",
    "            if word != length - 1:\n",
    "                \n",
    "                pword += separator\n",
    "            \n",
    "            \n",
    "    #password = separator.join(random.sample(pword, length))\n",
    "          \n",
    "    print(\"\\nNew password:\")\n",
    "    \n",
    "    return pword\n",
    "\n",
    "print(generate_password(4, separator=';', min_size=3))"
   ]
  },
  {
   "cell_type": "code",
   "execution_count": 27,
   "metadata": {
    "scrolled": true
   },
   "outputs": [
    {
     "name": "stdout",
     "output_type": "stream",
     "text": [
      "\n",
      "New password:\n",
      "Cadeado-Banana-Amargo-\n",
      "\n",
      "New password:\n",
      "Cadeado Massagem Cego \n",
      "\n",
      "New password:\n",
      "Micróbio_-_Professor_-_Bilhete_-_Lixo_-_Amor_-_\n",
      "\n",
      "New password:\n",
      "\n",
      "\n",
      "New password:\n",
      "Basquete;Amargo;Lápis;Policial;\n"
     ]
    }
   ],
   "source": [
    "# Exemplos de teste (você pode escrever outros, mas utilize pelo menos esses daqui)\n",
    "\n",
    "print(generate_password(4))\n",
    "print(generate_password(3, separator=' '))\n",
    "print(generate_password(5, separator='_-_'))\n",
    "print(generate_password(3, min_size=10))\n",
    "print(generate_password(4, separator=';', min_size=3))"
   ]
  },
  {
   "cell_type": "code",
   "execution_count": 62,
   "metadata": {},
   "outputs": [
    {
     "name": "stdout",
     "output_type": "stream",
     "text": [
      "Artista Astronauta Internet\n"
     ]
    }
   ],
   "source": [
    "import random\n",
    "\n",
    "def generate_password(length, separator='-', min_size=5):\n",
    "    \n",
    "    database = [\"Bailarina\", \"Futebol\", \"Estátua\", \"Pintor\", \"Frio\", \"Bebê\", \"Mímico\",\"Escova\", \"Lápis\", \"Livro\", \"Astronauta\", \n",
    "                \"Amor\", \"Ódio\", \"Cego\", \"Cadeira\",\"Sacola\", \"Professor\",\"Médico\", \"Calculadora\", \"Artista\", \"Vitória\", \"Pescador\",\n",
    "                \"Internet\", \"Basquete\", \"Semente\", \"Policial\", \"Amargo\", \"Bilhete\", \"Xadrez\", \"Banana\", \"Micróbio\", \"Romance\",\n",
    "                \"Carteira\", \"Máquina\", \"Lavar\", \"Prancha\", \"Surfe\", \"Debate\", \"Lixo\", \"Sombra\", \"Cadeado\", \"Massagem\"]\n",
    "    \n",
    "\n",
    "    words = [word.strip() for word in database if len(word.strip()) >= min_size]\n",
    "  \n",
    "    password = separator.join(random.sample(words, length))\n",
    "    \n",
    "    return password\n",
    "\n",
    "print(generate_password(3, separator=' '))"
   ]
  },
  {
   "cell_type": "code",
   "execution_count": 67,
   "metadata": {},
   "outputs": [
    {
     "name": "stdout",
     "output_type": "stream",
     "text": [
      "Romance Cadeira Semente\n"
     ]
    }
   ],
   "source": [
    "import random\n",
    "import string\n",
    "\n",
    "def generate_password(length, separator='-', min_size=5):\n",
    "    \n",
    "    database = [\"Bailarina\", \"Futebol\", \"Estátua\", \"Pintor\", \"Frio\", \"Bebê\", \"Mímico\",\"Escova\", \"Lápis\", \"Livro\", \"Astronauta\", \n",
    "                \"Amor\", \"Ódio\", \"Cego\", \"Cadeira\",\"Sacola\", \"Professor\",\"Médico\", \"Calculadora\", \"Artista\", \"Vitória\", \"Pescador\",\n",
    "                \"Internet\", \"Basquete\", \"Semente\", \"Policial\", \"Amargo\", \"Bilhete\", \"Xadrez\", \"Banana\", \"Micróbio\", \"Romance\",\n",
    "                \"Carteira\", \"Máquina\", \"Lavar\", \"Prancha\", \"Surfe\", \"Debate\", \"Lixo\", \"Sombra\", \"Cadeado\", \"Massagem\"]\n",
    "    \n",
    "    words = []\n",
    "    password = ''\n",
    "    \n",
    "    for word in database:\n",
    "        word = word.strip()\n",
    "        if len(word) >= min_size:\n",
    "            words.append(word)\n",
    "    \n",
    "    for i in range(length):\n",
    "        password += random.choice(words)\n",
    "        if i != length - 1:\n",
    "            password += separator\n",
    "            \n",
    "    return password\n",
    "\n",
    "print(generate_password(3, separator=' '))"
   ]
  },
  {
   "cell_type": "markdown",
   "metadata": {},
   "source": []
  },
  {
   "cell_type": "code",
   "execution_count": 35,
   "metadata": {},
   "outputs": [],
   "source": []
  },
  {
   "cell_type": "code",
   "execution_count": null,
   "metadata": {},
   "outputs": [],
   "source": []
  }
 ],
 "metadata": {
  "kernelspec": {
   "display_name": "Python 3 (ipykernel)",
   "language": "python",
   "name": "python3"
  },
  "language_info": {
   "codemirror_mode": {
    "name": "ipython",
    "version": 3
   },
   "file_extension": ".py",
   "mimetype": "text/x-python",
   "name": "python",
   "nbconvert_exporter": "python",
   "pygments_lexer": "ipython3",
   "version": "3.9.12"
  }
 },
 "nbformat": 4,
 "nbformat_minor": 4
}
