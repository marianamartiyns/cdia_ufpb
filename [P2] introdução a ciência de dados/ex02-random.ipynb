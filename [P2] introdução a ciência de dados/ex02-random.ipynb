{
 "cells": [
  {
   "cell_type": "markdown",
   "metadata": {},
   "source": [
    "# Introdução à Ciência de Dados - UFPB\n",
    "Professor: Yuri Malheiros\n",
    "\n",
    "## Python - Random - Exercício"
   ]
  },
  {
   "cell_type": "markdown",
   "metadata": {},
   "source": [
    "Uma forma segura de criar senhas é usar o conceito de passphrases, nele, ao invés de usar caracteres aleatórios, usa-se palavras aleatórias. Assim, você tem uma senha fácil de lembrar, porém longa, o que dificulta um ataque de força bruta.\n",
    "\n",
    "Implemente uma função `generate_password` que de deve gerar uma senha aleatória usando passphrases.\n",
    "\n",
    "A função tem os seguintes parâmetros:\n",
    "- `length` - especifica a quantidade de palavras na senha.\n",
    "- `separator` - especifica um caractere que separa as palavras. Por padrão, esse parâmetro tem o valor '-'.\n",
    "- `min_size` - especifica o tamanho mínimo das palavras utilizadas. Por padrão, esse parâmetro tem o valor 5."
   ]
  },
  {
   "cell_type": "code",
   "execution_count": 43,
   "metadata": {},
   "outputs": [
    {
     "name": "stdout",
     "output_type": "stream",
     "text": [
      "New password:\n",
      "senha;seguranca;seguranca;seguranca;\n"
     ]
    }
   ],
   "source": [
    "def generate_password(length, separator='-', min_size=5):\n",
    "    # ADICIONE O SEU CÓDIGO AQUI\n",
    "    \n",
    "    import random as rd\n",
    "    import string as st\n",
    "    \n",
    "    database = [\"seguranca\", \"senha\", \"aleatorio\", \"ventilador\", \"fome\", \"celular\", \"notebook\", \"aprovado\", \"python\", \"panda\"]\n",
    "\n",
    "    pword = ''\n",
    "    for min_size in range(length):\n",
    "        pword += rd.choice(database) + separator\n",
    "    print(\"New password:\")\n",
    "    \n",
    "    return pword\n",
    "        \n",
    "    #letters = st.ascii_letters\n",
    "    #result_str = ''.join(rd.choice(letters) for min_size in range(length))\n",
    "    #print(\"Random string of length\", length, \"is:\", result_str)\n",
    "\n",
    "print(generate_password(4, separator=';', min_size=3))"
   ]
  },
  {
   "cell_type": "code",
   "execution_count": 44,
   "metadata": {},
   "outputs": [
    {
     "name": "stdout",
     "output_type": "stream",
     "text": [
      "New password:\n",
      "seguranca-fome-senha-fome-\n",
      "New password:\n",
      "fome ventilador aprovado \n",
      "New password:\n",
      "fome_-_senha_-_senha_-_ventilador_-_python_-_\n",
      "New password:\n",
      "seguranca-python-senha-\n",
      "New password:\n",
      "aprovado;seguranca;python;aleatorio;\n"
     ]
    }
   ],
   "source": [
    "# Exemplos de teste (você pode escrever outros, mas utilize pelo menos esses daqui)\n",
    "\n",
    "print(generate_password(4))\n",
    "print(generate_password(3, separator=' '))\n",
    "print(generate_password(5, separator='_-_'))\n",
    "print(generate_password(3, min_size=10))\n",
    "print(generate_password(4, separator=';', min_size=3))"
   ]
  },
  {
   "cell_type": "markdown",
   "metadata": {},
   "source": []
  }
 ],
 "metadata": {
  "kernelspec": {
   "display_name": "Python 3 (ipykernel)",
   "language": "python",
   "name": "python3"
  },
  "language_info": {
   "codemirror_mode": {
    "name": "ipython",
    "version": 3
   },
   "file_extension": ".py",
   "mimetype": "text/x-python",
   "name": "python",
   "nbconvert_exporter": "python",
   "pygments_lexer": "ipython3",
   "version": "3.9.12"
  }
 },
 "nbformat": 4,
 "nbformat_minor": 4
}
