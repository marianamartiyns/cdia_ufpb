{
 "cells": [
  {
   "cell_type": "markdown",
   "metadata": {},
   "source": [
    "# Introdução à Ciência de Dados - UFPB\n",
    "Professor: Yuri Malheiros\n",
    "\n",
    "## Python - Listas - Exercício"
   ]
  },
  {
   "cell_type": "markdown",
   "metadata": {},
   "source": [
    "As funções abaixo possuem comentários de doctest que servem para testá-las. Por favor, não apague os comentários após a definição das funções.\n",
    "\n",
    "Você pode conferir se a sua implementação está correta executando a última célula desse notebook."
   ]
  },
  {
   "cell_type": "markdown",
   "metadata": {},
   "source": [
    "A função `clear` recebe uma lista e uma função como parâmetros. Ela deve retornar uma nova lista apenas com os elementos da lista que, ao aplicar a função passada como parâmetro, o retorno dessa função seja True."
   ]
  },
  {
   "cell_type": "code",
   "execution_count": 1,
   "metadata": {},
   "outputs": [
    {
     "data": {
      "text/plain": [
       "[2, 4, 6, 8]"
      ]
     },
     "execution_count": 1,
     "metadata": {},
     "output_type": "execute_result"
    }
   ],
   "source": [
    "\"\"\"\n",
    "def clear(a_list, test_func):\n",
    "    \n",
    "    Test:\n",
    "    >>> clear([1,2,3,4,5,6,7,8], lambda x: x % 2 == 0)\n",
    "    [2, 4, 6, 8]\n",
    "\n",
    "    >>> clear(['maria', 'joao', 'ana', 'lucas'], lambda x: len(x) == 5)\n",
    "    ['maria', 'lucas']\n",
    "\"\"\"\n",
    "    \n",
    "    # ADICIONAR CÓDIGO AQUI\n",
    "    \n",
    "def clear(a_list, test_func):\n",
    "    \n",
    "    result = []\n",
    "    for i in a_list:\n",
    "        \n",
    "        if test_func(i):\n",
    "            result.append(i)\n",
    " \n",
    "    return result\n",
    "\n",
    "clear([1,2,3,4,5,6,7,8], lambda x: x % 2 == 0)\n",
    "#clear(['maria', 'joao', 'ana', 'lucas'], lambda x: len(x) == 5)\n"
   ]
  },
  {
   "cell_type": "markdown",
   "metadata": {},
   "source": [
    "A função `pipeline` recebe uma lista e uma quantidade variável de funções. Uma nova lista deve ser criada aplicando cada função a cada elemento da lista. Essa nova lista deve ser retornada."
   ]
  },
  {
   "cell_type": "code",
   "execution_count": 5,
   "metadata": {},
   "outputs": [
    {
     "ename": "TypeError",
     "evalue": "'tuple' object is not callable",
     "output_type": "error",
     "traceback": [
      "\u001b[1;31m---------------------------------------------------------------------------\u001b[0m",
      "\u001b[1;31mTypeError\u001b[0m                                 Traceback (most recent call last)",
      "Input \u001b[1;32mIn [5]\u001b[0m, in \u001b[0;36m<cell line: 33>\u001b[1;34m()\u001b[0m\n\u001b[0;32m     29\u001b[0m     \u001b[38;5;28;01mreturn\u001b[39;00m result\n\u001b[0;32m     32\u001b[0m \u001b[38;5;66;03m#[1, 3, 5, 7, 9]\u001b[39;00m\n\u001b[1;32m---> 33\u001b[0m \u001b[43mpipeline\u001b[49m\u001b[43m(\u001b[49m\u001b[43m[\u001b[49m\u001b[38;5;241;43m1\u001b[39;49m\u001b[43m,\u001b[49m\u001b[38;5;241;43m2\u001b[39;49m\u001b[43m,\u001b[49m\u001b[38;5;241;43m3\u001b[39;49m\u001b[43m,\u001b[49m\u001b[38;5;241;43m4\u001b[39;49m\u001b[43m,\u001b[49m\u001b[38;5;241;43m5\u001b[39;49m\u001b[43m]\u001b[49m\u001b[43m,\u001b[49m\u001b[43m \u001b[49m\u001b[38;5;28;43;01mlambda\u001b[39;49;00m\u001b[43m \u001b[49m\u001b[43mx\u001b[49m\u001b[43m:\u001b[49m\u001b[43m \u001b[49m\u001b[43mx\u001b[49m\u001b[43m \u001b[49m\u001b[38;5;241;43m*\u001b[39;49m\u001b[43m \u001b[49m\u001b[38;5;241;43m2\u001b[39;49m\u001b[43m,\u001b[49m\u001b[43m \u001b[49m\u001b[38;5;28;43;01mlambda\u001b[39;49;00m\u001b[43m \u001b[49m\u001b[43mx\u001b[49m\u001b[43m:\u001b[49m\u001b[43m \u001b[49m\u001b[43mx\u001b[49m\u001b[38;5;241;43m-\u001b[39;49m\u001b[38;5;241;43m1\u001b[39;49m\u001b[43m)\u001b[49m\n",
      "Input \u001b[1;32mIn [5]\u001b[0m, in \u001b[0;36mpipeline\u001b[1;34m(a_list, *funcs)\u001b[0m\n\u001b[0;32m     25\u001b[0m \u001b[38;5;28;01mfor\u001b[39;00m item \u001b[38;5;129;01min\u001b[39;00m a_list:\n\u001b[0;32m     26\u001b[0m     \u001b[38;5;28;01mfor\u001b[39;00m i \u001b[38;5;129;01min\u001b[39;00m funcs:\n\u001b[1;32m---> 27\u001b[0m         item \u001b[38;5;241m=\u001b[39m \u001b[38;5;28mlist\u001b[39m(\u001b[43mfuncs\u001b[49m\u001b[43m(\u001b[49m\u001b[43mi\u001b[49m\u001b[43m)\u001b[49m)\n\u001b[0;32m     28\u001b[0m     result\u001b[38;5;241m.\u001b[39mappend(i)\n\u001b[0;32m     29\u001b[0m \u001b[38;5;28;01mreturn\u001b[39;00m result\n",
      "\u001b[1;31mTypeError\u001b[0m: 'tuple' object is not callable"
     ]
    }
   ],
   "source": [
    "\"\"\"\n",
    "def pipeline(a_list, *funcs):\n",
    "    \n",
    "    Test:\n",
    "    >>> pipeline([1,2,3,4,5], lambda x: x * 2)\n",
    "    [2, 4, 6, 8, 10]\n",
    "\n",
    "    >>> pipeline([1,2,3,4,5], lambda x: x * 2, lambda x: x-1)\n",
    "    [1, 3, 5, 7, 9]\n",
    "\"\"\"\n",
    "\n",
    "    # ADICIONAR CÓDIGO AQUI\n",
    "\n",
    "def pipeline(a_list, *funcs):\n",
    "\n",
    "    for i in funcs:\n",
    "        for n in a_list:\n",
    "            a_list.append(n)\n",
    "        \n",
    "    return a_list\n",
    "\n",
    "def pipeline(a_list, *funcs):\n",
    "    \n",
    "    result = []\n",
    "    for item in a_list:\n",
    "        for i in funcs:\n",
    "            item = list(funcs(i))\n",
    "        result.append(i)\n",
    "    return result\n",
    "\n",
    "\n",
    "#[1, 3, 5, 7, 9]\n",
    "pipeline([1,2,3,4,5], lambda x: x * 2, lambda x: x-1)"
   ]
  },
  {
   "cell_type": "code",
   "execution_count": 8,
   "metadata": {},
   "outputs": [
    {
     "name": "stdout",
     "output_type": "stream",
     "text": [
      "Trying:\n",
      "    pipeline([1,2,3,4,5], lambda x: x * 2)\n",
      "Expecting:\n",
      "    [2, 4, 6, 8, 10]\n",
      "**********************************************************************\n",
      "File \"__main__\", line 6, in __main__\n",
      "Failed example:\n",
      "    pipeline([1,2,3,4,5], lambda x: x * 2)\n",
      "Exception raised:\n",
      "    Traceback (most recent call last):\n",
      "      File \"C:\\Users\\maria\\anaconda3\\lib\\doctest.py\", line 1334, in __run\n",
      "        exec(compile(example.source, filename, \"single\",\n",
      "      File \"<doctest __main__[0]>\", line 1, in <module>\n",
      "        pipeline([1,2,3,4,5], lambda x: x * 2)\n",
      "      File \"C:\\Users\\maria\\AppData\\Local\\Temp\\ipykernel_12064\\2940577098.py\", line 51, in pipeline\n",
      "        return result\n",
      "    NameError: name 'result' is not defined\n",
      "Trying:\n",
      "    pipeline([1,2,3,4,5], lambda x: x * 2, lambda x: x-1)\n",
      "Expecting:\n",
      "    [1, 3, 5, 7, 9]\n",
      "**********************************************************************\n",
      "File \"__main__\", line 9, in __main__\n",
      "Failed example:\n",
      "    pipeline([1,2,3,4,5], lambda x: x * 2, lambda x: x-1)\n",
      "Exception raised:\n",
      "    Traceback (most recent call last):\n",
      "      File \"C:\\Users\\maria\\anaconda3\\lib\\doctest.py\", line 1334, in __run\n",
      "        exec(compile(example.source, filename, \"single\",\n",
      "      File \"<doctest __main__[1]>\", line 1, in <module>\n",
      "        pipeline([1,2,3,4,5], lambda x: x * 2, lambda x: x-1)\n",
      "      File \"C:\\Users\\maria\\AppData\\Local\\Temp\\ipykernel_12064\\2940577098.py\", line 51, in pipeline\n",
      "        return result\n",
      "    NameError: name 'result' is not defined\n",
      "4 items had no tests:\n",
      "    __main__.double\n",
      "    __main__.hundred\n",
      "    __main__.one_less\n",
      "    __main__.pipeline\n",
      "**********************************************************************\n",
      "1 items had failures:\n",
      "   2 of   2 in __main__\n",
      "2 tests in 5 items.\n",
      "0 passed and 2 failed.\n",
      "***Test Failed*** 2 failures.\n"
     ]
    },
    {
     "data": {
      "text/plain": [
       "TestResults(failed=2, attempted=2)"
      ]
     },
     "execution_count": 8,
     "metadata": {},
     "output_type": "execute_result"
    }
   ],
   "source": [
    "import doctest\n",
    "\n",
    "doctest.testmod(verbose=True)"
   ]
  },
  {
   "cell_type": "code",
   "execution_count": null,
   "metadata": {},
   "outputs": [],
   "source": []
  }
 ],
 "metadata": {
  "kernelspec": {
   "display_name": "Python 3 (ipykernel)",
   "language": "python",
   "name": "python3"
  },
  "language_info": {
   "codemirror_mode": {
    "name": "ipython",
    "version": 3
   },
   "file_extension": ".py",
   "mimetype": "text/x-python",
   "name": "python",
   "nbconvert_exporter": "python",
   "pygments_lexer": "ipython3",
   "version": "3.9.12"
  },
  "vscode": {
   "interpreter": {
    "hash": "920717a7cc80731a9b73e79f915c61e3bfaff3c2aee97a8455928bf5b256b3eb"
   }
  }
 },
 "nbformat": 4,
 "nbformat_minor": 4
}
