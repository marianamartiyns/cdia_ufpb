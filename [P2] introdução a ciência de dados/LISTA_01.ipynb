{
 "cells": [
  {
   "cell_type": "markdown",
   "metadata": {},
   "source": [
    "# Introdução à Ciência de Dados - UFPB\n",
    "Professor: Yuri Malheiros\n",
    "\n",
    "## Python - Listas - Exercício"
   ]
  },
  {
   "cell_type": "markdown",
   "metadata": {},
   "source": [
    "As funções abaixo possuem comentários de doctest que servem para testá-las. Por favor, não apague os comentários após a definição das funções.\n",
    "\n",
    "Você pode conferir se a sua implementação está correta executando a última célula desse notebook."
   ]
  },
  {
   "cell_type": "markdown",
   "metadata": {},
   "source": [
    "A função `clear` recebe uma lista e uma função como parâmetros. Ela deve retornar uma nova lista apenas com os elementos da lista que, ao aplicar a função passada como parâmetro, o retorno dessa função seja True."
   ]
  },
  {
   "cell_type": "code",
   "execution_count": 1,
   "metadata": {},
   "outputs": [
    {
     "data": {
      "text/plain": [
       "[2, 4, 6, 8]"
      ]
     },
     "execution_count": 1,
     "metadata": {},
     "output_type": "execute_result"
    }
   ],
   "source": [
    "\"\"\"\n",
    "def clear(a_list, test_func):\n",
    "    \n",
    "    Test:\n",
    "    >>> clear([1,2,3,4,5,6,7,8], lambda x: x % 2 == 0)\n",
    "    [2, 4, 6, 8]\n",
    "\n",
    "    >>> clear(['maria', 'joao', 'ana', 'lucas'], lambda x: len(x) == 5)\n",
    "    ['maria', 'lucas']\n",
    "\"\"\"\n",
    "    \n",
    "    # ADICIONAR CÓDIGO AQUI\n",
    "    \n",
    "def clear(a_list, test_func):\n",
    "    \n",
    "    result = []\n",
    "    for i in a_list:\n",
    "        \n",
    "        if test_func(i):\n",
    "            result.append(i)\n",
    " \n",
    "    return result\n",
    "\n",
    "clear([1,2,3,4,5,6,7,8], lambda x: x % 2 == 0)\n",
    "#clear(['maria', 'joao', 'ana', 'lucas'], lambda x: len(x) == 5)\n"
   ]
  },
  {
   "cell_type": "markdown",
   "metadata": {},
   "source": [
    "A função `pipeline` recebe uma lista e uma quantidade variável de funções. Uma nova lista deve ser criada aplicando cada função a cada elemento da lista. Essa nova lista deve ser retornada."
   ]
  },
  {
   "cell_type": "code",
   "execution_count": 27,
   "metadata": {},
   "outputs": [
    {
     "ename": "IndentationError",
     "evalue": "unindent does not match any outer indentation level (<tokenize>, line 22)",
     "output_type": "error",
     "traceback": [
      "\u001b[1;36m  File \u001b[1;32m<tokenize>:22\u001b[1;36m\u001b[0m\n\u001b[1;33m    result.append(i)\u001b[0m\n\u001b[1;37m    ^\u001b[0m\n\u001b[1;31mIndentationError\u001b[0m\u001b[1;31m:\u001b[0m unindent does not match any outer indentation level\n"
     ]
    }
   ],
   "source": [
    "\"\"\"\n",
    "def pipeline(a_list, *funcs):\n",
    "    \n",
    "    Test:\n",
    "    >>> pipeline([1,2,3,4,5], lambda x: x * 2)\n",
    "    [2, 4, 6, 8, 10]\n",
    "\n",
    "    >>> pipeline([1,2,3,4,5], lambda x: x * 2, lambda x: x-1)\n",
    "    [1, 3, 5, 7, 9]\n",
    "\"\"\"\n",
    "\n",
    "    # ADICIONAR CÓDIGO AQUI\n",
    "\n",
    "def pipeline(a_list, *funcs):\n",
    "    \n",
    "    result = []\n",
    "    \n",
    "    for i in a_list:\n",
    "        \n",
    "        for j in funcs:\n",
    "            \n",
    "                tem = j(i)\n",
    "                \n",
    "        result.append(i\n",
    "            \n",
    "    return result\n",
    "\n",
    "\n",
    "#[2, 4, 6, 8, 10]\n",
    "pipeline([1,2,3,4,5], lambda x: x * 2)"
   ]
  },
  {
   "cell_type": "code",
   "execution_count": 8,
   "metadata": {},
   "outputs": [
    {
     "name": "stdout",
     "output_type": "stream",
     "text": [
      "Trying:\n",
      "    pipeline([1,2,3,4,5], lambda x: x * 2)\n",
      "Expecting:\n",
      "    [2, 4, 6, 8, 10]\n",
      "**********************************************************************\n",
      "File \"__main__\", line 6, in __main__\n",
      "Failed example:\n",
      "    pipeline([1,2,3,4,5], lambda x: x * 2)\n",
      "Exception raised:\n",
      "    Traceback (most recent call last):\n",
      "      File \"C:\\Users\\maria\\anaconda3\\lib\\doctest.py\", line 1334, in __run\n",
      "        exec(compile(example.source, filename, \"single\",\n",
      "      File \"<doctest __main__[0]>\", line 1, in <module>\n",
      "        pipeline([1,2,3,4,5], lambda x: x * 2)\n",
      "      File \"C:\\Users\\maria\\AppData\\Local\\Temp\\ipykernel_12064\\2940577098.py\", line 51, in pipeline\n",
      "        return result\n",
      "    NameError: name 'result' is not defined\n",
      "Trying:\n",
      "    pipeline([1,2,3,4,5], lambda x: x * 2, lambda x: x-1)\n",
      "Expecting:\n",
      "    [1, 3, 5, 7, 9]\n",
      "**********************************************************************\n",
      "File \"__main__\", line 9, in __main__\n",
      "Failed example:\n",
      "    pipeline([1,2,3,4,5], lambda x: x * 2, lambda x: x-1)\n",
      "Exception raised:\n",
      "    Traceback (most recent call last):\n",
      "      File \"C:\\Users\\maria\\anaconda3\\lib\\doctest.py\", line 1334, in __run\n",
      "        exec(compile(example.source, filename, \"single\",\n",
      "      File \"<doctest __main__[1]>\", line 1, in <module>\n",
      "        pipeline([1,2,3,4,5], lambda x: x * 2, lambda x: x-1)\n",
      "      File \"C:\\Users\\maria\\AppData\\Local\\Temp\\ipykernel_12064\\2940577098.py\", line 51, in pipeline\n",
      "        return result\n",
      "    NameError: name 'result' is not defined\n",
      "4 items had no tests:\n",
      "    __main__.double\n",
      "    __main__.hundred\n",
      "    __main__.one_less\n",
      "    __main__.pipeline\n",
      "**********************************************************************\n",
      "1 items had failures:\n",
      "   2 of   2 in __main__\n",
      "2 tests in 5 items.\n",
      "0 passed and 2 failed.\n",
      "***Test Failed*** 2 failures.\n"
     ]
    },
    {
     "data": {
      "text/plain": [
       "TestResults(failed=2, attempted=2)"
      ]
     },
     "execution_count": 8,
     "metadata": {},
     "output_type": "execute_result"
    }
   ],
   "source": [
    "import doctest\n",
    "\n",
    "doctest.testmod(verbose=True)"
   ]
  },
  {
   "cell_type": "code",
   "execution_count": null,
   "metadata": {},
   "outputs": [],
   "source": []
  }
 ],
 "metadata": {
  "kernelspec": {
   "display_name": "Python 3 (ipykernel)",
   "language": "python",
   "name": "python3"
  },
  "language_info": {
   "codemirror_mode": {
    "name": "ipython",
    "version": 3
   },
   "file_extension": ".py",
   "mimetype": "text/x-python",
   "name": "python",
   "nbconvert_exporter": "python",
   "pygments_lexer": "ipython3",
   "version": "3.9.12"
  },
  "vscode": {
   "interpreter": {
    "hash": "920717a7cc80731a9b73e79f915c61e3bfaff3c2aee97a8455928bf5b256b3eb"
   }
  }
 },
 "nbformat": 4,
 "nbformat_minor": 4
}
