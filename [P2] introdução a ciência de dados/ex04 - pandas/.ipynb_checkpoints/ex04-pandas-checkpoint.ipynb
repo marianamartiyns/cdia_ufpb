{
 "cells": [
  {
   "cell_type": "markdown",
   "metadata": {},
   "source": [
    "# Introdução à Ciência de Dados - UFPB\n",
    "Professor: Yuri Malheiros\n",
    "\n",
    "## Pandas"
   ]
  },
  {
   "cell_type": "markdown",
   "metadata": {},
   "source": [
    "A partir do dataset `movies.csv` utilize o Pandas para responder as perguntas:"
   ]
  },
  {
   "cell_type": "markdown",
   "metadata": {},
   "source": [
    "### Qual o gênero de filme com maior nota do IMDB? E o menor?"
   ]
  },
  {
   "cell_type": "code",
   "execution_count": 11,
   "metadata": {},
   "outputs": [
    {
     "name": "stdout",
     "output_type": "stream",
     "text": [
      "O gênero de filme com maior nota do IMDB é o 'Documentary' com média, 6.99. Já o menor é o 'Horror' com média 5.67.\n"
     ]
    },
    {
     "data": {
      "text/html": [
       "<div>\n",
       "<style scoped>\n",
       "    .dataframe tbody tr th:only-of-type {\n",
       "        vertical-align: middle;\n",
       "    }\n",
       "\n",
       "    .dataframe tbody tr th {\n",
       "        vertical-align: top;\n",
       "    }\n",
       "\n",
       "    .dataframe thead th {\n",
       "        text-align: right;\n",
       "    }\n",
       "</style>\n",
       "<table border=\"1\" class=\"dataframe\">\n",
       "  <thead>\n",
       "    <tr style=\"text-align: right;\">\n",
       "      <th></th>\n",
       "      <th>IMDB Rating</th>\n",
       "    </tr>\n",
       "    <tr>\n",
       "      <th>Major Genre</th>\n",
       "      <th></th>\n",
       "    </tr>\n",
       "  </thead>\n",
       "  <tbody>\n",
       "    <tr>\n",
       "      <th>Documentary</th>\n",
       "      <td>6.997297</td>\n",
       "    </tr>\n",
       "    <tr>\n",
       "      <th>Western</th>\n",
       "      <td>6.842857</td>\n",
       "    </tr>\n",
       "    <tr>\n",
       "      <th>Black Comedy</th>\n",
       "      <td>6.818750</td>\n",
       "    </tr>\n",
       "    <tr>\n",
       "      <th>Drama</th>\n",
       "      <td>6.773442</td>\n",
       "    </tr>\n",
       "    <tr>\n",
       "      <th>Musical</th>\n",
       "      <td>6.448000</td>\n",
       "    </tr>\n",
       "    <tr>\n",
       "      <th>Thriller/Suspense</th>\n",
       "      <td>6.360944</td>\n",
       "    </tr>\n",
       "    <tr>\n",
       "      <th>Adventure</th>\n",
       "      <td>6.345020</td>\n",
       "    </tr>\n",
       "    <tr>\n",
       "      <th>Concert/Performance</th>\n",
       "      <td>6.325000</td>\n",
       "    </tr>\n",
       "    <tr>\n",
       "      <th>Action</th>\n",
       "      <td>6.114796</td>\n",
       "    </tr>\n",
       "    <tr>\n",
       "      <th>Romantic Comedy</th>\n",
       "      <td>5.873077</td>\n",
       "    </tr>\n",
       "    <tr>\n",
       "      <th>Comedy</th>\n",
       "      <td>5.853858</td>\n",
       "    </tr>\n",
       "    <tr>\n",
       "      <th>Horror</th>\n",
       "      <td>5.676077</td>\n",
       "    </tr>\n",
       "  </tbody>\n",
       "</table>\n",
       "</div>"
      ],
      "text/plain": [
       "                     IMDB Rating\n",
       "Major Genre                     \n",
       "Documentary             6.997297\n",
       "Western                 6.842857\n",
       "Black Comedy            6.818750\n",
       "Drama                   6.773442\n",
       "Musical                 6.448000\n",
       "Thriller/Suspense       6.360944\n",
       "Adventure               6.345020\n",
       "Concert/Performance     6.325000\n",
       "Action                  6.114796\n",
       "Romantic Comedy         5.873077\n",
       "Comedy                  5.853858\n",
       "Horror                  5.676077"
      ]
     },
     "execution_count": 11,
     "metadata": {},
     "output_type": "execute_result"
    }
   ],
   "source": [
    "# ADICIONE O SEU CÓDIGO AQUI\n",
    "import pandas as pd\n",
    "df = pd.read_csv('movies.csv')\n",
    "\n",
    "rating_df = df.sort_values(by='IMDB Rating')[['Title', 'Major Genre', 'IMDB Rating']]\n",
    "datasorted = rating_df.groupby('Major Genre').mean().sort_values('IMDB Rating', ascending=False)\n",
    " \n",
    "print(\"O gênero de filme com maior nota do IMDB é o 'Documentary' com média, 6.99. Já o menor é o 'Horror' com média 5.67.\")\n",
    "datasorted"
   ]
  },
  {
   "cell_type": "markdown",
   "metadata": {},
   "source": [
    "### Qual o diretor dirigiu mais filmes de drama? E de comédia?"
   ]
  },
  {
   "cell_type": "code",
   "execution_count": 12,
   "metadata": {
    "scrolled": true
   },
   "outputs": [
    {
     "name": "stdout",
     "output_type": "stream",
     "text": [
      "\n",
      "O diretor que dirigiu mais filmes de drama foi Martin Scorsese, com 11 filmes.\n",
      "O diretor que dirigiu mais filmes de comédia foi Woody Allen, com 14 filmes.\n"
     ]
    }
   ],
   "source": [
    "# ADICIONE O SEU CÓDIGO AQUI\n",
    "df2 = df[['Director', 'Major Genre']].dropna()\n",
    "\n",
    "# Filmes de drama\n",
    "drama_movies = df2[df2['Major Genre'].str.contains('Drama')]\n",
    "drama_director = drama_movies['Director'].value_counts()\n",
    "top_drama_director = drama_director.index[0]\n",
    "\n",
    "# Filmes de comédia\n",
    "comedy_movies = df2[df2['Major Genre'].str.contains('Comedy')]\n",
    "comedy_director = comedy_movies['Director'].value_counts()\n",
    "top_comedy_director = comedy_director.index[0]\n",
    "\n",
    "print(f'\\nO diretor que dirigiu mais filmes de drama foi {top_drama_director}, com {drama_director[0]} filmes.')\n",
    "print(f'O diretor que dirigiu mais filmes de comédia foi {top_comedy_director}, com {comedy_director[0]} filmes.')"
   ]
  },
  {
   "cell_type": "markdown",
   "metadata": {},
   "source": [
    "### Quais filmes tiverem os maiores arrecadações (Gross) em relação ao orçamento de produção (Budget)?"
   ]
  },
  {
   "cell_type": "code",
   "execution_count": 170,
   "metadata": {},
   "outputs": [
    {
     "data": {
      "text/html": [
       "<div>\n",
       "<style scoped>\n",
       "    .dataframe tbody tr th:only-of-type {\n",
       "        vertical-align: middle;\n",
       "    }\n",
       "\n",
       "    .dataframe tbody tr th {\n",
       "        vertical-align: top;\n",
       "    }\n",
       "\n",
       "    .dataframe thead th {\n",
       "        text-align: right;\n",
       "    }\n",
       "</style>\n",
       "<table border=\"1\" class=\"dataframe\">\n",
       "  <thead>\n",
       "    <tr style=\"text-align: right;\">\n",
       "      <th></th>\n",
       "      <th>Title</th>\n",
       "      <th>Worldwide Gross</th>\n",
       "      <th>Production Budget</th>\n",
       "      <th>Total Raised</th>\n",
       "    </tr>\n",
       "  </thead>\n",
       "  <tbody>\n",
       "    <tr>\n",
       "      <th>1234</th>\n",
       "      <td>Avatar</td>\n",
       "      <td>2.767891e+09</td>\n",
       "      <td>237000000.0</td>\n",
       "      <td>2.530891e+09</td>\n",
       "    </tr>\n",
       "    <tr>\n",
       "      <th>2970</th>\n",
       "      <td>Titanic</td>\n",
       "      <td>1.842880e+09</td>\n",
       "      <td>200000000.0</td>\n",
       "      <td>1.642880e+09</td>\n",
       "    </tr>\n",
       "    <tr>\n",
       "      <th>2202</th>\n",
       "      <td>The Lord of the Rings: The Return of the King</td>\n",
       "      <td>1.133027e+09</td>\n",
       "      <td>94000000.0</td>\n",
       "      <td>1.039027e+09</td>\n",
       "    </tr>\n",
       "    <tr>\n",
       "      <th>485</th>\n",
       "      <td>Jurassic Park</td>\n",
       "      <td>9.230679e+08</td>\n",
       "      <td>63000000.0</td>\n",
       "      <td>8.600679e+08</td>\n",
       "    </tr>\n",
       "    <tr>\n",
       "      <th>1975</th>\n",
       "      <td>Harry Potter and the Sorcerer's Stone</td>\n",
       "      <td>9.764579e+08</td>\n",
       "      <td>125000000.0</td>\n",
       "      <td>8.514579e+08</td>\n",
       "    </tr>\n",
       "    <tr>\n",
       "      <th>2741</th>\n",
       "      <td>Shrek 2</td>\n",
       "      <td>9.198388e+08</td>\n",
       "      <td>70000000.0</td>\n",
       "      <td>8.498388e+08</td>\n",
       "    </tr>\n",
       "    <tr>\n",
       "      <th>2987</th>\n",
       "      <td>Toy Story 3</td>\n",
       "      <td>1.046341e+09</td>\n",
       "      <td>200000000.0</td>\n",
       "      <td>8.463407e+08</td>\n",
       "    </tr>\n",
       "    <tr>\n",
       "      <th>2507</th>\n",
       "      <td>Pirates of the Caribbean: Dead Man's Chest</td>\n",
       "      <td>1.065660e+09</td>\n",
       "      <td>225000000.0</td>\n",
       "      <td>8.406598e+08</td>\n",
       "    </tr>\n",
       "    <tr>\n",
       "      <th>1266</th>\n",
       "      <td>The Dark Knight</td>\n",
       "      <td>1.022345e+09</td>\n",
       "      <td>185000000.0</td>\n",
       "      <td>8.373454e+08</td>\n",
       "    </tr>\n",
       "    <tr>\n",
       "      <th>2201</th>\n",
       "      <td>The Lord of the Rings: The Two Towers</td>\n",
       "      <td>9.262844e+08</td>\n",
       "      <td>94000000.0</td>\n",
       "      <td>8.322844e+08</td>\n",
       "    </tr>\n",
       "  </tbody>\n",
       "</table>\n",
       "</div>"
      ],
      "text/plain": [
       "                                              Title  Worldwide Gross  \\\n",
       "1234                                         Avatar     2.767891e+09   \n",
       "2970                                        Titanic     1.842880e+09   \n",
       "2202  The Lord of the Rings: The Return of the King     1.133027e+09   \n",
       "485                                   Jurassic Park     9.230679e+08   \n",
       "1975          Harry Potter and the Sorcerer's Stone     9.764579e+08   \n",
       "2741                                        Shrek 2     9.198388e+08   \n",
       "2987                                    Toy Story 3     1.046341e+09   \n",
       "2507     Pirates of the Caribbean: Dead Man's Chest     1.065660e+09   \n",
       "1266                                The Dark Knight     1.022345e+09   \n",
       "2201          The Lord of the Rings: The Two Towers     9.262844e+08   \n",
       "\n",
       "      Production Budget  Total Raised  \n",
       "1234        237000000.0  2.530891e+09  \n",
       "2970        200000000.0  1.642880e+09  \n",
       "2202         94000000.0  1.039027e+09  \n",
       "485          63000000.0  8.600679e+08  \n",
       "1975        125000000.0  8.514579e+08  \n",
       "2741         70000000.0  8.498388e+08  \n",
       "2987        200000000.0  8.463407e+08  \n",
       "2507        225000000.0  8.406598e+08  \n",
       "1266        185000000.0  8.373454e+08  \n",
       "2201         94000000.0  8.322844e+08  "
      ]
     },
     "execution_count": 170,
     "metadata": {},
     "output_type": "execute_result"
    }
   ],
   "source": [
    "# ADICIONE O SEU CÓDIGO AQUI\n",
    "\n",
    "raised = df[['Title', 'Worldwide Gross', 'Production Budget']].dropna()\n",
    "raised['Total Raised'] = df['Worldwide Gross'] - df['Production Budget']\n",
    "\n",
    "# Top 10 filmes que mais arrecadaram em relação ao seu orçamento:\n",
    "raised.sort_values(('Total Raised'), ascending = False)[0:10]"
   ]
  }
 ],
 "metadata": {
  "kernelspec": {
   "display_name": "Python 3 (ipykernel)",
   "language": "python",
   "name": "python3"
  },
  "language_info": {
   "codemirror_mode": {
    "name": "ipython",
    "version": 3
   },
   "file_extension": ".py",
   "mimetype": "text/x-python",
   "name": "python",
   "nbconvert_exporter": "python",
   "pygments_lexer": "ipython3",
   "version": "3.9.12"
  }
 },
 "nbformat": 4,
 "nbformat_minor": 4
}
