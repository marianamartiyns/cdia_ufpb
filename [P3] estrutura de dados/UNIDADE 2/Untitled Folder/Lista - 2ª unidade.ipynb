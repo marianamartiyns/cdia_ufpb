{
 "cells": [
  {
   "cell_type": "markdown",
   "id": "8f8b604f",
   "metadata": {},
   "source": [
    "## Lista de Exércicio - UNIDADE 2"
   ]
  },
  {
   "cell_type": "code",
   "execution_count": 2,
   "id": "f3ee1365",
   "metadata": {},
   "outputs": [
    {
     "name": "stdout",
     "output_type": "stream",
     "text": [
      "5 -> [3, 13]\n",
      "  3 -> []\n",
      "  13 -> [11, 19]\n",
      "    11 -> [7]\n",
      "      7 -> []\n",
      "    19 -> [17, 23]\n",
      "      17 -> []\n",
      "      23 -> []\n"
     ]
    }
   ],
   "source": [
    "# ESTRUTURA ÁRVORE PARA QUESTÕES 1 E 2\n",
    "\n",
    "class TreeNode:\n",
    "    \n",
    "    def __init__(self, value):\n",
    "        self.value = value\n",
    "        self.children = []\n",
    "\n",
    "    def add_child(self, child_node):\n",
    "        self.children.append(child_node)\n",
    "\n",
    "    def __str__(self):\n",
    "        children_values = [str(child.value) for child in self.children]\n",
    "        children_str = \", \".join(children_values)\n",
    "        return f\"{self.value} -> [{children_str}]\"\n",
    "\n",
    "\n",
    "# Criar os nós da árvore\n",
    "root = TreeNode(5)\n",
    "node3 = TreeNode(3)\n",
    "node13 = TreeNode(13)\n",
    "node11 = TreeNode(11)\n",
    "node19 = TreeNode(19)\n",
    "node7 = TreeNode(7)\n",
    "node17 = TreeNode(17)\n",
    "node23 = TreeNode(23)\n",
    "\n",
    "# Construir a estrutura da árvore\n",
    "root.add_child(node3)\n",
    "root.add_child(node13)\n",
    "node13.add_child(node11)\n",
    "node13.add_child(node19)\n",
    "node11.add_child(node7)\n",
    "node19.add_child(node17)\n",
    "node19.add_child(node23)\n",
    "\n",
    "# Função para imprimir a árvore\n",
    "def print_tree(node, level=0):\n",
    "    if node:\n",
    "        print(\"  \" * level + str(node))\n",
    "        for child in node.children:\n",
    "            print_tree(child, level + 1)\n",
    "\n",
    "# Imprimir a árvore\n",
    "print_tree(root)"
   ]
  },
  {
   "cell_type": "code",
   "execution_count": 8,
   "id": "e7db3237",
   "metadata": {},
   "outputs": [
    {
     "name": "stdout",
     "output_type": "stream",
     "text": [
      "5 -> [3, 17]\n",
      "  3 -> []\n",
      "  17 -> [11, 23]\n",
      "    11 -> [7]\n",
      "      7 -> []\n",
      "    23 -> []\n"
     ]
    }
   ],
   "source": [
    "# 1.a) Remova os valores 13 e 19\n",
    "\n",
    "def remove_child(self, child_node):\n",
    "    self.children.remove(child_node)\n",
    "\n",
    "def __str__(self):\n",
    "    children_values = [str(child.value) for child in self.children]\n",
    "    children_str = \", \".join(children_values)\n",
    "    return f\"{self.value} -> [{children_str}]\"\n",
    "\n",
    "\n",
    "def remove_values(node, value_to_remove):\n",
    "    if not node:\n",
    "        return\n",
    "\n",
    "    # Verifique se o valor atual do nó é igual ao valor que deseja remover\n",
    "    if node.value == value_to_remove:\n",
    "        return None  # Retorna None para indicar que esse nó deve ser removido\n",
    "\n",
    "    # Percorre os filhos recursivamente\n",
    "    node.children = [remove_values(child, value_to_remove) for child in node.children]\n",
    "    # Remove os nós que se tornaram None após a remoção\n",
    "    node.children = [child for child in node.children if child is not None]\n",
    "\n",
    "    return node\n",
    "\n",
    "# Remover os valores 13 e 19 da árvore\n",
    "root = remove_values(root, 13)\n",
    "root = remove_values(root, 19)\n",
    "\n",
    "# Imprimir a árvore após a remoção\n",
    "print_tree(root)"
   ]
  },
  {
   "cell_type": "code",
   "execution_count": 9,
   "id": "8807c436",
   "metadata": {},
   "outputs": [
    {
     "name": "stdout",
     "output_type": "stream",
     "text": [
      "5 -> [3, 1]\n",
      "  3 -> []\n",
      "  1 -> [6]\n",
      "    6 -> []\n"
     ]
    }
   ],
   "source": [
    "# 1.b) Adicione os valores 1 e 6\n",
    "'''\n",
    "def add_child(self, child_node):\n",
    "        self.children.append(child_node) ''' \n",
    "\n",
    "node1 = TreeNode(1)\n",
    "node6 = TreeNode(6)\n",
    "\n",
    "root.add_child(node1)\n",
    "node1.add_child(node6)\n",
    "\n",
    "print_tree(root)"
   ]
  },
  {
   "cell_type": "code",
   "execution_count": 10,
   "id": "2a406ed2",
   "metadata": {},
   "outputs": [
    {
     "name": "stdout",
     "output_type": "stream",
     "text": [
      "Altura da árvore: 3\n"
     ]
    }
   ],
   "source": [
    "# 1. c) Qual a altura da árvore resultante\n",
    "\n",
    "def tree_height(node):\n",
    "    if not node:\n",
    "        return 0\n",
    "    if not node.children:\n",
    "        return 1\n",
    "    \n",
    "    # Calcula a altura de cada subárvore e retorna a maior altura\n",
    "    sub_tree_heights = [tree_height(child) for child in node.children]\n",
    "    return 1 + max(sub_tree_heights)\n",
    "\n",
    "# Calcular a altura da árvore\n",
    "height = tree_height(root)\n",
    "print(\"Altura da árvore:\", height)\n"
   ]
  },
  {
   "cell_type": "code",
   "execution_count": 17,
   "id": "62fac0ce",
   "metadata": {},
   "outputs": [
    {
     "name": "stdout",
     "output_type": "stream",
     "text": [
      "Pré-ordem:\n",
      "5 3 1 6 \n",
      "\n",
      "In-ordem:\n",
      "3 5 1 \n",
      "\n",
      "Pós-ordem:\n",
      "3 6 1 5 "
     ]
    }
   ],
   "source": [
    "# 2. a) Imprima os valores dos nós da árvore nos caminhamentos: pré-ordem, in-ordem e pós-ordem.\n",
    "\n",
    "def preorder_traversal(node):\n",
    "    if node:\n",
    "        print(node.value, end=' ')\n",
    "        for child in node.children:\n",
    "            preorder_traversal(child)\n",
    "\n",
    "def inorder_traversal(node):\n",
    "    if node:\n",
    "        if len(node.children) > 1:\n",
    "            inorder_traversal(node.children[0])\n",
    "        print(node.value, end=' ')\n",
    "        if len(node.children) == 2:\n",
    "            inorder_traversal(node.children[1])\n",
    "\n",
    "def postorder_traversal(node):\n",
    "    if node:\n",
    "        for child in node.children:\n",
    "            postorder_traversal(child)\n",
    "        print(node.value, end=' ')\n",
    "\n",
    "# Pré-ordem: Raiz -> Filhos\n",
    "print(\"Pré-ordem:\")\n",
    "preorder_traversal(root)\n",
    "\n",
    "# In-ordem: Filho Esquerdo -> Raiz -> Filho Direito\n",
    "print(\"\\n\\nIn-ordem:\")\n",
    "inorder_traversal(root)\n",
    "\n",
    "# Pós-ordem: Filhos -> Raiz\n",
    "print(\"\\n\\nPós-ordem:\")\n",
    "postorder_traversal(root)"
   ]
  },
  {
   "cell_type": "markdown",
   "id": "83319661",
   "metadata": {},
   "source": [
    "2. b) \n",
    "\n",
    "Se seguirmos a Ordem B (invertendo a ordem de visita dos filhos), a impressão resultante dos nós será a seguinte:\n",
    "\n",
    "```\n",
    "5 13 19 23 17 11 3\n",
    "```\n",
    "\n",
    "Nesse percurso, primeiro visitamos o nó raiz (5), depois percorremos a subárvore direita (13), depois a subárvore direita da subárvore direita (19), seguido pela subárvore esquerda da subárvore direita (23). Continuamos essa sequência para os nós subsequentes na árvore."
   ]
  },
  {
   "cell_type": "code",
   "execution_count": 23,
   "id": "c4148fdc",
   "metadata": {},
   "outputs": [
    {
     "name": "stdout",
     "output_type": "stream",
     "text": [
      "1 -> 2, 5\n",
      "2 -> 4\n",
      "3 -> 4, 6\n",
      "4 -> 5\n",
      "5 -> 2\n",
      "6 -> 6\n"
     ]
    }
   ],
   "source": [
    "# 3.a) Construir a representação de um grafo com Lista de Adjacência\n",
    "\n",
    "# Definindo o grafo como um dicionário de lista de adjacência\n",
    "grafo = {\n",
    "    1: [2, 5],\n",
    "    2: [4],\n",
    "    3: [4, 6],\n",
    "    4: [5],\n",
    "    5: [2],\n",
    "    6: [6]\n",
    "}\n",
    "\n",
    "# Função para imprimir o grafo\n",
    "def imprimir_grafo(grafo):\n",
    "    for vertice, vizinhos in grafo.items():\n",
    "        vizinhos_str = ', '.join(map(str, vizinhos))\n",
    "        print(f\"{vertice} -> {vizinhos_str}\")\n",
    "\n",
    "imprimir_grafo(grafo)"
   ]
  },
  {
   "cell_type": "code",
   "execution_count": 21,
   "id": "ea28f175",
   "metadata": {},
   "outputs": [
    {
     "name": "stdout",
     "output_type": "stream",
     "text": [
      "0 1 0 0 1 0\n",
      "0 0 0 1 0 0\n",
      "0 0 0 1 0 1\n",
      "0 0 0 0 1 0\n",
      "0 1 0 0 0 0\n",
      "0 0 0 0 0 1\n"
     ]
    }
   ],
   "source": [
    "# 3.a) Construir a representação de um grafo com Matriz de Adjacência\n",
    "\n",
    "# Número de vértices no grafo\n",
    "num_vertices = 6\n",
    "\n",
    "# Inicializar uma matriz de adjacência com zeros\n",
    "matriz_adjacencia = [[0] * num_vertices for _ in range(num_vertices)]\n",
    "\n",
    "# Definir as arestas do grafo\n",
    "arestas = [(1, 2), (1, 5), (2, 4), (4, 5), (5, 2), (3, 4), (3, 6), (6, 6)]\n",
    "\n",
    "# Preencher a matriz de adjacência com as arestas\n",
    "for aresta in arestas:\n",
    "    origem, destino = aresta\n",
    "    matriz_adjacencia[origem - 1][destino - 1] = 1\n",
    "\n",
    "# Função para imprimir a matriz de adjacência\n",
    "def imprimir_matriz_adjacencia(matriz):\n",
    "    for linha in matriz:\n",
    "        print(' '.join(map(str, linha)))\n",
    "\n",
    "imprimir_matriz_adjacencia(matriz_adjacencia)"
   ]
  },
  {
   "cell_type": "markdown",
   "id": "8e4d53da",
   "metadata": {},
   "source": [
    "3. b) A sequência de vértices { 5, 2, 4} forma um ciclo? Explique sua resposta.\n",
    "\n",
    "A sequência de vértices {5, 2, 4} no exemplo anterior não é um ciclo. Um ciclo em um grafo é uma sequência de vértices que começa e termina no mesmo vértice, passando por outros vértices no meio, sem repetições (a menos que o ponto de início e fim seja o mesmo). No caso da sequência {5, 2, 4}, ela não forma um ciclo porque começa no vértice 5 e termina no vértice 4, em vez de retornar ao vértice de origem, que é o requisito para ser um ciclo.\n",
    "\n",
    "Um ciclo no grafo poderia ser, {5, 2, 4, 5}, onde a sequência começa e termina no vértice 5."
   ]
  },
  {
   "cell_type": "code",
   "execution_count": 29,
   "id": "23dbe7ff",
   "metadata": {},
   "outputs": [
    {
     "name": "stdout",
     "output_type": "stream",
     "text": [
      "Sequência de visita em BFS a partir do vértice 2 :\n",
      "2 4 5 "
     ]
    }
   ],
   "source": [
    "# 3.c) \n",
    "\n",
    "'''A BFS começa a partir de um vértice de origem e, em seguida, visita todos os \n",
    "vértices a uma distância fixa (ou seja, à profundidade 1) antes de explorar os vértices à profundidade 2, e assim por diante.'''\n",
    "\n",
    "def bfs(grafo, origem):\n",
    "    visitados = set()\n",
    "    fila = deque()\n",
    "\n",
    "    fila.append(origem)\n",
    "    visitados.add(origem)\n",
    "\n",
    "    while fila:\n",
    "        vertice = fila.popleft()\n",
    "        print(vertice, end=' ')\n",
    "\n",
    "        for vizinho in grafo[vertice]:\n",
    "            if vizinho not in visitados:\n",
    "                fila.append(vizinho)\n",
    "                visitados.add(vizinho)\n",
    "\n",
    "# Vértice de origem (source) é 2\n",
    "origem = 2\n",
    "\n",
    "print(\"Sequência de visita em BFS a partir do vértice\", origem, \":\")\n",
    "bfs(grafo, origem)"
   ]
  },
  {
   "cell_type": "code",
   "execution_count": 25,
   "id": "c0e8e65a",
   "metadata": {},
   "outputs": [
    {
     "name": "stdout",
     "output_type": "stream",
     "text": [
      "Sequência de visita em DFS:\n",
      "1 2 4 5 "
     ]
    }
   ],
   "source": [
    "# 3.c) \n",
    "\n",
    "def dfs(grafo, vertice, visitados):\n",
    "    if vertice not in visitados:\n",
    "        print(vertice, end=\" \")  # Imprime o vértice visitado\n",
    "        visitados.add(vertice)\n",
    "        for vizinho in grafo[vertice]:\n",
    "            dfs(grafo, vizinho, visitados)\n",
    "\n",
    "# Conjunto para acompanhar os vértices visitados\n",
    "visitados = set()\n",
    "\n",
    "# Comece a busca em profundidade a partir do vértice 1\n",
    "print(\"Sequência de visita em DFS:\")\n",
    "dfs(grafo, 1, visitados)"
   ]
  },
  {
   "cell_type": "markdown",
   "id": "ea0d8962",
   "metadata": {},
   "source": [
    "5)\n",
    "\n",
    "A pesquisa binária é mais eficiente que a pesquisa linear devido à sua abordagem de divisão e conquista. Aqui estão as principais razões para a eficiência da pesquisa binária em comparação com a pesquisa linear:\n",
    "\n",
    "1. **Complexidade temporal**: A pesquisa binária tem uma complexidade temporal de O(log n), onde \"n\" é o tamanho do vetor ou da lista. Isso significa que, à medida que o tamanho dos dados de entrada aumenta, o tempo de execução da pesquisa binária cresce de maneira muito mais lenta do que o tempo de execução da pesquisa linear, que é O(n). A pesquisa linear, por outro lado, verifica cada elemento um a um, o que é menos eficiente, especialmente em grandes conjuntos de dados.\n",
    "\n",
    "2. **Divisão do espaço de busca**: A pesquisa binária divide repetidamente o espaço de busca pela metade, o que reduz drasticamente o número de elementos a serem examinados. Cada comparação elimina metade dos elementos restantes, o que torna a pesquisa binária extremamente rápida, especialmente em listas ou vetores ordenados.\n",
    "\n",
    "3. **Requisito de ordenação**: Para que a pesquisa binária funcione, o vetor de entrada deve estar ordenado. A pesquisa binária explora a propriedade da ordenação para efetivamente dividir e descartar metade dos elementos a cada comparação. Isso é uma desvantagem em relação à pesquisa linear, que não requer ordenação, mas a eficiência da pesquisa binária compensa esse requisito.\n",
    "\n",
    "4. **Maior eficiência**: A pesquisa binária é especialmente eficaz em grandes conjuntos de dados, onde a pesquisa linear pode ser impraticável devido ao seu alto custo computacional. À medida que o tamanho do conjunto de dados aumenta, a pesquisa binária mantém um desempenho relativamente constante, enquanto a pesquisa linear torna-se mais lenta em proporção linear ao tamanho do conjunto de dados.\n",
    "\n",
    "Portanto, a pesquisa binária é a escolha preferida quando se deseja buscar eficientemente um elemento em uma coleção ordenada, especialmente em grandes conjuntos de dados, mas requer que os dados estejam ordenados para funcionar de maneira eficaz. Por outro lado, a pesquisa linear é mais adequada quando os dados não estão ordenados ou quando se procura um elemento em um pequeno conjunto de dados."
   ]
  },
  {
   "cell_type": "code",
   "execution_count": null,
   "id": "66a2a1be",
   "metadata": {},
   "outputs": [],
   "source": [
    "# 6) GRAFO DESCRITO NO ENUNCIADO\n",
    "\n",
    "def hash_function(chave):\n",
    "    return chave % 10  # Função de hash f(chave) = chave MOD 10\n",
    "\n",
    "def insert_with_collision_handling(tabela_hash, chave, aluno):\n",
    "    posicao = hash_function(chave)\n",
    "    \n",
    "    # Tratamento de colisão por incremento circular\n",
    "    while tabela_hash[posicao] is not None:\n",
    "        posicao = (posicao + 1) % len(tabela_hash)\n",
    "    \n",
    "    tabela_hash[posicao] = aluno\n",
    "\n",
    "# Inicialize a tabela hash\n",
    "tabela_hash = [None] * 10"
   ]
  },
  {
   "cell_type": "code",
   "execution_count": null,
   "id": "43e6ba74",
   "metadata": {},
   "outputs": [],
   "source": [
    "# 6 a)\n",
    "\n",
    "# Insira os alunos\n",
    "insert_with_collision_handling(tabela_hash, 101, \"A1\")\n",
    "insert_with_collision_handling(tabela_hash, 203, \"A2\")\n",
    "insert_with_collision_handling(tabela_hash, 23, \"A3\")\n",
    "insert_with_collision_handling(tabela_hash, 204, \"A4\")\n",
    "insert_with_collision_handling(tabela_hash, 3, \"A5\")\n",
    "\n",
    "# Imprima a tabela hash resultante\n",
    "for i, aluno in enumerate(tabela_hash):\n",
    "    print(f\"Posição {i}: {aluno}\")"
   ]
  },
  {
   "cell_type": "code",
   "execution_count": null,
   "id": "69514920",
   "metadata": {},
   "outputs": [],
   "source": [
    "def search_with_collision_handling(tabela_hash, chave):\n",
    "    posicao = hash_function(chave)\n",
    "    \n",
    "    # Tratamento de colisão por incremento circular para pesquisa\n",
    "    while tabela_hash[posicao] is not None:\n",
    "        if tabela_hash[posicao][0] == chave:\n",
    "            return tabela_hash[posicao][1]  # Retorna o aluno encontrado\n",
    "        posicao = (posicao + 1) % len(tabela_hash)\n",
    "    \n",
    "    return None  # Não encontrou o aluno com a matrícula especificada\n",
    "\n",
    "# Realize a pesquisa do aluno com matrícula 003\n",
    "matricula_pesquisada = 3\n",
    "aluno_encontrado = search_with_collision_handling(tabela_hash, matricula_pesquisada)\n",
    "\n",
    "# Exiba o resultado da pesquisa\n",
    "if aluno_encontrado:\n",
    "    print(f\"Aluno encontrado: {aluno_encontrado[0]}, {aluno_encontrado[1]}\")\n",
    "else:\n",
    "    print(\"Aluno com matrícula 003 não encontrado.\")"
   ]
  },
  {
   "cell_type": "markdown",
   "id": "5fe2ced4",
   "metadata": {},
   "source": [
    "A pesquisa por um aluno cuja matrícula vale 003 em uma tabela hash que utiliza a função de hash `f(chave) = chave MOD 10` com tratamento de colisão por incremento circular segue o seguinte processo:\n",
    "\n",
    "1. Calcular o índice de hash:\n",
    "   - Aplicar a função de hash `f(chave) = chave MOD 10` à matrícula 003, resultando em um índice de hash igual a 3 (003 MOD 10 = 3).\n",
    "\n",
    "2. Verificar a posição correspondente na tabela hash:\n",
    "   - A pesquisa é realizada na posição 3 da tabela hash, onde se espera encontrar o aluno com matrícula 003.\n",
    "\n",
    "3. Verificar a matrícula na posição da tabela hash:\n",
    "   - Verificar se há um aluno armazenado na posição 3 da tabela hash. Se houver, essa é a correspondência.\n",
    "   - Se não houver um aluno com matrícula 003 na posição 3, o tratamento de colisão por incremento circular é usado para verificar as posições subsequentes até encontrar o aluno desejado ou uma posição vazia.\n",
    "\n",
    "4. Realizar o tratamento de colisão por incremento circular:\n",
    "   - Inicialmente, a pesquisa verifica a posição 3, onde se encontra o aluno A5 com matrícula 003. Nesse caso, a pesquisa é bem-sucedida, e o aluno A5 é retornado como resultado da pesquisa.\n",
    "\n",
    "É importante observar que, devido ao tratamento de colisão por incremento circular, o índice de hash 3 é usado como ponto de partida, mas a pesquisa percorre as posições subsequentes da tabela hash até encontrar a correspondência correta.\n",
    "\n",
    "Esse processo de pesquisa em uma tabela hash com tratamento de colisão por incremento circular é eficaz e eficiente, desde que o número de colisões seja baixo. No caso de colisões frequentes, pode ser necessário ajustar a função de hash ou adotar outras estratégias de tratamento de colisões, como encadeamento separado ou pesquisa linear."
   ]
  },
  {
   "cell_type": "code",
   "execution_count": null,
   "id": "66c8ee2e",
   "metadata": {},
   "outputs": [],
   "source": []
  }
 ],
 "metadata": {
  "kernelspec": {
   "display_name": "Python 3 (ipykernel)",
   "language": "python",
   "name": "python3"
  },
  "language_info": {
   "codemirror_mode": {
    "name": "ipython",
    "version": 3
   },
   "file_extension": ".py",
   "mimetype": "text/x-python",
   "name": "python",
   "nbconvert_exporter": "python",
   "pygments_lexer": "ipython3",
   "version": "3.10.9"
  }
 },
 "nbformat": 4,
 "nbformat_minor": 5
}
