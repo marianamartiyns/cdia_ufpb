{
 "cells": [
  {
   "cell_type": "code",
   "execution_count": 9,
   "id": "1e7d36b2",
   "metadata": {},
   "outputs": [],
   "source": [
    "import timeit, time"
   ]
  },
  {
   "cell_type": "markdown",
   "id": "12e4239e",
   "metadata": {},
   "source": [
    "# Selection Sort\n",
    "\n",
    "Percorre a lista de elementos e seleciona o menor elemento a cada passo. E em seguida, troca esse elemento com o primeiro não ordenado."
   ]
  },
  {
   "cell_type": "code",
   "execution_count": 2,
   "id": "3c858939",
   "metadata": {},
   "outputs": [],
   "source": [
    "def select_sort(v, n):\n",
    "    \n",
    "    for i in range(n):\n",
    "        min_index = i\n",
    "        for j in range(i + 1, n):\n",
    "            if v[j] < v[min_index]:\n",
    "                min_index = j\n",
    "\n",
    "        v[i], v[min_index] = v[min_index], v[i]"
   ]
  },
  {
   "cell_type": "code",
   "execution_count": 3,
   "id": "0e481cb9",
   "metadata": {},
   "outputs": [
    {
     "name": "stdout",
     "output_type": "stream",
     "text": [
      "Vetor ordenado: [11, 12, 22, 25, 64]\n"
     ]
    }
   ],
   "source": [
    "# Exemplo de uso:\n",
    "vetor = [64, 25, 12, 22, 11]\n",
    "tamanho = len(vetor)\n",
    "\n",
    "select_sort(vetor, tamanho)\n",
    "print(\"Vetor ordenado:\", vetor)"
   ]
  },
  {
   "cell_type": "markdown",
   "id": "64b9cd65",
   "metadata": {},
   "source": [
    "#### Exemplo de algortimo e uso com os arquivos do sigaa"
   ]
  },
  {
   "cell_type": "code",
   "execution_count": 19,
   "id": "cb887444",
   "metadata": {},
   "outputs": [
    {
     "name": "stdout",
     "output_type": "stream",
     "text": [
      "Arquivo ordenado com sucesso. Resultados salvos em output_select.in\n",
      "Tempo de execução: 0.15765929222106934 segundos\n"
     ]
    }
   ],
   "source": [
    "def select_sort(v):\n",
    "    \n",
    "    n = len(v)\n",
    "    for i in range(n):\n",
    "        min_index = i\n",
    "        for j in range(i + 1, n):\n",
    "            if v[j] < v[min_index]:\n",
    "                min_index = j\n",
    "        v[i], v[min_index] = v[min_index], v[i]\n",
    "\n",
    "def main(input_file, output_file):\n",
    "    \n",
    "    try:\n",
    "        \n",
    "        with open(input_file, 'r') as file:\n",
    "            lines = file.readlines()\n",
    "\n",
    "        values = [int(line.strip()) for line in lines]\n",
    "\n",
    "        start_time = time.time() \n",
    "        select_sort(values)\n",
    "        end_time = time.time()\n",
    "\n",
    "        with open(output_file, 'w') as file:\n",
    "            for value in values:\n",
    "                file.write(str(value) + '\\n')\n",
    "\n",
    "        print(f\"Arquivo ordenado com sucesso. Resultados salvos em {output_file}\")\n",
    "        \n",
    "        execution_time = end_time - start_time\n",
    "        print(f\"Tempo de execução: {execution_time} segundos\")\n",
    "\n",
    "    except Exception as e:\n",
    "        print(f\"Ocorreu um erro: {e}\")\n",
    "\n",
    "if __name__ == \"__main__\":\n",
    "    \n",
    "    input_file = 'instancias-numericas/instancias-num/num.1000.4.in'\n",
    "    output_file = \"output_select.in\" \n",
    "    main(input_file, output_file)"
   ]
  },
  {
   "cell_type": "markdown",
   "id": "5248679c",
   "metadata": {},
   "source": [
    "**Complexidade**: O(n²), pois o algoritmo realiza uma busca no restante do vetor para encontrar o menor elemento e troca o elemento atual com o menor elemento encontrado. Logo, usamos dois loops aninhados, um dentro do outro."
   ]
  },
  {
   "cell_type": "markdown",
   "id": "fe82390b",
   "metadata": {},
   "source": [
    "#  Insertion sort\n",
    "\n",
    "Ordena a lista em ordem crescente, movendo elementos maiores para a esquerda."
   ]
  },
  {
   "cell_type": "code",
   "execution_count": 1,
   "id": "536e6a82",
   "metadata": {},
   "outputs": [],
   "source": [
    "def insertion_sort(v, n):\n",
    "    \n",
    "    for i in range(1, n):\n",
    "        chave = v[i]\n",
    "        j = i - 1\n",
    "        while j >= 0 and chave < v[j]:\n",
    "            v[j + 1] = v[j]\n",
    "            j -= 1\n",
    "        v[j + 1] = chave"
   ]
  },
  {
   "cell_type": "code",
   "execution_count": 2,
   "id": "b3507773",
   "metadata": {},
   "outputs": [
    {
     "name": "stdout",
     "output_type": "stream",
     "text": [
      "Vetor ordenado: [1, 2, 3, 5, 6, 7, 9]\n"
     ]
    }
   ],
   "source": [
    "# Exemplo de uso:\n",
    "vetor = [9, 2, 5, 1, 7, 6, 3]\n",
    "tamanho = len(vetor)\n",
    "\n",
    "insertion_sort(vetor, tamanho)\n",
    "print(\"Vetor ordenado:\", vetor)"
   ]
  },
  {
   "cell_type": "markdown",
   "id": "cd6e457e",
   "metadata": {},
   "source": [
    "#### Exemplo de algortimo e uso com os arquivos do sigaa"
   ]
  },
  {
   "cell_type": "code",
   "execution_count": 3,
   "id": "2493635e",
   "metadata": {},
   "outputs": [
    {
     "name": "stdout",
     "output_type": "stream",
     "text": [
      "Ocorreu um erro: name 'time' is not defined\n"
     ]
    }
   ],
   "source": [
    "def main(input_file, output_file):\n",
    "    \n",
    "    try:\n",
    "        \n",
    "        with open(input_file, 'r') as f:\n",
    "            lines = f.readlines()\n",
    "            n = int(lines[0])\n",
    "            v = list(map(int, lines[1:]))\n",
    "            \n",
    "        start_time = time.time() \n",
    "        insertion_sort(v, n)\n",
    "        end_time = time.time() \n",
    "\n",
    "        with open(output_file, 'w') as f:\n",
    "            f.write(str(n) + '\\n')\n",
    "            for value in v:\n",
    "                f.write(str(value) + '\\n')\n",
    "                \n",
    "\n",
    "        print(f\"Arquivo ordenado com sucesso. Resultados salvos em {output_file}\")\n",
    "        \n",
    "        execution_time = end_time - start_time\n",
    "        print(f\"Tempo de execução: {execution_time} segundos\")\n",
    "        \n",
    "    except Exception as e:\n",
    "        print(f\"Ocorreu um erro: {e}\")\n",
    "\n",
    "if __name__ == \"__main__\":\n",
    "    \n",
    "    input_file = 'instancias-numericas/instancias-num/num.1000.1.in'\n",
    "    output_file = \"output_insertion.in\" \n",
    "    main(input_file, output_file)"
   ]
  },
  {
   "cell_type": "markdown",
   "id": "e8b49db7",
   "metadata": {},
   "source": [
    "**Complexidade**: O(n²), pois, em cada iteração, ele percorre todos os elementos anteriores ao elemento atual, o que resulta em uma soma de 1 + 2 + 3 + ... + (n-1) comparações e movimentos de elementos, ou seja, uma P.A."
   ]
  },
  {
   "cell_type": "markdown",
   "id": "37471e12",
   "metadata": {},
   "source": [
    "# Merge Sort\n",
    "\n",
    "Divide a lista em pequenas partes, ordena essas partes e, em seguida, combina-as para produzir a lista ordenada final. "
   ]
  },
  {
   "cell_type": "code",
   "execution_count": 29,
   "id": "4d892639",
   "metadata": {},
   "outputs": [],
   "source": [
    "def merge(v, i, meio, f):\n",
    "    \n",
    "    n1 = meio - i + 1\n",
    "    n2 = f - meio\n",
    "\n",
    "    P1 = [0] * n1\n",
    "    P2 = [0] * n2\n",
    "\n",
    "    for k in range(n1):\n",
    "        P1[k] = v[i + k]\n",
    "    for j in range(n2):\n",
    "        P2[j] = v[meio + 1 + j]\n",
    "\n",
    "    i_temp, j_temp, k = 0, 0, i\n",
    "    while i_temp < n1 and j_temp < n2:\n",
    "        \n",
    "        if P1[i_temp] <= P2[j_temp]:\n",
    "            v[k] = P1[i_temp]\n",
    "            i_temp += 1\n",
    "            \n",
    "        else:\n",
    "            v[k] = P2[j_temp]\n",
    "            j_temp += 1\n",
    "        k += 1\n",
    "\n",
    "    # Copiar os elementos restantes de P1[], se houver algum\n",
    "    while i_temp < n1:\n",
    "        v[k] = P1[i_temp]\n",
    "        i_temp += 1\n",
    "        k += 1\n",
    "\n",
    "    # Copiar os elementos restantes de P2[], se houver algum\n",
    "    while j_temp < n2:\n",
    "        v[k] = P2[j_temp]\n",
    "        j_temp += 1\n",
    "        k += 1\n",
    "        \n",
    "def merge_sort(v, i, f):\n",
    "        \n",
    "    if i < f:\n",
    "        meio = (i + f) // 2\n",
    "        merge_sort(v, i, meio)\n",
    "        merge_sort(v, meio + 1, f)\n",
    "        merge(v, i, meio, f)"
   ]
  },
  {
   "cell_type": "code",
   "execution_count": 30,
   "id": "74ec22e9",
   "metadata": {},
   "outputs": [
    {
     "name": "stdout",
     "output_type": "stream",
     "text": [
      "Vetor ordenado: [5, 6, 7, 11, 12, 13]\n"
     ]
    }
   ],
   "source": [
    "# Exemplo de uso\n",
    "vetor = [12, 11, 13, 5, 6, 7]\n",
    "#f = len(vetor) - 1\n",
    "\n",
    "merge_sort(vetor, 0, len(vetor) - 1)\n",
    "print(\"Vetor ordenado:\", vetor)"
   ]
  },
  {
   "cell_type": "markdown",
   "id": "3ad3c9bd",
   "metadata": {},
   "source": [
    "#### Exemplo de algortimo e uso com os arquivos do sigaa"
   ]
  },
  {
   "cell_type": "code",
   "execution_count": 36,
   "id": "d727cc3f",
   "metadata": {},
   "outputs": [
    {
     "name": "stdout",
     "output_type": "stream",
     "text": [
      "Tempo de execução: 0.0026187896728515625 segundos\n",
      "Arquivo ordenado com sucesso. Resultados salvos em output_merge.in\n"
     ]
    }
   ],
   "source": [
    "def merge_sort_file(input_file, output_file):\n",
    "    \n",
    "    try:\n",
    "        with open(input_file, 'r') as file:\n",
    "            lines = file.readlines()\n",
    "            vetor = [int(line.strip()) for line in lines]\n",
    "\n",
    "        start_time = time.time()\n",
    "        merge_sort(vetor, 0, len(vetor) - 1)\n",
    "        end_time = time.time()\n",
    "\n",
    "        with open(output_file, 'w') as file:\n",
    "            for num in vetor:\n",
    "                file.write(str(num) + '\\n')\n",
    "\n",
    "        execution_time = end_time - start_time\n",
    "        print(f\"Tempo de execução: {execution_time} segundos\")\n",
    "        \n",
    "    except Exception as e:\n",
    "        print(f\"Ocorreu um erro: {e}\")\n",
    "\n",
    "if __name__ == \"__main__\":\n",
    "    \n",
    "    input_filename = \"instancias-numericas/instancias-num/num.1000.3.in\"\n",
    "    output_filename = \"output_merge.in\"\n",
    "    \n",
    "    merge_sort_file(input_filename, output_filename)\n",
    "    print(\"Arquivo ordenado com sucesso. Resultados salvos em\", output_filename)"
   ]
  },
  {
   "cell_type": "markdown",
   "id": "03e622ad",
   "metadata": {},
   "source": [
    "**Complexidade** : O(n log n) pois, nesse caso, dividimos para conquistar. \n",
    "\n",
    "O algoritmo divide repetidamente o vetor em duas metades e combina essas metades de maneira ordenada. A divisão ocorre até que o tamanho do subvetor seja reduzido a 1, o que é um processo que requer log2(n) etapas. Em cada etapa, ocorre uma junção das partes, resultando em um tempo total de O(n log n)."
   ]
  },
  {
   "cell_type": "markdown",
   "id": "274c0973",
   "metadata": {},
   "source": [
    "## Comparação do tempo de execução dos algoritmos com o arquivo **'num.1000.3.in'** \n",
    "\n",
    "Select_sort : *0.15765929222106934* segundos <br>\n",
    "Insert_sort : *0.1429891586303711* segundos <br>\n",
    "Merge_sort :  *0.0026187896728515625* segundos\n",
    "\n",
    "O Merge Sort é muito mais eficiente, especialmente para entradas maiores. Justamente pela sua forma de ordenação. (Divide para consquistar)"
   ]
  },
  {
   "cell_type": "code",
   "execution_count": null,
   "id": "8f5ef035",
   "metadata": {},
   "outputs": [],
   "source": []
  }
 ],
 "metadata": {
  "kernelspec": {
   "display_name": "Python 3 (ipykernel)",
   "language": "python",
   "name": "python3"
  },
  "language_info": {
   "codemirror_mode": {
    "name": "ipython",
    "version": 3
   },
   "file_extension": ".py",
   "mimetype": "text/x-python",
   "name": "python",
   "nbconvert_exporter": "python",
   "pygments_lexer": "ipython3",
   "version": "3.10.9"
  }
 },
 "nbformat": 4,
 "nbformat_minor": 5
}
